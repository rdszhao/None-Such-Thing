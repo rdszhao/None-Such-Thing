{
 "cells": [
  {
   "cell_type": "markdown",
   "metadata": {},
   "source": [
    "# None Such Thing: Listening Habits\n",
    "### Do all Kevin Nguyens listen to Illenium, or am I just racist?"
   ]
  },
  {
   "cell_type": "markdown",
   "metadata": {},
   "source": [
    "If you grew up part of the Asian-American generation Z like me, there's a good chance you're aware of the stereotype of _Kevin Nguyen_. He drives a Civic, probably juuls, definitely listens to Illenium and pretends to like Travis Scott. But how true is this? Let's find out! "
   ]
  },
  {
   "cell_type": "markdown",
   "metadata": {},
   "source": [
    "#### The Game Plan"
   ]
  },
  {
   "cell_type": "markdown",
   "metadata": {},
   "source": [
    "Let's set the ground rules before we dive in. To ascertain this information, we're going to need address the first part of our question: Do all Kevin Nguyens listen to Illenium? This is kind of tough. Spotify doesn't give us external access to a user's `liked` songs or listening history, so we'll use what we can get. We're going to aggregate _all_ the songs that each Kevin Nguyen has on _all_ his playlists. After all, if a song is on a playlist, he probably likes it in some way, even if it is ironically. But then again, who likes Illenium unironically? Joking."
   ]
  },
  {
   "cell_type": "markdown",
   "metadata": {},
   "source": [
    "Most of this will be done with the aid of `spotipy`, a lightweight Python wrapper for the Spotify Web API."
   ]
  },
  {
   "cell_type": "markdown",
   "metadata": {},
   "source": [
    "The initial setup is kind of tedious. To use the Client Credientials Flow, You need to register as a Spotify developer and obtain a `client id` and a `client secret`. This allows a higher throughput of requests that can be put to Spotify than the regular Authorization Code Flow. Not that we really need it. But this is actually registered as a Spotify app. Isn't life rich?"
   ]
  },
  {
   "cell_type": "code",
   "execution_count": 5,
   "metadata": {},
   "outputs": [],
   "source": [
    "# set up the client id and secret\n",
    "import os\n",
    "os.environ[\"SPOTIPY_CLIENT_ID\"] = \"f09ddc90842441e68107eb66ef178403\"\n",
    "os.environ[\"SPOTIPY_CLIENT_SECRET\"] = \"316d709c188f48ac9d9152fed07f4de7\"\n"
   ]
  },
  {
   "cell_type": "markdown",
   "metadata": {},
   "source": [
    "Yes, I made both public on this notebook. No, I don't care."
   ]
  },
  {
   "cell_type": "code",
   "execution_count": 9,
   "metadata": {},
   "outputs": [],
   "source": [
    "# import the libraries and start the real work\n",
    "import spotipy\n",
    "from spotipy.oauth2 import SpotifyOAuth\n",
    "\n",
    "auth_manager = SpotifyClientCredentials()\n",
    "client = spotipy.Spotify(auth_manager=auth_manager)"
   ]
  },
  {
   "cell_type": "markdown",
   "metadata": {},
   "source": [
    "### 1. Getting Comfortable With Spotipy"
   ]
  },
  {
   "cell_type": "markdown",
   "metadata": {},
   "source": [
    "To get our feet wet, let's find out all of Illenium's albums and his top 10 songs."
   ]
  },
  {
   "cell_type": "code",
   "execution_count": 24,
   "metadata": {},
   "outputs": [],
   "source": [
    "illenium = 'spotify:artist:45eNHdiiabvmbp4erw26rg'\n",
    "albums = client.artist_albums(illenium, album_type='album')['items']\n",
    "songs = client.artist_top_tracks(illenium)['tracks']"
   ]
  },
  {
   "cell_type": "code",
   "execution_count": 25,
   "metadata": {},
   "outputs": [
    {
     "name": "stdout",
     "output_type": "stream",
     "text": [
      "ASCEND (Remixes)\n",
      "ASCEND\n",
      "Awake (Remixes)\n",
      "Awake\n",
      "Ashes (Remixes)\n",
      "Ashes\n"
     ]
    }
   ],
   "source": [
    "for album in albums:\n",
    "    print(album['name'])"
   ]
  },
  {
   "cell_type": "code",
   "execution_count": 30,
   "metadata": {},
   "outputs": [
    {
     "name": "stdout",
     "output_type": "stream",
     "text": [
      "Takeaway\n",
      "In Your Arms (with X Ambassadors)\n",
      "Nightlight\n",
      "Feel Good (feat. Daya)\n",
      "Good Things Fall Apart (with Jon Bellion)\n",
      "Don't Let Me Down (feat. Daya) - Illenium Remix\n",
      "Good Things Fall Apart (with Jon Bellion) [Tiësto's Big Room Remix]\n",
      "Feel Something (With I Prevail)\n",
      "Crashing (feat. Bahari)\n",
      "Without Me - ILLENIUM Remix\n"
     ]
    }
   ],
   "source": [
    "for song in songs:\n",
    "    print(song['name'])"
   ]
  },
  {
   "cell_type": "markdown",
   "metadata": {},
   "source": [
    "Why is the Tiësto remix here. Gross. The original is so much better. Anyways, I digress. Now that we've got the hang of working with artists, lets get to the meat: profiles."
   ]
  },
  {
   "cell_type": "markdown",
   "metadata": {},
   "source": [
    "### 2. Working With Profiles"
   ]
  },
  {
   "cell_type": "markdown",
   "metadata": {},
   "source": [
    "A quick search in the web player for \"Kevin Nguyen\" is a good starting point."
   ]
  },
  {
   "cell_type": "markdown",
   "metadata": {},
   "source": [
    "![title](pictures/nguyens.png)\n",
    "<center>Wow. That is a lot of Kevin Nguyens. The full list actually goes down for miles, my lord."
   ]
  },
  {
   "cell_type": "markdown",
   "metadata": {},
   "source": [
    "Let's work with the first guy. Nothing personal, kid."
   ]
  },
  {
   "cell_type": "code",
   "execution_count": 37,
   "metadata": {},
   "outputs": [
    {
     "name": "stdout",
     "output_type": "stream",
     "text": [
      "dict_keys(['display_name', 'external_urls', 'followers', 'href', 'id', 'images', 'type', 'uri'])\n"
     ]
    }
   ],
   "source": [
    "user_id = 'kevin.nguyen9852'\n",
    "user = sp.user(user_id)\n",
    "print(user.keys())"
   ]
  },
  {
   "cell_type": "markdown",
   "metadata": {},
   "source": [
    "Huh. So on first glance, it seems like Spotify doesn't allow us explicit access to their playlists."
   ]
  },
  {
   "cell_type": "markdown",
   "metadata": {},
   "source": [
    "We still have access to all the urls, though, so let's just play it by ear for the moment. Clicking through, we find what is probably the most Kevin Nguyen set of playlists to have ever Kevin Nguyened."
   ]
  },
  {
   "cell_type": "markdown",
   "metadata": {},
   "source": [
    "![title](pictures/glock_brian.png)"
   ]
  },
  {
   "cell_type": "markdown",
   "metadata": {},
   "source": [
    "Rich Brian with the strap is the best thing on this page. Let's take a look at who he's bumping."
   ]
  },
  {
   "cell_type": "code",
   "execution_count": 101,
   "metadata": {},
   "outputs": [],
   "source": [
    "# define a function that extracts all the artists from a playlist\n",
    "from collections import Counter\n",
    "\n",
    "def get_artists(playlist_id: str) -> Counter:\n",
    "    playlist = client.playlist(playlist_id=playlist_id)\n",
    "    tracks = playlist['tracks']['items']\n",
    "    artists = Counter()\n",
    "    for track in tracks:\n",
    "        artists.update(artist['name'] for artist in track['track']['artists'])\n",
    "    return artists"
   ]
  },
  {
   "cell_type": "code",
   "execution_count": 103,
   "metadata": {},
   "outputs": [
    {
     "data": {
      "text/plain": [
       "Counter({'Kid Trunks': 5,\n",
       "         'Bass Santana': 11,\n",
       "         'Kin$oul': 6,\n",
       "         'XXXTENTACION': 8,\n",
       "         'Cooliecut': 1,\n",
       "         'Flyboy Taratino': 1,\n",
       "         'Smokepurpp': 9,\n",
       "         'Rich Brian': 1,\n",
       "         'Keith Ape': 2,\n",
       "         'Travis Scott': 1,\n",
       "         'Fat Nick': 3,\n",
       "         'Pouya': 12,\n",
       "         '$uicideBoy$': 43,\n",
       "         'Sir Michael Rocks': 1,\n",
       "         'Robb Bank$': 3,\n",
       "         'Lil Pump': 2,\n",
       "         'Lil Xan': 4,\n",
       "         'Ski Mask The Slump God': 7,\n",
       "         'Shakewell': 5,\n",
       "         'Flyboy Tarantino': 2,\n",
       "         'Killstation': 2,\n",
       "         'ikabodVEINS': 1,\n",
       "         'Lxui Savage': 2,\n",
       "         'Ghostemane': 2,\n",
       "         'Nefariou$': 1,\n",
       "         'Craig Xen': 1,\n",
       "         'Maxo Cream': 1,\n",
       "         'Germ': 4,\n",
       "         'RAMIREZ': 2,\n",
       "         'Demotus': 2,\n",
       "         'Kirb La Goop': 1,\n",
       "         'Lil Peep': 2,\n",
       "         'Lil Tracy': 1,\n",
       "         'Trippie Redd': 3,\n",
       "         '6ix9ine': 1,\n",
       "         'Erick the Architect': 1,\n",
       "         'Trippy tha Kid': 1,\n",
       "         'hollow': 1,\n",
       "         'bbno$': 1})"
      ]
     },
     "execution_count": 103,
     "metadata": {},
     "output_type": "execute_result"
    }
   ],
   "source": [
    "mitre_10_id = '5EbNNdQvJ8U4TyuqetE5pY?si=wHISzC8XTBOIbsJ0oRB7yQ'\n",
    "get_artists(mitre_10_id)"
   ]
  },
  {
   "cell_type": "markdown",
   "metadata": {},
   "source": [
    "Wow. This dude loves SuicideBoyS. No judgement, though."
   ]
  },
  {
   "cell_type": "markdown",
   "metadata": {},
   "source": [
    "### 3. Scraping the Barrel"
   ]
  },
  {
   "cell_type": "markdown",
   "metadata": {},
   "source": [
    "So we have a problem. Spotify doesn't explicitly link a user and his playlists, which means we'll have to manually get the playlists for each user by using a scraper."
   ]
  },
  {
   "cell_type": "markdown",
   "metadata": {},
   "source": []
  }
 ],
 "metadata": {
  "kernelspec": {
   "display_name": "Python 3",
   "language": "python",
   "name": "python3"
  },
  "language_info": {
   "codemirror_mode": {
    "name": "ipython",
    "version": 3
   },
   "file_extension": ".py",
   "mimetype": "text/x-python",
   "name": "python",
   "nbconvert_exporter": "python",
   "pygments_lexer": "ipython3",
   "version": "3.6.9"
  }
 },
 "nbformat": 4,
 "nbformat_minor": 4
}
