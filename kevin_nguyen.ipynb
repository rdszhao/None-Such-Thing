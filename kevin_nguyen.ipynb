{
 "cells": [
  {
   "cell_type": "markdown",
   "metadata": {},
   "source": [
    "# None Such Thing: Listening Habits\n",
    "### Do all Kevin Nguyens listen to Illenium, or am I just racist?"
   ]
  },
  {
   "cell_type": "markdown",
   "metadata": {},
   "source": [
    "If you grew up part of the Asian-American generation Z like me, there's a good chance you're aware of the stereotype of _Kevin Nguyen_. He drives a Civic, probably juuls, definitely listens to Illenium and pretends to like Travis Scott. But how true is this? Let's find out! "
   ]
  },
  {
   "cell_type": "markdown",
   "metadata": {},
   "source": [
    "#### The Game Plan"
   ]
  },
  {
   "cell_type": "markdown",
   "metadata": {},
   "source": [
    "Let's set the ground rules before we dive in. To ascertain this information, we're going to need address the first part of our question: Do all Kevin Nguyens listen to Illenium? This is kind of tough. Spotify doesn't give us external access to a user's `liked` songs or listening history, so we'll use what we can get. We're going to aggregate _all_ the songs that each Kevin Nguyen has on _all_ his playlists. After all, if a song is on a playlist, he probably likes it in some way, even if it is ironically. But then again, who likes Illenium unironically? Joking."
   ]
  },
  {
   "cell_type": "markdown",
   "metadata": {},
   "source": [
    "Most of this will be done with the aid of `spotipy`, a lightweight Python wrapper for the Spotify Web API."
   ]
  },
  {
   "cell_type": "markdown",
   "metadata": {},
   "source": [
    "The initial setup is kind of tedious. To use the Client Credientials Flow, You need to register as a Spotify developer and obtain a `client id` and a `client secret`. This allows a higher throughput of requests that can be put to Spotify than the regular Authorization Code Flow. Not that we really need it. But this is actually registered as a Spotify app. Isn't life rich?"
   ]
  },
  {
   "cell_type": "code",
   "execution_count": 5,
   "metadata": {},
   "outputs": [],
   "source": [
    "# set up the client id and secret\n",
    "import os\n",
    "os.environ[\"SPOTIPY_CLIENT_ID\"] = \"f09ddc90842441e68107eb66ef178403\"\n",
    "os.environ[\"SPOTIPY_CLIENT_SECRET\"] = \"316d709c188f48ac9d9152fed07f4de7\"\n"
   ]
  },
  {
   "cell_type": "markdown",
   "metadata": {},
   "source": [
    "Yes, I made both public on this notebook. No, I don't care."
   ]
  },
  {
   "cell_type": "code",
   "execution_count": 247,
   "metadata": {},
   "outputs": [],
   "source": [
    "# import the libraries and start the real work\n",
    "import spotipy\n",
    "from spotipy.oauth2 import SpotifyOAuth\n",
    "\n",
    "auth_manager = SpotifyClientCredentials()\n",
    "client = spotipy.Spotify(auth_manager=auth_manager)"
   ]
  },
  {
   "cell_type": "markdown",
   "metadata": {},
   "source": [
    "***"
   ]
  },
  {
   "cell_type": "markdown",
   "metadata": {},
   "source": [
    "### 1. Getting Comfortable With Spotipy"
   ]
  },
  {
   "cell_type": "markdown",
   "metadata": {},
   "source": [
    "To get our feet wet, let's find out all of Illenium's albums and his top 10 songs."
   ]
  },
  {
   "cell_type": "code",
   "execution_count": 24,
   "metadata": {},
   "outputs": [],
   "source": [
    "illenium = 'spotify:artist:45eNHdiiabvmbp4erw26rg'\n",
    "albums = client.artist_albums(illenium, album_type='album')['items']\n",
    "songs = client.artist_top_tracks(illenium)['tracks']"
   ]
  },
  {
   "cell_type": "code",
   "execution_count": 25,
   "metadata": {},
   "outputs": [
    {
     "name": "stdout",
     "output_type": "stream",
     "text": [
      "ASCEND (Remixes)\n",
      "ASCEND\n",
      "Awake (Remixes)\n",
      "Awake\n",
      "Ashes (Remixes)\n",
      "Ashes\n"
     ]
    }
   ],
   "source": [
    "for album in albums:\n",
    "    print(album['name'])"
   ]
  },
  {
   "cell_type": "code",
   "execution_count": 30,
   "metadata": {},
   "outputs": [
    {
     "name": "stdout",
     "output_type": "stream",
     "text": [
      "Takeaway\n",
      "In Your Arms (with X Ambassadors)\n",
      "Nightlight\n",
      "Feel Good (feat. Daya)\n",
      "Good Things Fall Apart (with Jon Bellion)\n",
      "Don't Let Me Down (feat. Daya) - Illenium Remix\n",
      "Good Things Fall Apart (with Jon Bellion) [Tiësto's Big Room Remix]\n",
      "Feel Something (With I Prevail)\n",
      "Crashing (feat. Bahari)\n",
      "Without Me - ILLENIUM Remix\n"
     ]
    }
   ],
   "source": [
    "for song in songs:\n",
    "    print(song['name'])"
   ]
  },
  {
   "cell_type": "markdown",
   "metadata": {},
   "source": [
    "Why is the Tiësto remix here. Gross. The original is so much better. Anyways, I digress. Now that we've got the hang of working with artists, lets get to the meat: profiles."
   ]
  },
  {
   "cell_type": "markdown",
   "metadata": {},
   "source": [
    "### 2. Working With Profiles"
   ]
  },
  {
   "cell_type": "markdown",
   "metadata": {},
   "source": [
    "A quick search in the web player for \"Kevin Nguyen\" is a good starting point."
   ]
  },
  {
   "cell_type": "markdown",
   "metadata": {},
   "source": [
    "![title](pictures/nguyens.png)\n",
    "<center>Wow. That is a lot of Kevin Nguyens. The full list actually goes down for miles, my lord."
   ]
  },
  {
   "cell_type": "markdown",
   "metadata": {},
   "source": [
    "Let's work with the first guy. Nothing personal, kid."
   ]
  },
  {
   "cell_type": "code",
   "execution_count": 37,
   "metadata": {},
   "outputs": [
    {
     "name": "stdout",
     "output_type": "stream",
     "text": [
      "dict_keys(['display_name', 'external_urls', 'followers', 'href', 'id', 'images', 'type', 'uri'])\n"
     ]
    }
   ],
   "source": [
    "user_id = 'kevin.nguyen9852'\n",
    "user = sp.user(user_id)\n",
    "print(user.keys())"
   ]
  },
  {
   "cell_type": "markdown",
   "metadata": {},
   "source": [
    "Huh. So on first glance, it seems like Spotify doesn't allow us explicit access to their playlists."
   ]
  },
  {
   "cell_type": "markdown",
   "metadata": {},
   "source": [
    "We still have access to all the urls, though, so let's just play it by ear for the moment. Clicking through, we find what is probably the most Kevin Nguyen set of playlists to have ever Kevin Nguyened."
   ]
  },
  {
   "cell_type": "markdown",
   "metadata": {},
   "source": [
    "![title](pictures/glock_brian.png)"
   ]
  },
  {
   "cell_type": "markdown",
   "metadata": {},
   "source": [
    "Rich Brian with the strap is the best thing on this page. Let's take a look at who he's bumping."
   ]
  },
  {
   "cell_type": "code",
   "execution_count": 122,
   "metadata": {},
   "outputs": [],
   "source": [
    "# define a function that extracts all the artists from a playlist\n",
    "from collections import Counter\n",
    "\n",
    "# create a playlist class that makes things a little easier\n",
    "class playlist:\n",
    "    def __init__(self, playlist_id, head=client):\n",
    "        self.obj = head.playlist(playlist_id=playlist_id)\n",
    "        self.name = self.obj['name']\n",
    "    \n",
    "    def artists(self):\n",
    "        tracks = self.obj['tracks']['items']\n",
    "        artists = Counter()\n",
    "        for track in tracks:\n",
    "            artists.update(artist['name'] for artist in track['track']['artists'])\n",
    "        return artists"
   ]
  },
  {
   "cell_type": "code",
   "execution_count": 218,
   "metadata": {
    "scrolled": true
   },
   "outputs": [],
   "source": [
    "from IPython.core.display import HTML\n",
    "style = \"\"\"\n",
    "<style>\n",
    "div.output_area {\n",
    "    overflow-y: scroll;\n",
    "}\n",
    "div.output_area img {\n",
    "    max-width: unset;\n",
    "}\n",
    "</style>\n",
    "\"\"\""
   ]
  },
  {
   "cell_type": "code",
   "execution_count": 246,
   "metadata": {},
   "outputs": [
    {
     "data": {
      "text/plain": [
       "(\"2000's\",\n",
       " [('$uicideBoy$', 43),\n",
       "  ('Pouya', 12),\n",
       "  ('Bass Santana', 11),\n",
       "  ('Smokepurpp', 9),\n",
       "  ('XXXTENTACION', 8),\n",
       "  ('Ski Mask The Slump God', 7),\n",
       "  ('Kin$oul', 6),\n",
       "  ('Kid Trunks', 5),\n",
       "  ('Shakewell', 5),\n",
       "  ('Lil Xan', 4)])"
      ]
     },
     "execution_count": 246,
     "metadata": {},
     "output_type": "execute_result"
    }
   ],
   "source": [
    "mitre_10_id = '5EbNNdQvJ8U4TyuqetE5pY?si=wHISzC8XTBOIbsJ0oRB7yQ'\n",
    "mitre_10 = playlist(mitre_10_id)\n",
    "mitre_10.name, mitre_10.artists().most_common(10)"
   ]
  },
  {
   "cell_type": "markdown",
   "metadata": {},
   "source": [
    "Wow. This dude loves SuicideBoyS. No judgement, though."
   ]
  },
  {
   "cell_type": "markdown",
   "metadata": {},
   "source": [
    "***"
   ]
  },
  {
   "cell_type": "markdown",
   "metadata": {},
   "source": [
    "### 3. Just One Kevin"
   ]
  },
  {
   "cell_type": "markdown",
   "metadata": {},
   "source": [
    "So we have a problem. Spotify doesn't explicitly link a user and his playlists, which means we'll have to manually get the playlists for each user by using a scraper."
   ]
  },
  {
   "cell_type": "markdown",
   "metadata": {},
   "source": [
    "From there, we aggregate all the artists he has on a playlist, for _every_ playlist."
   ]
  },
  {
   "cell_type": "markdown",
   "metadata": {},
   "source": [
    "We're going to use `Beautiful Soup`, a web scraping and html parsing library alongside a `Selenium` web driver. `Selenium` might feel like a bit of overkill, but it'll come in useful little later on. For now, we should be able to do this pretty handily."
   ]
  },
  {
   "cell_type": "code",
   "execution_count": 252,
   "metadata": {},
   "outputs": [],
   "source": [
    "from urllib.request import urlopen\n",
    "from bs4 import BeautifulSoup as bs\n",
    "import ssl"
   ]
  },
  {
   "cell_type": "markdown",
   "metadata": {},
   "source": [
    "Since the API actually provides no information from the `profile` object, we're actually only going to need the url for the profile, and not the id. From there, we scrape the urls of all his playlists from the source code, and go from there."
   ]
  },
  {
   "cell_type": "code",
   "execution_count": 253,
   "metadata": {},
   "outputs": [],
   "source": [
    "# returns a bs object given a url\n",
    "def url_process(url):\n",
    "    raw = urlopen(url, context=ssl.SSLContext())\n",
    "    return bs(raw, 'lxml')\n",
    "\n",
    "# tag extraction given a soup obj\n",
    "def soupify(url, *tags, to_text=True, normalize=True, **attributes):\n",
    "    findings = url_process(url).find_all(*tags, **attributes)\n",
    "    if to_text:\n",
    "        findings = [result.get_text() for result in findings]\n",
    "        if normalize:\n",
    "            findings = list(filter(None, [element.strip() for element in findings]))\n",
    "    return findings"
   ]
  },
  {
   "cell_type": "code",
   "execution_count": 254,
   "metadata": {
    "scrolled": true
   },
   "outputs": [
    {
     "data": {
      "text/plain": [
       "[<html class=\"no-css3-filters no-focus-outline\" dir=\"ltr\" lang=\"en\"><head><meta charset=\"utf-8\"/><title>Kevin Nguyen on Spotify</title><meta content=\"Kevin Nguyen, a user on Spotify\" name=\"description\"/><meta content=\"Kevin Nguyen\" property=\"og:title\"/><meta content=\"Kevin Nguyen, a user on Spotify\" property=\"og:description\"/><meta content=\"profile\" property=\"og:type\"/><meta content=\"https://i.scdn.co/image/ab6775700000ee85531dbdce612ad7a5e374f750\" property=\"og:image\"/><meta content=\"https://open.spotify.com/user/kevin.nguyen9852\" property=\"og:url\"/><meta content=\"kevin.nguyen9852\" property=\"profile:username\"/><meta content=\"summary\" property=\"twitter:card\"/><meta content=\"@spotify\" property=\"twitter:site\"/><meta content=\"Kevin Nguyen\" property=\"twitter:title\"/><meta content=\"Kevin Nguyen, a user on Spotify\" property=\"twitter:description\"/><meta content=\"https://i.scdn.co/image/ab6775700000ee85531dbdce612ad7a5e374f750\" property=\"twitter:image\"/><meta content=\"Spotify\" property=\"al:android:app_name\"/><meta content=\"com.spotify.music\" property=\"al:android:package\"/><meta content=\"spotify://user/kevin.nguyen9852\" property=\"al:android:url\"/><meta content=\"Spotify\" property=\"al:ios:app_name\"/><meta content=\"324684580\" property=\"al:ios:app_store_id\"/><meta content=\"spotify://user/kevin.nguyen9852\" property=\"al:ios:url\"/><meta content=\"Spotify\" property=\"og:site_name\"/><meta content=\"notranslate\" property=\"google\"/><meta content=\"174829003346\" property=\"fb:app_id\"/><link href=\"https://open.spotify.com/user/kevin.nguyen9852\" rel=\"canonical\"/><link href=\"android-app://com.spotify.music/spotify/user/kevin.nguyen9852\" rel=\"alternate\"/><!-- invalid schema_extras --><meta content=\"width=device-width,initial-scale=1,maximum-scale=1,viewport-fit=cover\" name=\"viewport\"/><script id=\"config\" type=\"application/json\">\n",
       " \t\t\t\t\t{\"app_name\":\"open_page\",\"isAnonymous\":true}\n",
       " \t\t\t\t</script><script src=\"https://open.scdn.co/cdn/js/boot.47fcc775.js\"></script><script id=\"baba\" type=\"application/json\">[]</script><script src=\"https://open.scdn.co/cdn/js/gtag.9a59c379.js\"></script><script id=\"fb-pixel\" type=\"application/json\">{\"url\":\"https://open.scdn.co/cdn/js/fb.83cf1e53.js\"}</script><script async=\"\" src=\"https://www.googletagmanager.com/gtag/js?id=UA-5784146-31\"></script><link href=\"https://open.scdn.co/cdn/build/open/open.14d9ffc0.css\" rel=\"stylesheet\"/><style type=\"text/css\"></style><link href=\"https://open.scdn.co/cdn/images/favicon.0c211e2e.png \" rel=\"icon\"/><link href=\"https://open.scdn.co/cdn/images/touch-icon-144.36faaf96.png\" rel=\"apple-touch-icon-precomposed\" sizes=\"144x144\"/><link href=\"https://open.scdn.co/cdn/images/touch-icon-114.0d424df2.png\" rel=\"apple-touch-icon-precomposed\" sizes=\"114x114\"/><link href=\"https://open.scdn.co/cdn/images/touch-icon-72.cffecbdb.png\" rel=\"apple-touch-icon-precomposed\" sizes=\"72x72\"/><link href=\"https://open.scdn.co/cdn/images/touch-icon-57.5460f415.png\" rel=\"apple-touch-icon-precomposed\"/></head><body id=\"body\"><script async=\"\" id=\"cidsyncjs\" src=\"https://pixel-static.spotify.com/sync.min.js\"></script><noscript><img alt=\"\" height=\"0\" id=\"cidmgmt\" src=\"https://pixel.spotify.com/v1/sync?nojs=1\" style=\"display: none;\" width=\"0\"/></noscript><div class=\"page\"><script>\n",
       " (function() {\n",
       "     var setFont = function() {\n",
       "         document.documentElement.className += ' fonts-loaded';\n",
       "     };\n",
       "     if (document.fonts && document.fonts.load) {\n",
       "         var fontsToLoad = ['200 1em \\'spotify-circular\\'', '600 1em \\'spotify-circular\\''];\n",
       " \n",
       "         \n",
       "         \n",
       "         \n",
       "         Promise.all(\n",
       "             fontsToLoad.map(function(font) {\n",
       "                 return document.fonts.load(font);\n",
       "             })\n",
       "         ).then(setFont).catch(setFont);\n",
       "     } else {\n",
       "         setFont();\n",
       "     }\n",
       " })();\n",
       " </script><svg style=\"display:none\" xmlns=\"http://www.w3.org/2000/svg\"><symbol id=\"spotify-logo\" viewbox=\"0 0 1000 300\"><path d=\"M8 147C8 65 73 0 155 0s148 65 148 147-66 148-148 148S8 229 8 147zm202 69c10 6 20-10 10-16-39-24-88-30-144-17-12 3-7 21 5 18 51-12 94-6 129 15zm15-40c13 8 25-11 12-19-46-28-112-36-166-20-14 4-7 26 7 22 47-14 107-7 147 17zM71 113c45-14 124-10 172 18 15 9 29-15 14-24-55-33-142-36-194-20-17 5-9 31 8 26zm308 4c0 9 4 13 30 19 31 8 44 19 44 40 0 25-19 42-49 42-21 0-40-8-56-22-1-1-1-1 0-2l14-17c1-1 1-1 2 0 14 12 26 17 41 17 13 0 22-6 22-15 0-8-5-13-29-19-29-7-45-16-45-41 0-24 19-40 47-40 19 0 35 5 49 16 1 1 1 2 0 3l-13 17c0 1-1 2-2 1-12-9-23-14-35-14s-20 7-20 15zm109 9c9-10 19-15 32-15 24 0 48 18 48 53s-24 54-48 54c-13 0-23-5-32-15v41c0 1-1 2-2 2h-22c-1 0-2-1-2-2V115c0-1 1-2 2-2h22c1 0 2 1 2 2v11zm27 69c16 0 27-13 27-31s-11-30-27-30-27 13-27 30 11 31 27 31zm60-30c0-30 24-54 55-54s55 23 55 53-24 54-55 54-55-23-55-53zm27-1c0 17 12 31 28 31 17 0 29-12 29-30 0-17-13-31-29-31s-28 12-28 30zm128 54c-20 0-31-10-31-31v-51h-11c-1 0-1-1-1-2v-19c0-1 0-2 1-2h11V87c0-1 1-1 2-1h23c1 0 2 0 2 1v26h25c1 0 1 1 1 2v19c0 1 0 2-1 2h-25v47c0 7 3 11 10 11 3 0 16-4 16-2v19c0 5-17 7-22 7zM865 78v19c0 3-12-1-15-1-8 0-12 5-12 14v3h39c1 0 2 0 2 1l27 70 24-70c0-1 1-1 2-1h23c1 0 2 1 2 2l-40 103c-8 21-17 29-34 29-3 0-27-4-25-9l7-17c0-1 2-2 3-1 4 2 8 4 12 4 5 0 9-2 13-10l-33-78h-21v78c0 1-1 2-2 2h-23c-1 0-1-1-1-2v-78h-11c-1 0-2-1-2-2v-20c0-1 1-1 2-1h11v-5c0-22 11-34 32-34 7 0 20 1 20 4zm-100 35h23c1 0 1 1 1 2v99c0 1 0 2-1 2h-23c-1 0-2-1-2-2v-99c0-1 1-2 2-2zm-5-29c0-9 7-16 16-16s17 7 17 16-8 16-17 16-16-7-16-16zm200 45c0-9 7-16 16-16s17 7 17 16-8 16-17 16-16-7-16-16zm2 0c0 8 6 14 14 14s15-6 15-14-7-15-15-15-14 7-14 15zm23 8h-4l-4-6h-4v6h-3v-17h7c4 0 7 2 7 5s-2 4-4 5zm-12-14v5h4c2 0 4-1 4-3s-2-2-4-2h-4z\" fill=\"currentColor\"></path></symbol><symbol id=\"icon-play\" viewbox=\"0 0 85 100\"><path d=\"M81 44.6c5 3 5 7.8 0 10.8L9 98.7c-5 3-9 .7-9-5V6.3c0-5.7 4-8 9-5l72 43.3z\" fill=\"currentColor\"></path></symbol><symbol id=\"icon-pause\" viewbox=\"0 0 60 100\"><path d=\"M0 8c0-5 3-8 8-8s9 3 9 8v84c0 5-4 8-9 8s-8-3-8-8V8zm43 0c0-5 3-8 8-8s8 3 8 8v84c0 5-3 8-8 8s-8-3-8-8V8z\" fill=\"currentColor\"></path></symbol><symbol id=\"icon-explicit\" viewbox=\"0 0 20 20\"><path d=\"M9 9V7h4V5H7v10h6v-2H9v-2h4V9H9zM0 2.994C0 1.34 1.343 0 2.994 0h14.012C18.66 0 20 1.343 20 2.994v14.012C20 18.66 18.657 20 17.006 20H2.994C1.34 20 0 18.657 0 17.006V2.994z\" fill=\"currentColor\"></path></symbol><symbol id=\"icon-close\" viewbox=\"0 0 2016 2016\"><path d=\"M1681 1512q35 35 35 84.5t-35 84.5-84.5 35-84.5-35l-504-504-504 504q-35 35-84.5 35t-84.5-35-35-84.5 35-84.5l504-504-504-504q-35-35-35-84.5t35-84.5q34-35 84-35 51 0 85 35l504 504 504-504q34-35 85-35 50 0 84 35 35 35 35 84.5t-35 84.5l-504 504 504 504z\" fill=\"currentColor\"></path></symbol></svg><div class=\"notice notice-info padding-notch\" id=\"cookie-notice\"><p>\n",
       "         We and <a href=\"https://www.spotify.com/us/legal/cookies-vendor-list/\" rel=\"noopener\" target=\"_blank\">our partners</a> use cookies to personalize your experience, to show you ads based on your interests, and for measurement and analytics purposes. By using our website and our services, you agree to our use of cookies as described in our <a href=\"https://www.spotify.com/legal/cookies-policy/\" rel=\"noopener\" target=\"_blank\">Cookie Policy</a>.\n",
       "     </p><button aria-label=\"Close\" type=\"button\">×</button></div><div class=\"notice notice-warning padding-notch\" id=\"browser-support-notice\"><p>\n",
       "     This browser doesn't support Spotify Web Player. <a href=\"https://support.spotify.com/using_spotify/the_basics/webplayer\">Switch browsers</a> or <a href=\"https://www.spotify.com/download\">download Spotify</a> for your desktop.\n",
       "   </p></div><header class=\"view\"><div class=\"bg lazy-image\" data-src=\"//i.scdn.co/image/ab6775700000ee85531dbdce612ad7a5e374f750\"></div><div class=\"overlay\"></div><div class=\"wrapper padding-notch\"><div id=\"main-header\"><a class=\"logo-link\" href=\"/browse\"><svg><use xlink:href=\"#spotify-logo\" xmlns:xlink=\"http://www.w3.org/1999/xlink\"></use></svg></a></div><h1 class=\"view-header\"><span dir=\"auto\">Kevin Nguyen</span></h1><button class=\"btn btn-green js-action-button\" data-track-type=\"button-header\"><span class=\"js-action-label\">Open in Spotify</span></button><div class=\"grid\"><ul class=\"more-by-grid view padding-notch\" style=\"list-style: none\"><div class=\"grid\"><div class=\"grid-heading\"><h3 class=\"subview-title\">Public Playlists</h3></div><ul class=\"more-by-grid more-by-grid-8 playlist padding-notch\" style=\"list-style: none\"><li><a class=\"cover playlist\" href=\"/playlist/5EbNNdQvJ8U4TyuqetE5pY\"><div class=\"grid-item-image lazy-image lazy-image_loaded\" data-src=\"//i.scdn.co/image/ab67706c0000da848103c5c7f921e5ef07e88361\" style='background-image: url(\"//i.scdn.co/image/ab67706c0000da848103c5c7f921e5ef07e88361\");'></div><div class=\"grid-item-image-text\"><span dir=\"auto\">2000's</span></div></a></li><li><a class=\"cover playlist\" href=\"/playlist/7lHgB4bzld24t7kgy4MK9K\"><div class=\"grid-item-image lazy-image lazy-image_loaded\" data-src=\"//i.scdn.co/image/ab67706c0000da841345d9ae12f3f181e1f0be3c\" style='background-image: url(\"//i.scdn.co/image/ab67706c0000da841345d9ae12f3f181e1f0be3c\");'></div><div class=\"grid-item-image-text\"><span dir=\"auto\">mitre 10</span></div></a></li><li><a class=\"cover playlist\" href=\"/playlist/3RTdVqzTm3YgL3KLa13qQV\"><div class=\"grid-item-image lazy-image lazy-image_loaded\" data-src=\"//i.scdn.co/image/ab67706c0000da84dbaa9c7f8ec9217adbe6f37f\" style='background-image: url(\"//i.scdn.co/image/ab67706c0000da84dbaa9c7f8ec9217adbe6f37f\");'></div><div class=\"grid-item-image-text\"><span dir=\"auto\">Small potatoes</span></div></a></li><li><a class=\"cover playlist\" href=\"/playlist/2cV5Bwarta7LPXzbiaYTyf\"><div class=\"grid-item-image lazy-image lazy-image_loaded\" data-src=\"//i.scdn.co/image/ab67706c0000da84d886a21d7d213cd9b5248553\" style='background-image: url(\"//i.scdn.co/image/ab67706c0000da84d886a21d7d213cd9b5248553\");'></div><div class=\"grid-item-image-text\"><span dir=\"auto\">mangoes</span></div></a></li><li><a class=\"cover playlist\" href=\"/playlist/2Cb1eD1J6jlsxKBoNXTTtd\"><div class=\"grid-item-image lazy-image lazy-image_loaded\" data-src=\"//i.scdn.co/image/ab67706c0000da84860424014d9497565e8cc017\" style='background-image: url(\"//i.scdn.co/image/ab67706c0000da84860424014d9497565e8cc017\");'></div><div class=\"grid-item-image-text\"><span dir=\"auto\">bawawaweewa</span></div></a></li><li><a class=\"cover playlist\" href=\"/playlist/0UYrhQh0B0oWx4mQINEdIQ\"><div class=\"grid-item-image lazy-image lazy-image_loaded\" data-src=\"//i.scdn.co/image/ab67706c0000bebb63003b69daa16eda833d7ce9\" style='background-image: url(\"//i.scdn.co/image/ab67706c0000bebb63003b69daa16eda833d7ce9\");'></div><div class=\"grid-item-image-text\"><span dir=\"auto\">[sLUms+CO]</span></div></a></li><li><a class=\"cover playlist\" href=\"/playlist/5lM2ngCx1eF1QQiWXTT5h0\"><div class=\"grid-item-image lazy-image lazy-image_loaded\" data-src=\"//i.scdn.co/image/ab67706c0000da8476e2c1786a0e99b81640f881\" style='background-image: url(\"//i.scdn.co/image/ab67706c0000da8476e2c1786a0e99b81640f881\");'></div><div class=\"grid-item-image-text\"><span dir=\"auto\">lo-fi anime beats to study and chill to</span></div></a></li><li><a class=\"cover playlist\" href=\"/playlist/0N0yZvX6kl2VTaU289UgnM\"><div class=\"grid-item-image lazy-image lazy-image_loaded\" data-src=\"//i.scdn.co/image/ab67706c0000da84187c7f9ecb0c9f78fb5a45cb\" style='background-image: url(\"//i.scdn.co/image/ab67706c0000da84187c7f9ecb0c9f78fb5a45cb\");'></div><div class=\"grid-item-image-text\"><span dir=\"auto\">yeughh</span></div></a></li><li><a class=\"cover playlist\" href=\"/playlist/0eyLdRCySHOjnnur6rpHA1\"><div class=\"grid-item-image lazy-image lazy-image_loaded\" data-src=\"//i.scdn.co/image/ab67706c0000da84358df36b9c73c1ac73cbcdd0\" style='background-image: url(\"//i.scdn.co/image/ab67706c0000da84358df36b9c73c1ac73cbcdd0\");'></div><div class=\"grid-item-image-text\"><span dir=\"auto\">septombur</span></div></a></li><li><a class=\"cover playlist\" href=\"/playlist/4uhQ4gWB5KKraePWgeuXen\"><div class=\"grid-item-image lazy-image lazy-image_loaded\" data-src=\"//i.scdn.co/image/ab67706c0000da8408ff9075187422be34f61d45\" style='background-image: url(\"//i.scdn.co/image/ab67706c0000da8408ff9075187422be34f61d45\");'></div><div class=\"grid-item-image-text\"><span dir=\"auto\">AUGUST</span></div></a></li><li><a class=\"cover playlist\" href=\"/playlist/4FZoXwAdXd73KUsfrXqDWa\"><div class=\"grid-item-image lazy-image lazy-image_loaded\" data-src=\"//i.scdn.co/image/ab67706c0000da8435dd94ac569622632b901dd9\" style='background-image: url(\"//i.scdn.co/image/ab67706c0000da8435dd94ac569622632b901dd9\");'></div><div class=\"grid-item-image-text\"><span dir=\"auto\">bangers!!</span></div></a></li><li><a class=\"cover playlist\" href=\"/playlist/1VogboyjYSmA3Xf2F20YOA\"><div class=\"grid-item-image lazy-image lazy-image_loaded\" data-src=\"//i.scdn.co/image/ab67706c0000da84d33777a4e83c79428b127b0e\" style='background-image: url(\"//i.scdn.co/image/ab67706c0000da84d33777a4e83c79428b127b0e\");'></div><div class=\"grid-item-image-text\"><span dir=\"auto\">may</span></div></a></li><li><a class=\"cover playlist\" href=\"/playlist/1Eir2w06qRxn3yBToOT91j\"><div class=\"grid-item-image lazy-image lazy-image_loaded\" data-src=\"//i.scdn.co/image/ab67706c0000da843d57081a5603441fe25ba782\" style='background-image: url(\"//i.scdn.co/image/ab67706c0000da843d57081a5603441fe25ba782\");'></div><div class=\"grid-item-image-text\"><span dir=\"auto\">doot</span></div></a></li><li><a class=\"cover playlist\" href=\"/playlist/0tSshgFzOPK4am84cP7NxW\"><div class=\"grid-item-image lazy-image lazy-image_loaded\" data-src=\"//i.scdn.co/image/ab67706c0000da844d1e8d0b8f13813f402784b0\" style='background-image: url(\"//i.scdn.co/image/ab67706c0000da844d1e8d0b8f13813f402784b0\");'></div><div class=\"grid-item-image-text\"><span dir=\"auto\">ahhhh fuck this frigerator</span></div></a></li><li><a class=\"cover playlist\" href=\"/playlist/3iWEerbgDWrzqnRFJl9Ppf\"><div class=\"grid-item-image lazy-image lazy-image_loaded\" data-src=\"//i.scdn.co/image/ab67706c0000da84e6f4ecc61071c1daf416f105\" style='background-image: url(\"//i.scdn.co/image/ab67706c0000da84e6f4ecc61071c1daf416f105\");'></div><div class=\"grid-item-image-text\"><span dir=\"auto\">, , ,</span></div></a></li><li><a class=\"cover playlist\" href=\"/playlist/0ZKVHuUE755Hq1eXOGtTlu\"><div class=\"grid-item-image lazy-image lazy-image_loaded\" data-src=\"//i.scdn.co/image/ab67706c0000da848e772970689b2fb0b3fdf632\" style='background-image: url(\"//i.scdn.co/image/ab67706c0000da848e772970689b2fb0b3fdf632\");'></div><div class=\"grid-item-image-text\"><span dir=\"auto\">MARch</span></div></a></li><li><a class=\"cover playlist\" href=\"/playlist/1M3MJAfm5fMshfKBIaZj5n\"><div class=\"grid-item-image lazy-image lazy-image_loaded\" data-src=\"//i.scdn.co/image/ab67706c0000da84c002e4acc8883ef985063be6\" style='background-image: url(\"//i.scdn.co/image/ab67706c0000da84c002e4acc8883ef985063be6\");'></div><div class=\"grid-item-image-text\"><span dir=\"auto\">shaqavelli</span></div></a></li><li><a class=\"cover playlist\" href=\"/playlist/0gd1DST9Tp90FHNuWEmWEV\"><div class=\"grid-item-image lazy-image lazy-image_loaded\" data-src=\"//i.scdn.co/image/ab67706c0000da84ba3e7e65752dc091175f0a03\" style='background-image: url(\"//i.scdn.co/image/ab67706c0000da84ba3e7e65752dc091175f0a03\");'></div><div class=\"grid-item-image-text\"><span dir=\"auto\">1010101010101010</span></div></a></li><li><a class=\"cover playlist\" href=\"/playlist/41opuZgKBPirjz4yQPFbm6\"><div class=\"grid-item-image lazy-image lazy-image_loaded\" data-src=\"//i.scdn.co/image/ab67706c0000da8497602c35372caff3ccd5fd49\" style='background-image: url(\"//i.scdn.co/image/ab67706c0000da8497602c35372caff3ccd5fd49\");'></div><div class=\"grid-item-image-text\"><span dir=\"auto\">1620</span></div></a></li><li><a class=\"cover playlist\" href=\"/playlist/42iEAkjLPHXRIGiZPOw9QN\"><div class=\"grid-item-image lazy-image lazy-image_loaded\" data-src=\"//i.scdn.co/image/ab67706c0000da84068467cfb6cf52bc8eaa77bf\" style='background-image: url(\"//i.scdn.co/image/ab67706c0000da84068467cfb6cf52bc8eaa77bf\");'></div><div class=\"grid-item-image-text\"><span dir=\"auto\">fka!</span></div></a></li><li><a class=\"cover playlist\" href=\"/playlist/5TdecqhIsNy42q5Y70s0Ij\"><div class=\"grid-item-image lazy-image lazy-image_loaded\" data-src=\"//i.scdn.co/image/ab67706c0000da843102ea32ae664c58c0737cea\" style='background-image: url(\"//i.scdn.co/image/ab67706c0000da843102ea32ae664c58c0737cea\");'></div><div class=\"grid-item-image-text\"><span dir=\"auto\">29*@!$</span></div></a></li><li><a class=\"cover playlist\" href=\"/playlist/13acy6PNOzru2GaJoTYnVR\"><div class=\"grid-item-image lazy-image lazy-image_loaded\" data-src=\"//i.scdn.co/image/ab67706c0000da842baf3b4ca1d5d9d1d775b684\" style='background-image: url(\"//i.scdn.co/image/ab67706c0000da842baf3b4ca1d5d9d1d775b684\");'></div><div class=\"grid-item-image-text\"><span dir=\"auto\">{131219}</span></div></a></li><li><a class=\"cover playlist\" href=\"/playlist/0CUAeUT89zp3Xo0p6bKaPP\"><div class=\"grid-item-image lazy-image lazy-image_loaded\" data-src=\"//i.scdn.co/image/ab67706c0000da8423e4c476893acfd45df82845\" style='background-image: url(\"//i.scdn.co/image/ab67706c0000da8423e4c476893acfd45df82845\");'></div><div class=\"grid-item-image-text\"><span dir=\"auto\">81119</span></div></a></li><li><a class=\"cover playlist\" href=\"/playlist/2BxIym2EtZbRWetm9cHlyg\"><div class=\"grid-item-image lazy-image lazy-image_loaded\" data-src=\"//i.scdn.co/image/ab67706c0000da8407c54c196d45a11257ea24eb\" style='background-image: url(\"//i.scdn.co/image/ab67706c0000da8407c54c196d45a11257ea24eb\");'></div><div class=\"grid-item-image-text\"><span dir=\"auto\">17(10)19</span></div></a></li><li><a class=\"cover playlist\" href=\"/playlist/6Ps2EAwKEkX4nCEyIPzjTD\"><div class=\"grid-item-image lazy-image lazy-image_loaded\" data-src=\"//i.scdn.co/image/ab67706c0000da84978a971f18fdb154a23abe29\" style='background-image: url(\"//i.scdn.co/image/ab67706c0000da84978a971f18fdb154a23abe29\");'></div><div class=\"grid-item-image-text\"><span dir=\"auto\">92.9.91</span></div></a></li><li><a class=\"cover playlist\" href=\"/playlist/2qJdHM2i2fnC1YIpXu5wuv\"><div class=\"grid-item-image lazy-image lazy-image_loaded\" data-src=\"//i.scdn.co/image/ab67706c0000da84eaa3e7133ee0918505b980c9\" style='background-image: url(\"//i.scdn.co/image/ab67706c0000da84eaa3e7133ee0918505b980c9\");'></div><div class=\"grid-item-image-text\"><span dir=\"auto\">16****!#$@!</span></div></a></li><li><a class=\"cover playlist\" href=\"/playlist/2gGh9mvamzX15rY3qEmlxQ\"><div class=\"grid-item-image lazy-image lazy-image_loaded\" data-src=\"//i.scdn.co/image/ab67706c0000da8427b460f150d685e328f59644\" style='background-image: url(\"//i.scdn.co/image/ab67706c0000da8427b460f150d685e328f59644\");'></div><div class=\"grid-item-image-text\"><span dir=\"auto\">29/6/19</span></div></a></li><li><a class=\"cover playlist\" href=\"/playlist/51XaFN9kkwvgFbI6Qp1OSH\"><div class=\"grid-item-image lazy-image lazy-image_loaded\" data-src=\"//i.scdn.co/image/ab67706c0000da840a68f6eaea3a222830324011\" style='background-image: url(\"//i.scdn.co/image/ab67706c0000da840a68f6eaea3a222830324011\");'></div><div class=\"grid-item-image-text\"><span dir=\"auto\">nnnnnnnnnnnnnnnnnnnnnnnnnnnnnnnnnnn</span></div></a></li><li><a class=\"cover playlist\" href=\"/playlist/69AwrFf1p9JGQD4gIVgx1B\"><div class=\"grid-item-image lazy-image lazy-image_loaded\" data-src=\"//i.scdn.co/image/ab67706c0000da84a511499989e8670e1d14d6db\" style='background-image: url(\"//i.scdn.co/image/ab67706c0000da84a511499989e8670e1d14d6db\");'></div><div class=\"grid-item-image-text\"><span dir=\"auto\">** 7%!5%^19</span></div></a></li><li><a class=\"cover playlist\" href=\"/playlist/5xKU5xWbQGNYeih78fhbZ0\"><div class=\"grid-item-image lazy-image lazy-image_loaded\" data-src=\"//i.scdn.co/image/ab67706c0000da84d150038f2c890294b71c398b\" style='background-image: url(\"//i.scdn.co/image/ab67706c0000da84d150038f2c890294b71c398b\");'></div><div class=\"grid-item-image-text\"><span dir=\"auto\">13/4/19</span></div></a></li><li><a class=\"cover playlist\" href=\"/playlist/2fFeZUfVodUKIUrpRTHqmr\"><div class=\"grid-item-image lazy-image lazy-image_loaded\" data-src=\"//i.scdn.co/image/ab67706c0000da8469f1a950fb34d9ee318e32e2\" style='background-image: url(\"//i.scdn.co/image/ab67706c0000da8469f1a950fb34d9ee318e32e2\");'></div><div class=\"grid-item-image-text\"><span dir=\"auto\">3.3.19</span></div></a></li><li><a class=\"cover playlist\" href=\"/playlist/02y2Wxeks3aHAR4edbgPtV\"><div class=\"grid-item-image lazy-image lazy-image_loaded\" data-src=\"//i.scdn.co/image/ab67706c0000da849831c7eecc9db824b9843552\" style='background-image: url(\"//i.scdn.co/image/ab67706c0000da849831c7eecc9db824b9843552\");'></div><div class=\"grid-item-image-text\"><span dir=\"auto\">9/2/19</span></div></a></li><li><a class=\"cover playlist\" href=\"/playlist/6Nj7BkPptD5bEQfvTwnwEd\"><div class=\"grid-item-image lazy-image lazy-image_loaded\" data-src=\"//i.scdn.co/image/ab67706c0000da841a4bb0684a9638d9716eaba3\" style='background-image: url(\"//i.scdn.co/image/ab67706c0000da841a4bb0684a9638d9716eaba3\");'></div><div class=\"grid-item-image-text\"><span dir=\"auto\">6/12/18</span></div></a></li><li><a class=\"cover playlist\" href=\"/playlist/5FHwpvueOOXAhgpBi7EQjU\"><div class=\"grid-item-image lazy-image lazy-image_loaded\" data-src=\"//i.scdn.co/image/ab67706c0000da84bccfda6cd060e13bd91568c5\" style='background-image: url(\"//i.scdn.co/image/ab67706c0000da84bccfda6cd060e13bd91568c5\");'></div><div class=\"grid-item-image-text\"><span dir=\"auto\">2/11/18</span></div></a></li><li><a class=\"cover playlist\" href=\"/playlist/3tVMhwwo3ZlEBpd0GKDZgW\"><div class=\"grid-item-image lazy-image lazy-image_loaded\" data-src=\"//i.scdn.co/image/ab67706c0000da84f43f21946fa6134aec23aee7\" style='background-image: url(\"//i.scdn.co/image/ab67706c0000da84f43f21946fa6134aec23aee7\");'></div><div class=\"grid-item-image-text\"><span dir=\"auto\">18/10/18</span></div></a></li><li><a class=\"cover playlist\" href=\"/playlist/1hRLZcFuEzkG7QcTq6lV8l\"><div class=\"grid-item-image lazy-image lazy-image_loaded\" data-src=\"//i.scdn.co/image/ab67706c0000da84a3f19fc279f4a609d0597ac9\" style='background-image: url(\"//i.scdn.co/image/ab67706c0000da84a3f19fc279f4a609d0597ac9\");'></div><div class=\"grid-item-image-text\"><span dir=\"auto\">29/9/18</span></div></a></li><li><a class=\"cover playlist\" href=\"/playlist/2daBY0rudM7hrsuNXytlW9\"><div class=\"grid-item-image lazy-image lazy-image_loaded\" data-src=\"//i.scdn.co/image/ab67706c0000da845496a90bfa8e98f2e83b3eda\" style='background-image: url(\"//i.scdn.co/image/ab67706c0000da845496a90bfa8e98f2e83b3eda\");'></div><div class=\"grid-item-image-text\"><span dir=\"auto\">1/9/18</span></div></a></li><li><a class=\"cover playlist\" href=\"/playlist/2oLvjtrCVIUdWUInAMqwGO\"><div class=\"grid-item-image lazy-image lazy-image_loaded\" data-src=\"//i.scdn.co/image/ab67706c0000da841fdd8395b454a5e7a39febe3\" style='background-image: url(\"//i.scdn.co/image/ab67706c0000da841fdd8395b454a5e7a39febe3\");'></div><div class=\"grid-item-image-text\"><span dir=\"auto\">beep</span></div></a></li><li><a class=\"cover playlist\" href=\"/playlist/72cxf8xXRQOZiYbSJR71io\"><div class=\"grid-item-image lazy-image lazy-image_loaded\" data-src=\"//i.scdn.co/image/ab67706c0000bebbdf139708f899494198a3923f\" style='background-image: url(\"//i.scdn.co/image/ab67706c0000bebbdf139708f899494198a3923f\");'></div><div class=\"grid-item-image-text\"><span dir=\"auto\">COLORS - ALL SHOWS</span></div></a></li><li><a class=\"cover playlist\" href=\"/playlist/3OBsCqsoeDiagzd5OvNOtE\"><div class=\"grid-item-image lazy-image lazy-image_loaded\" data-src=\"//i.scdn.co/image/ab67706c0000da84d8f95f044e34b9af889d6165\" style='background-image: url(\"//i.scdn.co/image/ab67706c0000da84d8f95f044e34b9af889d6165\");'></div><div class=\"grid-item-image-text\"><span dir=\"auto\">$LEAZE</span></div></a></li></ul></div></ul></div></div></header><section class=\"upsell\" id=\"upsell\"><div class=\"bg lazy-image\" data-src=\"//i.scdn.co/image/ab6775700000ee85531dbdce612ad7a5e374f750\"></div><div class=\"overlay\"></div><div class=\"wrapper padding-notch\"></div></section><footer><a class=\"logo-link\" href=\"/browse\"><svg><use xlink:href=\"#spotify-logo\" xmlns:xlink=\"http://www.w3.org/1999/xlink\"></use></svg></a><p class=\"legal\"><a href=\"https://www.spotify.com/legal/\" rel=\"noopener\" target=\"_blank\">Legal</a><br/><a href=\"https://www.spotify.com/legal/privacy-policy/\" rel=\"noopener\" target=\"_blank\">Privacy</a><br/><a href=\"https://www.spotify.com/legal/cookies-policy/\" rel=\"noopener\" target=\"_blank\">Cookies</a><br/><a href=\"https://www.spotify.com/legal/privacy-policy/#s3\" rel=\"noopener\" target=\"_blank\">About Ads</a></p></footer></div><div aria-hidden=\"true\" aria-labelledby=\"choice-modal-title\" class=\"choice-modal js-choice-modal hide\" role=\"dialog\"><div class=\"choice-modal-inner\"><button aria-label=\"Close\" class=\"btn-close\"><svg><use xlink:href=\"#icon-close\" xmlns:xlink=\"http://www.w3.org/1999/xlink\"></use></svg></button><span class=\"modal-title\" id=\"choice-modal-title\">To play this content, you'll need the Spotify app.</span><div class=\"wrapper-btn\"><button class=\"btn btn-green\" id=\"mobile-download\" type=\"button\">\n",
       "                 Get Spotify\n",
       "             </button><button class=\"btn btn-transparent\" id=\"mobile-play\" type=\"button\">\n",
       "                 Open Spotify\n",
       "             </button></div></div></div><div aria-hidden=\"true\" aria-labelledby=\"upsell-modal-title\" class=\"upsell-modal js-upsell-modal hide\" role=\"dialog\"><button aria-label=\"Close\" class=\"btn-close\"><svg><use xlink:href=\"#icon-close\" xmlns:xlink=\"http://www.w3.org/1999/xlink\"></use></svg></button><h3 id=\"upsell-modal-title\">You look like someone who appreciates good music.</h3><p>Listen to all your favourite artists on any device for free or try the Premium trial.</p><button class=\"link\">Play on Spotify</button></div><script data-testid=\"spotify-environment\">\n",
       "         window.SpotifyEnvironment = {\n",
       "         autoplay: JSON.parse(\"false\"),\n",
       "         context: {\n",
       "             uri: \"spotify:user:kevin.nguyen9852\",\n",
       "                         type: \"user\"\n",
       "         },\n",
       "         strings: {\n",
       "             'Download Spotify': \"Download Spotify\",\n",
       "             'Play on Spotify': \"Play on Spotify\",\n",
       "             'View on Spotify': \"View on Spotify\",\n",
       "             'Follow on Spotify': \"Follow on Spotify\"\n",
       "         },\n",
       "         platform: \"desktop\",\n",
       "         isMobile: false,\n",
       "         isBrowserSupportedInWebPlayer: false,\n",
       "         usesWebPlayer: false,\n",
       "         isSpotified: false,\n",
       "                 downloadLink: \"https://www.spotify.com/signup/?creation_flow=open&utm_source=open\",\n",
       "                 environment: \"production\",\n",
       "                 features: {\n",
       "                                 }\n",
       "     };\n",
       " </script><script>\n",
       " \t\t\t\tSpotify = {};\n",
       " \t\t\t\tSpotify.Entity = {\"uri\":\"spotify:user:kevin.nguyen9852\",\"type\":\"user\"};\n",
       " \t\t\t</script><script async=\"\" src=\"https://open.scdn.co/cdn/build/open/open.14d9ffc0.js\"></script><script async=\"\" src=\"https://open.scdn.co/cdn/build/open/vendor~open.e0aab148.js\"></script><script>\n",
       " (function() {\n",
       "     var timeout = 5000;\n",
       "     function loadFbPixel () {\n",
       "         !(function (f, b, e, v, n, t, s) {\n",
       "         if (f.fbq) return;\n",
       "         n = f.fbq = function () {\n",
       "             n.callMethod ? n.callMethod.apply(n, arguments) : n.queue.push(arguments);\n",
       "         };\n",
       "         if (!f._fbq) f._fbq = n;\n",
       "         n.push = n;\n",
       "         n.loaded = !0;\n",
       "         n.version = '2.0';\n",
       "         n.queue = [];\n",
       "         t = b.createElement(e);\n",
       "         t.async = !0;\n",
       "         t.src = v;\n",
       "         s = b.getElementsByTagName(e)[0];\n",
       "         s.parentNode.insertBefore(t, s);\n",
       "         })(\n",
       "         window,\n",
       "         document,\n",
       "         'script',\n",
       "         'https://connect.facebook.net/en_US/fbevents.js',\n",
       "         );\n",
       " \n",
       "         fbq('init', '1483047915331997');\n",
       "         fbq('track', 'PageView');\n",
       "     }\n",
       "     if (window.requestIdleCallback) {\n",
       "         window.requestIdleCallback(loadFbPixel, {timeout: timeout});\n",
       "     } else {\n",
       "         setTimeout(loadFbPixel, timeout);\n",
       "     }\n",
       " })();\n",
       " </script><!-- Begin comScore Tag --><script>\n",
       " var _comscore = _comscore || [];\n",
       " _comscore.push({ c1: \"2\", c2: \"15654041\" });\n",
       " (function() {\n",
       "   var s = document.createElement(\"script\"), el =\n",
       "     document.getElementsByTagName(\"script\")[0]; s.async = true;\n",
       "   s.src = \"https://sb.scorecardresearch.com/beacon.js\";\n",
       "   el.parentNode.insertBefore(s, el);\n",
       " })();\n",
       " </script><!-- End comScore Tag --><script defer=\"\" src=\"https://www.fastly-insights.com/insights.js?k=040e3997-282c-4275-ba9b-a406ce78b133&amp;dnt=1\"></script><script>\n",
       " function getCookie(name) {\n",
       "   const v = document.cookie.match(`(^|;) ?${name}=([^;]*)(;|$)`);\n",
       "   return v ? v[2] : null;\n",
       " }\n",
       " \n",
       " const isQualaroo = getCookie('qualarooTimer');\n",
       " if (isQualaroo) {\n",
       "   window._kiq = window._kiq || [];\n",
       "   (function() {\n",
       "     setTimeout(function() {\n",
       "       const d = document;\n",
       "       const f = d.getElementsByTagName('script')[0];\n",
       "       const s = d.createElement('script');\n",
       "       s.type = 'text/javascript';\n",
       "       s.async = true;\n",
       "       s.src = '//s3.amazonaws.com/ki.js/51746/b0R.js';\n",
       "       s.addEventListener('load', function() {\n",
       "         const spcid = getCookie('sp_t');\n",
       "         window._kiq.push(['identify', spcid]);\n",
       "       });\n",
       "       f.parentNode.insertBefore(s, f);\n",
       "     }, 1);\n",
       "   })();\n",
       " }\n",
       " \n",
       " (function () {\n",
       "   var buttons = {\n",
       "     \"mobile-login\": 'login',\n",
       "     \"mobile-continue-on-web\": 'signup',\n",
       "     \"mobile-download\": 'download-app',\n",
       "   };\n",
       " \n",
       "   for (var key of Object.keys(buttons)) {\n",
       "     var button = document.getElementById(key)\n",
       "     if (button) {\n",
       "       button.addEventListener('click', function(e) {\n",
       "         gtag('event', buttons[e.target.id], {\n",
       "           'event_category': 'click',\n",
       "           'event_label': '/button',\n",
       "           'value': null,\n",
       "         });\n",
       "       });\n",
       "     }\n",
       "   }\n",
       " })();\n",
       " \n",
       " \n",
       " </script></body></html>,\n",
       " <head><meta charset=\"utf-8\"/><title>Kevin Nguyen on Spotify</title><meta content=\"Kevin Nguyen, a user on Spotify\" name=\"description\"/><meta content=\"Kevin Nguyen\" property=\"og:title\"/><meta content=\"Kevin Nguyen, a user on Spotify\" property=\"og:description\"/><meta content=\"profile\" property=\"og:type\"/><meta content=\"https://i.scdn.co/image/ab6775700000ee85531dbdce612ad7a5e374f750\" property=\"og:image\"/><meta content=\"https://open.spotify.com/user/kevin.nguyen9852\" property=\"og:url\"/><meta content=\"kevin.nguyen9852\" property=\"profile:username\"/><meta content=\"summary\" property=\"twitter:card\"/><meta content=\"@spotify\" property=\"twitter:site\"/><meta content=\"Kevin Nguyen\" property=\"twitter:title\"/><meta content=\"Kevin Nguyen, a user on Spotify\" property=\"twitter:description\"/><meta content=\"https://i.scdn.co/image/ab6775700000ee85531dbdce612ad7a5e374f750\" property=\"twitter:image\"/><meta content=\"Spotify\" property=\"al:android:app_name\"/><meta content=\"com.spotify.music\" property=\"al:android:package\"/><meta content=\"spotify://user/kevin.nguyen9852\" property=\"al:android:url\"/><meta content=\"Spotify\" property=\"al:ios:app_name\"/><meta content=\"324684580\" property=\"al:ios:app_store_id\"/><meta content=\"spotify://user/kevin.nguyen9852\" property=\"al:ios:url\"/><meta content=\"Spotify\" property=\"og:site_name\"/><meta content=\"notranslate\" property=\"google\"/><meta content=\"174829003346\" property=\"fb:app_id\"/><link href=\"https://open.spotify.com/user/kevin.nguyen9852\" rel=\"canonical\"/><link href=\"android-app://com.spotify.music/spotify/user/kevin.nguyen9852\" rel=\"alternate\"/><!-- invalid schema_extras --><meta content=\"width=device-width,initial-scale=1,maximum-scale=1,viewport-fit=cover\" name=\"viewport\"/><script id=\"config\" type=\"application/json\">\n",
       " \t\t\t\t\t{\"app_name\":\"open_page\",\"isAnonymous\":true}\n",
       " \t\t\t\t</script><script src=\"https://open.scdn.co/cdn/js/boot.47fcc775.js\"></script><script id=\"baba\" type=\"application/json\">[]</script><script src=\"https://open.scdn.co/cdn/js/gtag.9a59c379.js\"></script><script id=\"fb-pixel\" type=\"application/json\">{\"url\":\"https://open.scdn.co/cdn/js/fb.83cf1e53.js\"}</script><script async=\"\" src=\"https://www.googletagmanager.com/gtag/js?id=UA-5784146-31\"></script><link href=\"https://open.scdn.co/cdn/build/open/open.14d9ffc0.css\" rel=\"stylesheet\"/><style type=\"text/css\"></style><link href=\"https://open.scdn.co/cdn/images/favicon.0c211e2e.png \" rel=\"icon\"/><link href=\"https://open.scdn.co/cdn/images/touch-icon-144.36faaf96.png\" rel=\"apple-touch-icon-precomposed\" sizes=\"144x144\"/><link href=\"https://open.scdn.co/cdn/images/touch-icon-114.0d424df2.png\" rel=\"apple-touch-icon-precomposed\" sizes=\"114x114\"/><link href=\"https://open.scdn.co/cdn/images/touch-icon-72.cffecbdb.png\" rel=\"apple-touch-icon-precomposed\" sizes=\"72x72\"/><link href=\"https://open.scdn.co/cdn/images/touch-icon-57.5460f415.png\" rel=\"apple-touch-icon-precomposed\"/></head>,\n",
       " <meta charset=\"utf-8\"/>,\n",
       " <title>Kevin Nguyen on Spotify</title>,\n",
       " <meta content=\"Kevin Nguyen, a user on Spotify\" name=\"description\"/>,\n",
       " <meta content=\"Kevin Nguyen\" property=\"og:title\"/>,\n",
       " <meta content=\"Kevin Nguyen, a user on Spotify\" property=\"og:description\"/>,\n",
       " <meta content=\"profile\" property=\"og:type\"/>,\n",
       " <meta content=\"https://i.scdn.co/image/ab6775700000ee85531dbdce612ad7a5e374f750\" property=\"og:image\"/>,\n",
       " <meta content=\"https://open.spotify.com/user/kevin.nguyen9852\" property=\"og:url\"/>,\n",
       " <meta content=\"kevin.nguyen9852\" property=\"profile:username\"/>,\n",
       " <meta content=\"summary\" property=\"twitter:card\"/>,\n",
       " <meta content=\"@spotify\" property=\"twitter:site\"/>,\n",
       " <meta content=\"Kevin Nguyen\" property=\"twitter:title\"/>,\n",
       " <meta content=\"Kevin Nguyen, a user on Spotify\" property=\"twitter:description\"/>,\n",
       " <meta content=\"https://i.scdn.co/image/ab6775700000ee85531dbdce612ad7a5e374f750\" property=\"twitter:image\"/>,\n",
       " <meta content=\"Spotify\" property=\"al:android:app_name\"/>,\n",
       " <meta content=\"com.spotify.music\" property=\"al:android:package\"/>,\n",
       " <meta content=\"spotify://user/kevin.nguyen9852\" property=\"al:android:url\"/>,\n",
       " <meta content=\"Spotify\" property=\"al:ios:app_name\"/>,\n",
       " <meta content=\"324684580\" property=\"al:ios:app_store_id\"/>,\n",
       " <meta content=\"spotify://user/kevin.nguyen9852\" property=\"al:ios:url\"/>,\n",
       " <meta content=\"Spotify\" property=\"og:site_name\"/>,\n",
       " <meta content=\"notranslate\" property=\"google\"/>,\n",
       " <meta content=\"174829003346\" property=\"fb:app_id\"/>,\n",
       " <link href=\"https://open.spotify.com/user/kevin.nguyen9852\" rel=\"canonical\"/>,\n",
       " <link href=\"android-app://com.spotify.music/spotify/user/kevin.nguyen9852\" rel=\"alternate\"/>,\n",
       " <meta content=\"width=device-width,initial-scale=1,maximum-scale=1,viewport-fit=cover\" name=\"viewport\"/>,\n",
       " <script id=\"config\" type=\"application/json\">\n",
       " \t\t\t\t\t{\"app_name\":\"open_page\",\"isAnonymous\":true}\n",
       " \t\t\t\t</script>,\n",
       " <script src=\"https://open.scdn.co/cdn/js/boot.47fcc775.js\"></script>,\n",
       " <script id=\"baba\" type=\"application/json\">[]</script>,\n",
       " <script src=\"https://open.scdn.co/cdn/js/gtag.9a59c379.js\"></script>,\n",
       " <script id=\"fb-pixel\" type=\"application/json\">{\"url\":\"https://open.scdn.co/cdn/js/fb.83cf1e53.js\"}</script>,\n",
       " <script async=\"\" src=\"https://www.googletagmanager.com/gtag/js?id=UA-5784146-31\"></script>,\n",
       " <link href=\"https://open.scdn.co/cdn/build/open/open.14d9ffc0.css\" rel=\"stylesheet\"/>,\n",
       " <style type=\"text/css\"></style>,\n",
       " <link href=\"https://open.scdn.co/cdn/images/favicon.0c211e2e.png \" rel=\"icon\"/>,\n",
       " <link href=\"https://open.scdn.co/cdn/images/touch-icon-144.36faaf96.png\" rel=\"apple-touch-icon-precomposed\" sizes=\"144x144\"/>,\n",
       " <link href=\"https://open.scdn.co/cdn/images/touch-icon-114.0d424df2.png\" rel=\"apple-touch-icon-precomposed\" sizes=\"114x114\"/>,\n",
       " <link href=\"https://open.scdn.co/cdn/images/touch-icon-72.cffecbdb.png\" rel=\"apple-touch-icon-precomposed\" sizes=\"72x72\"/>,\n",
       " <link href=\"https://open.scdn.co/cdn/images/touch-icon-57.5460f415.png\" rel=\"apple-touch-icon-precomposed\"/>,\n",
       " <body id=\"body\"><script async=\"\" id=\"cidsyncjs\" src=\"https://pixel-static.spotify.com/sync.min.js\"></script><noscript><img alt=\"\" height=\"0\" id=\"cidmgmt\" src=\"https://pixel.spotify.com/v1/sync?nojs=1\" style=\"display: none;\" width=\"0\"/></noscript><div class=\"page\"><script>\n",
       " (function() {\n",
       "     var setFont = function() {\n",
       "         document.documentElement.className += ' fonts-loaded';\n",
       "     };\n",
       "     if (document.fonts && document.fonts.load) {\n",
       "         var fontsToLoad = ['200 1em \\'spotify-circular\\'', '600 1em \\'spotify-circular\\''];\n",
       " \n",
       "         \n",
       "         \n",
       "         \n",
       "         Promise.all(\n",
       "             fontsToLoad.map(function(font) {\n",
       "                 return document.fonts.load(font);\n",
       "             })\n",
       "         ).then(setFont).catch(setFont);\n",
       "     } else {\n",
       "         setFont();\n",
       "     }\n",
       " })();\n",
       " </script><svg style=\"display:none\" xmlns=\"http://www.w3.org/2000/svg\"><symbol id=\"spotify-logo\" viewbox=\"0 0 1000 300\"><path d=\"M8 147C8 65 73 0 155 0s148 65 148 147-66 148-148 148S8 229 8 147zm202 69c10 6 20-10 10-16-39-24-88-30-144-17-12 3-7 21 5 18 51-12 94-6 129 15zm15-40c13 8 25-11 12-19-46-28-112-36-166-20-14 4-7 26 7 22 47-14 107-7 147 17zM71 113c45-14 124-10 172 18 15 9 29-15 14-24-55-33-142-36-194-20-17 5-9 31 8 26zm308 4c0 9 4 13 30 19 31 8 44 19 44 40 0 25-19 42-49 42-21 0-40-8-56-22-1-1-1-1 0-2l14-17c1-1 1-1 2 0 14 12 26 17 41 17 13 0 22-6 22-15 0-8-5-13-29-19-29-7-45-16-45-41 0-24 19-40 47-40 19 0 35 5 49 16 1 1 1 2 0 3l-13 17c0 1-1 2-2 1-12-9-23-14-35-14s-20 7-20 15zm109 9c9-10 19-15 32-15 24 0 48 18 48 53s-24 54-48 54c-13 0-23-5-32-15v41c0 1-1 2-2 2h-22c-1 0-2-1-2-2V115c0-1 1-2 2-2h22c1 0 2 1 2 2v11zm27 69c16 0 27-13 27-31s-11-30-27-30-27 13-27 30 11 31 27 31zm60-30c0-30 24-54 55-54s55 23 55 53-24 54-55 54-55-23-55-53zm27-1c0 17 12 31 28 31 17 0 29-12 29-30 0-17-13-31-29-31s-28 12-28 30zm128 54c-20 0-31-10-31-31v-51h-11c-1 0-1-1-1-2v-19c0-1 0-2 1-2h11V87c0-1 1-1 2-1h23c1 0 2 0 2 1v26h25c1 0 1 1 1 2v19c0 1 0 2-1 2h-25v47c0 7 3 11 10 11 3 0 16-4 16-2v19c0 5-17 7-22 7zM865 78v19c0 3-12-1-15-1-8 0-12 5-12 14v3h39c1 0 2 0 2 1l27 70 24-70c0-1 1-1 2-1h23c1 0 2 1 2 2l-40 103c-8 21-17 29-34 29-3 0-27-4-25-9l7-17c0-1 2-2 3-1 4 2 8 4 12 4 5 0 9-2 13-10l-33-78h-21v78c0 1-1 2-2 2h-23c-1 0-1-1-1-2v-78h-11c-1 0-2-1-2-2v-20c0-1 1-1 2-1h11v-5c0-22 11-34 32-34 7 0 20 1 20 4zm-100 35h23c1 0 1 1 1 2v99c0 1 0 2-1 2h-23c-1 0-2-1-2-2v-99c0-1 1-2 2-2zm-5-29c0-9 7-16 16-16s17 7 17 16-8 16-17 16-16-7-16-16zm200 45c0-9 7-16 16-16s17 7 17 16-8 16-17 16-16-7-16-16zm2 0c0 8 6 14 14 14s15-6 15-14-7-15-15-15-14 7-14 15zm23 8h-4l-4-6h-4v6h-3v-17h7c4 0 7 2 7 5s-2 4-4 5zm-12-14v5h4c2 0 4-1 4-3s-2-2-4-2h-4z\" fill=\"currentColor\"></path></symbol><symbol id=\"icon-play\" viewbox=\"0 0 85 100\"><path d=\"M81 44.6c5 3 5 7.8 0 10.8L9 98.7c-5 3-9 .7-9-5V6.3c0-5.7 4-8 9-5l72 43.3z\" fill=\"currentColor\"></path></symbol><symbol id=\"icon-pause\" viewbox=\"0 0 60 100\"><path d=\"M0 8c0-5 3-8 8-8s9 3 9 8v84c0 5-4 8-9 8s-8-3-8-8V8zm43 0c0-5 3-8 8-8s8 3 8 8v84c0 5-3 8-8 8s-8-3-8-8V8z\" fill=\"currentColor\"></path></symbol><symbol id=\"icon-explicit\" viewbox=\"0 0 20 20\"><path d=\"M9 9V7h4V5H7v10h6v-2H9v-2h4V9H9zM0 2.994C0 1.34 1.343 0 2.994 0h14.012C18.66 0 20 1.343 20 2.994v14.012C20 18.66 18.657 20 17.006 20H2.994C1.34 20 0 18.657 0 17.006V2.994z\" fill=\"currentColor\"></path></symbol><symbol id=\"icon-close\" viewbox=\"0 0 2016 2016\"><path d=\"M1681 1512q35 35 35 84.5t-35 84.5-84.5 35-84.5-35l-504-504-504 504q-35 35-84.5 35t-84.5-35-35-84.5 35-84.5l504-504-504-504q-35-35-35-84.5t35-84.5q34-35 84-35 51 0 85 35l504 504 504-504q34-35 85-35 50 0 84 35 35 35 35 84.5t-35 84.5l-504 504 504 504z\" fill=\"currentColor\"></path></symbol></svg><div class=\"notice notice-info padding-notch\" id=\"cookie-notice\"><p>\n",
       "         We and <a href=\"https://www.spotify.com/us/legal/cookies-vendor-list/\" rel=\"noopener\" target=\"_blank\">our partners</a> use cookies to personalize your experience, to show you ads based on your interests, and for measurement and analytics purposes. By using our website and our services, you agree to our use of cookies as described in our <a href=\"https://www.spotify.com/legal/cookies-policy/\" rel=\"noopener\" target=\"_blank\">Cookie Policy</a>.\n",
       "     </p><button aria-label=\"Close\" type=\"button\">×</button></div><div class=\"notice notice-warning padding-notch\" id=\"browser-support-notice\"><p>\n",
       "     This browser doesn't support Spotify Web Player. <a href=\"https://support.spotify.com/using_spotify/the_basics/webplayer\">Switch browsers</a> or <a href=\"https://www.spotify.com/download\">download Spotify</a> for your desktop.\n",
       "   </p></div><header class=\"view\"><div class=\"bg lazy-image\" data-src=\"//i.scdn.co/image/ab6775700000ee85531dbdce612ad7a5e374f750\"></div><div class=\"overlay\"></div><div class=\"wrapper padding-notch\"><div id=\"main-header\"><a class=\"logo-link\" href=\"/browse\"><svg><use xlink:href=\"#spotify-logo\" xmlns:xlink=\"http://www.w3.org/1999/xlink\"></use></svg></a></div><h1 class=\"view-header\"><span dir=\"auto\">Kevin Nguyen</span></h1><button class=\"btn btn-green js-action-button\" data-track-type=\"button-header\"><span class=\"js-action-label\">Open in Spotify</span></button><div class=\"grid\"><ul class=\"more-by-grid view padding-notch\" style=\"list-style: none\"><div class=\"grid\"><div class=\"grid-heading\"><h3 class=\"subview-title\">Public Playlists</h3></div><ul class=\"more-by-grid more-by-grid-8 playlist padding-notch\" style=\"list-style: none\"><li><a class=\"cover playlist\" href=\"/playlist/5EbNNdQvJ8U4TyuqetE5pY\"><div class=\"grid-item-image lazy-image lazy-image_loaded\" data-src=\"//i.scdn.co/image/ab67706c0000da848103c5c7f921e5ef07e88361\" style='background-image: url(\"//i.scdn.co/image/ab67706c0000da848103c5c7f921e5ef07e88361\");'></div><div class=\"grid-item-image-text\"><span dir=\"auto\">2000's</span></div></a></li><li><a class=\"cover playlist\" href=\"/playlist/7lHgB4bzld24t7kgy4MK9K\"><div class=\"grid-item-image lazy-image lazy-image_loaded\" data-src=\"//i.scdn.co/image/ab67706c0000da841345d9ae12f3f181e1f0be3c\" style='background-image: url(\"//i.scdn.co/image/ab67706c0000da841345d9ae12f3f181e1f0be3c\");'></div><div class=\"grid-item-image-text\"><span dir=\"auto\">mitre 10</span></div></a></li><li><a class=\"cover playlist\" href=\"/playlist/3RTdVqzTm3YgL3KLa13qQV\"><div class=\"grid-item-image lazy-image lazy-image_loaded\" data-src=\"//i.scdn.co/image/ab67706c0000da84dbaa9c7f8ec9217adbe6f37f\" style='background-image: url(\"//i.scdn.co/image/ab67706c0000da84dbaa9c7f8ec9217adbe6f37f\");'></div><div class=\"grid-item-image-text\"><span dir=\"auto\">Small potatoes</span></div></a></li><li><a class=\"cover playlist\" href=\"/playlist/2cV5Bwarta7LPXzbiaYTyf\"><div class=\"grid-item-image lazy-image lazy-image_loaded\" data-src=\"//i.scdn.co/image/ab67706c0000da84d886a21d7d213cd9b5248553\" style='background-image: url(\"//i.scdn.co/image/ab67706c0000da84d886a21d7d213cd9b5248553\");'></div><div class=\"grid-item-image-text\"><span dir=\"auto\">mangoes</span></div></a></li><li><a class=\"cover playlist\" href=\"/playlist/2Cb1eD1J6jlsxKBoNXTTtd\"><div class=\"grid-item-image lazy-image lazy-image_loaded\" data-src=\"//i.scdn.co/image/ab67706c0000da84860424014d9497565e8cc017\" style='background-image: url(\"//i.scdn.co/image/ab67706c0000da84860424014d9497565e8cc017\");'></div><div class=\"grid-item-image-text\"><span dir=\"auto\">bawawaweewa</span></div></a></li><li><a class=\"cover playlist\" href=\"/playlist/0UYrhQh0B0oWx4mQINEdIQ\"><div class=\"grid-item-image lazy-image lazy-image_loaded\" data-src=\"//i.scdn.co/image/ab67706c0000bebb63003b69daa16eda833d7ce9\" style='background-image: url(\"//i.scdn.co/image/ab67706c0000bebb63003b69daa16eda833d7ce9\");'></div><div class=\"grid-item-image-text\"><span dir=\"auto\">[sLUms+CO]</span></div></a></li><li><a class=\"cover playlist\" href=\"/playlist/5lM2ngCx1eF1QQiWXTT5h0\"><div class=\"grid-item-image lazy-image lazy-image_loaded\" data-src=\"//i.scdn.co/image/ab67706c0000da8476e2c1786a0e99b81640f881\" style='background-image: url(\"//i.scdn.co/image/ab67706c0000da8476e2c1786a0e99b81640f881\");'></div><div class=\"grid-item-image-text\"><span dir=\"auto\">lo-fi anime beats to study and chill to</span></div></a></li><li><a class=\"cover playlist\" href=\"/playlist/0N0yZvX6kl2VTaU289UgnM\"><div class=\"grid-item-image lazy-image lazy-image_loaded\" data-src=\"//i.scdn.co/image/ab67706c0000da84187c7f9ecb0c9f78fb5a45cb\" style='background-image: url(\"//i.scdn.co/image/ab67706c0000da84187c7f9ecb0c9f78fb5a45cb\");'></div><div class=\"grid-item-image-text\"><span dir=\"auto\">yeughh</span></div></a></li><li><a class=\"cover playlist\" href=\"/playlist/0eyLdRCySHOjnnur6rpHA1\"><div class=\"grid-item-image lazy-image lazy-image_loaded\" data-src=\"//i.scdn.co/image/ab67706c0000da84358df36b9c73c1ac73cbcdd0\" style='background-image: url(\"//i.scdn.co/image/ab67706c0000da84358df36b9c73c1ac73cbcdd0\");'></div><div class=\"grid-item-image-text\"><span dir=\"auto\">septombur</span></div></a></li><li><a class=\"cover playlist\" href=\"/playlist/4uhQ4gWB5KKraePWgeuXen\"><div class=\"grid-item-image lazy-image lazy-image_loaded\" data-src=\"//i.scdn.co/image/ab67706c0000da8408ff9075187422be34f61d45\" style='background-image: url(\"//i.scdn.co/image/ab67706c0000da8408ff9075187422be34f61d45\");'></div><div class=\"grid-item-image-text\"><span dir=\"auto\">AUGUST</span></div></a></li><li><a class=\"cover playlist\" href=\"/playlist/4FZoXwAdXd73KUsfrXqDWa\"><div class=\"grid-item-image lazy-image lazy-image_loaded\" data-src=\"//i.scdn.co/image/ab67706c0000da8435dd94ac569622632b901dd9\" style='background-image: url(\"//i.scdn.co/image/ab67706c0000da8435dd94ac569622632b901dd9\");'></div><div class=\"grid-item-image-text\"><span dir=\"auto\">bangers!!</span></div></a></li><li><a class=\"cover playlist\" href=\"/playlist/1VogboyjYSmA3Xf2F20YOA\"><div class=\"grid-item-image lazy-image lazy-image_loaded\" data-src=\"//i.scdn.co/image/ab67706c0000da84d33777a4e83c79428b127b0e\" style='background-image: url(\"//i.scdn.co/image/ab67706c0000da84d33777a4e83c79428b127b0e\");'></div><div class=\"grid-item-image-text\"><span dir=\"auto\">may</span></div></a></li><li><a class=\"cover playlist\" href=\"/playlist/1Eir2w06qRxn3yBToOT91j\"><div class=\"grid-item-image lazy-image lazy-image_loaded\" data-src=\"//i.scdn.co/image/ab67706c0000da843d57081a5603441fe25ba782\" style='background-image: url(\"//i.scdn.co/image/ab67706c0000da843d57081a5603441fe25ba782\");'></div><div class=\"grid-item-image-text\"><span dir=\"auto\">doot</span></div></a></li><li><a class=\"cover playlist\" href=\"/playlist/0tSshgFzOPK4am84cP7NxW\"><div class=\"grid-item-image lazy-image lazy-image_loaded\" data-src=\"//i.scdn.co/image/ab67706c0000da844d1e8d0b8f13813f402784b0\" style='background-image: url(\"//i.scdn.co/image/ab67706c0000da844d1e8d0b8f13813f402784b0\");'></div><div class=\"grid-item-image-text\"><span dir=\"auto\">ahhhh fuck this frigerator</span></div></a></li><li><a class=\"cover playlist\" href=\"/playlist/3iWEerbgDWrzqnRFJl9Ppf\"><div class=\"grid-item-image lazy-image lazy-image_loaded\" data-src=\"//i.scdn.co/image/ab67706c0000da84e6f4ecc61071c1daf416f105\" style='background-image: url(\"//i.scdn.co/image/ab67706c0000da84e6f4ecc61071c1daf416f105\");'></div><div class=\"grid-item-image-text\"><span dir=\"auto\">, , ,</span></div></a></li><li><a class=\"cover playlist\" href=\"/playlist/0ZKVHuUE755Hq1eXOGtTlu\"><div class=\"grid-item-image lazy-image lazy-image_loaded\" data-src=\"//i.scdn.co/image/ab67706c0000da848e772970689b2fb0b3fdf632\" style='background-image: url(\"//i.scdn.co/image/ab67706c0000da848e772970689b2fb0b3fdf632\");'></div><div class=\"grid-item-image-text\"><span dir=\"auto\">MARch</span></div></a></li><li><a class=\"cover playlist\" href=\"/playlist/1M3MJAfm5fMshfKBIaZj5n\"><div class=\"grid-item-image lazy-image lazy-image_loaded\" data-src=\"//i.scdn.co/image/ab67706c0000da84c002e4acc8883ef985063be6\" style='background-image: url(\"//i.scdn.co/image/ab67706c0000da84c002e4acc8883ef985063be6\");'></div><div class=\"grid-item-image-text\"><span dir=\"auto\">shaqavelli</span></div></a></li><li><a class=\"cover playlist\" href=\"/playlist/0gd1DST9Tp90FHNuWEmWEV\"><div class=\"grid-item-image lazy-image lazy-image_loaded\" data-src=\"//i.scdn.co/image/ab67706c0000da84ba3e7e65752dc091175f0a03\" style='background-image: url(\"//i.scdn.co/image/ab67706c0000da84ba3e7e65752dc091175f0a03\");'></div><div class=\"grid-item-image-text\"><span dir=\"auto\">1010101010101010</span></div></a></li><li><a class=\"cover playlist\" href=\"/playlist/41opuZgKBPirjz4yQPFbm6\"><div class=\"grid-item-image lazy-image lazy-image_loaded\" data-src=\"//i.scdn.co/image/ab67706c0000da8497602c35372caff3ccd5fd49\" style='background-image: url(\"//i.scdn.co/image/ab67706c0000da8497602c35372caff3ccd5fd49\");'></div><div class=\"grid-item-image-text\"><span dir=\"auto\">1620</span></div></a></li><li><a class=\"cover playlist\" href=\"/playlist/42iEAkjLPHXRIGiZPOw9QN\"><div class=\"grid-item-image lazy-image lazy-image_loaded\" data-src=\"//i.scdn.co/image/ab67706c0000da84068467cfb6cf52bc8eaa77bf\" style='background-image: url(\"//i.scdn.co/image/ab67706c0000da84068467cfb6cf52bc8eaa77bf\");'></div><div class=\"grid-item-image-text\"><span dir=\"auto\">fka!</span></div></a></li><li><a class=\"cover playlist\" href=\"/playlist/5TdecqhIsNy42q5Y70s0Ij\"><div class=\"grid-item-image lazy-image lazy-image_loaded\" data-src=\"//i.scdn.co/image/ab67706c0000da843102ea32ae664c58c0737cea\" style='background-image: url(\"//i.scdn.co/image/ab67706c0000da843102ea32ae664c58c0737cea\");'></div><div class=\"grid-item-image-text\"><span dir=\"auto\">29*@!$</span></div></a></li><li><a class=\"cover playlist\" href=\"/playlist/13acy6PNOzru2GaJoTYnVR\"><div class=\"grid-item-image lazy-image lazy-image_loaded\" data-src=\"//i.scdn.co/image/ab67706c0000da842baf3b4ca1d5d9d1d775b684\" style='background-image: url(\"//i.scdn.co/image/ab67706c0000da842baf3b4ca1d5d9d1d775b684\");'></div><div class=\"grid-item-image-text\"><span dir=\"auto\">{131219}</span></div></a></li><li><a class=\"cover playlist\" href=\"/playlist/0CUAeUT89zp3Xo0p6bKaPP\"><div class=\"grid-item-image lazy-image lazy-image_loaded\" data-src=\"//i.scdn.co/image/ab67706c0000da8423e4c476893acfd45df82845\" style='background-image: url(\"//i.scdn.co/image/ab67706c0000da8423e4c476893acfd45df82845\");'></div><div class=\"grid-item-image-text\"><span dir=\"auto\">81119</span></div></a></li><li><a class=\"cover playlist\" href=\"/playlist/2BxIym2EtZbRWetm9cHlyg\"><div class=\"grid-item-image lazy-image lazy-image_loaded\" data-src=\"//i.scdn.co/image/ab67706c0000da8407c54c196d45a11257ea24eb\" style='background-image: url(\"//i.scdn.co/image/ab67706c0000da8407c54c196d45a11257ea24eb\");'></div><div class=\"grid-item-image-text\"><span dir=\"auto\">17(10)19</span></div></a></li><li><a class=\"cover playlist\" href=\"/playlist/6Ps2EAwKEkX4nCEyIPzjTD\"><div class=\"grid-item-image lazy-image lazy-image_loaded\" data-src=\"//i.scdn.co/image/ab67706c0000da84978a971f18fdb154a23abe29\" style='background-image: url(\"//i.scdn.co/image/ab67706c0000da84978a971f18fdb154a23abe29\");'></div><div class=\"grid-item-image-text\"><span dir=\"auto\">92.9.91</span></div></a></li><li><a class=\"cover playlist\" href=\"/playlist/2qJdHM2i2fnC1YIpXu5wuv\"><div class=\"grid-item-image lazy-image lazy-image_loaded\" data-src=\"//i.scdn.co/image/ab67706c0000da84eaa3e7133ee0918505b980c9\" style='background-image: url(\"//i.scdn.co/image/ab67706c0000da84eaa3e7133ee0918505b980c9\");'></div><div class=\"grid-item-image-text\"><span dir=\"auto\">16****!#$@!</span></div></a></li><li><a class=\"cover playlist\" href=\"/playlist/2gGh9mvamzX15rY3qEmlxQ\"><div class=\"grid-item-image lazy-image lazy-image_loaded\" data-src=\"//i.scdn.co/image/ab67706c0000da8427b460f150d685e328f59644\" style='background-image: url(\"//i.scdn.co/image/ab67706c0000da8427b460f150d685e328f59644\");'></div><div class=\"grid-item-image-text\"><span dir=\"auto\">29/6/19</span></div></a></li><li><a class=\"cover playlist\" href=\"/playlist/51XaFN9kkwvgFbI6Qp1OSH\"><div class=\"grid-item-image lazy-image lazy-image_loaded\" data-src=\"//i.scdn.co/image/ab67706c0000da840a68f6eaea3a222830324011\" style='background-image: url(\"//i.scdn.co/image/ab67706c0000da840a68f6eaea3a222830324011\");'></div><div class=\"grid-item-image-text\"><span dir=\"auto\">nnnnnnnnnnnnnnnnnnnnnnnnnnnnnnnnnnn</span></div></a></li><li><a class=\"cover playlist\" href=\"/playlist/69AwrFf1p9JGQD4gIVgx1B\"><div class=\"grid-item-image lazy-image lazy-image_loaded\" data-src=\"//i.scdn.co/image/ab67706c0000da84a511499989e8670e1d14d6db\" style='background-image: url(\"//i.scdn.co/image/ab67706c0000da84a511499989e8670e1d14d6db\");'></div><div class=\"grid-item-image-text\"><span dir=\"auto\">** 7%!5%^19</span></div></a></li><li><a class=\"cover playlist\" href=\"/playlist/5xKU5xWbQGNYeih78fhbZ0\"><div class=\"grid-item-image lazy-image lazy-image_loaded\" data-src=\"//i.scdn.co/image/ab67706c0000da84d150038f2c890294b71c398b\" style='background-image: url(\"//i.scdn.co/image/ab67706c0000da84d150038f2c890294b71c398b\");'></div><div class=\"grid-item-image-text\"><span dir=\"auto\">13/4/19</span></div></a></li><li><a class=\"cover playlist\" href=\"/playlist/2fFeZUfVodUKIUrpRTHqmr\"><div class=\"grid-item-image lazy-image lazy-image_loaded\" data-src=\"//i.scdn.co/image/ab67706c0000da8469f1a950fb34d9ee318e32e2\" style='background-image: url(\"//i.scdn.co/image/ab67706c0000da8469f1a950fb34d9ee318e32e2\");'></div><div class=\"grid-item-image-text\"><span dir=\"auto\">3.3.19</span></div></a></li><li><a class=\"cover playlist\" href=\"/playlist/02y2Wxeks3aHAR4edbgPtV\"><div class=\"grid-item-image lazy-image lazy-image_loaded\" data-src=\"//i.scdn.co/image/ab67706c0000da849831c7eecc9db824b9843552\" style='background-image: url(\"//i.scdn.co/image/ab67706c0000da849831c7eecc9db824b9843552\");'></div><div class=\"grid-item-image-text\"><span dir=\"auto\">9/2/19</span></div></a></li><li><a class=\"cover playlist\" href=\"/playlist/6Nj7BkPptD5bEQfvTwnwEd\"><div class=\"grid-item-image lazy-image lazy-image_loaded\" data-src=\"//i.scdn.co/image/ab67706c0000da841a4bb0684a9638d9716eaba3\" style='background-image: url(\"//i.scdn.co/image/ab67706c0000da841a4bb0684a9638d9716eaba3\");'></div><div class=\"grid-item-image-text\"><span dir=\"auto\">6/12/18</span></div></a></li><li><a class=\"cover playlist\" href=\"/playlist/5FHwpvueOOXAhgpBi7EQjU\"><div class=\"grid-item-image lazy-image lazy-image_loaded\" data-src=\"//i.scdn.co/image/ab67706c0000da84bccfda6cd060e13bd91568c5\" style='background-image: url(\"//i.scdn.co/image/ab67706c0000da84bccfda6cd060e13bd91568c5\");'></div><div class=\"grid-item-image-text\"><span dir=\"auto\">2/11/18</span></div></a></li><li><a class=\"cover playlist\" href=\"/playlist/3tVMhwwo3ZlEBpd0GKDZgW\"><div class=\"grid-item-image lazy-image lazy-image_loaded\" data-src=\"//i.scdn.co/image/ab67706c0000da84f43f21946fa6134aec23aee7\" style='background-image: url(\"//i.scdn.co/image/ab67706c0000da84f43f21946fa6134aec23aee7\");'></div><div class=\"grid-item-image-text\"><span dir=\"auto\">18/10/18</span></div></a></li><li><a class=\"cover playlist\" href=\"/playlist/1hRLZcFuEzkG7QcTq6lV8l\"><div class=\"grid-item-image lazy-image lazy-image_loaded\" data-src=\"//i.scdn.co/image/ab67706c0000da84a3f19fc279f4a609d0597ac9\" style='background-image: url(\"//i.scdn.co/image/ab67706c0000da84a3f19fc279f4a609d0597ac9\");'></div><div class=\"grid-item-image-text\"><span dir=\"auto\">29/9/18</span></div></a></li><li><a class=\"cover playlist\" href=\"/playlist/2daBY0rudM7hrsuNXytlW9\"><div class=\"grid-item-image lazy-image lazy-image_loaded\" data-src=\"//i.scdn.co/image/ab67706c0000da845496a90bfa8e98f2e83b3eda\" style='background-image: url(\"//i.scdn.co/image/ab67706c0000da845496a90bfa8e98f2e83b3eda\");'></div><div class=\"grid-item-image-text\"><span dir=\"auto\">1/9/18</span></div></a></li><li><a class=\"cover playlist\" href=\"/playlist/2oLvjtrCVIUdWUInAMqwGO\"><div class=\"grid-item-image lazy-image lazy-image_loaded\" data-src=\"//i.scdn.co/image/ab67706c0000da841fdd8395b454a5e7a39febe3\" style='background-image: url(\"//i.scdn.co/image/ab67706c0000da841fdd8395b454a5e7a39febe3\");'></div><div class=\"grid-item-image-text\"><span dir=\"auto\">beep</span></div></a></li><li><a class=\"cover playlist\" href=\"/playlist/72cxf8xXRQOZiYbSJR71io\"><div class=\"grid-item-image lazy-image lazy-image_loaded\" data-src=\"//i.scdn.co/image/ab67706c0000bebbdf139708f899494198a3923f\" style='background-image: url(\"//i.scdn.co/image/ab67706c0000bebbdf139708f899494198a3923f\");'></div><div class=\"grid-item-image-text\"><span dir=\"auto\">COLORS - ALL SHOWS</span></div></a></li><li><a class=\"cover playlist\" href=\"/playlist/3OBsCqsoeDiagzd5OvNOtE\"><div class=\"grid-item-image lazy-image lazy-image_loaded\" data-src=\"//i.scdn.co/image/ab67706c0000da84d8f95f044e34b9af889d6165\" style='background-image: url(\"//i.scdn.co/image/ab67706c0000da84d8f95f044e34b9af889d6165\");'></div><div class=\"grid-item-image-text\"><span dir=\"auto\">$LEAZE</span></div></a></li></ul></div></ul></div></div></header><section class=\"upsell\" id=\"upsell\"><div class=\"bg lazy-image\" data-src=\"//i.scdn.co/image/ab6775700000ee85531dbdce612ad7a5e374f750\"></div><div class=\"overlay\"></div><div class=\"wrapper padding-notch\"></div></section><footer><a class=\"logo-link\" href=\"/browse\"><svg><use xlink:href=\"#spotify-logo\" xmlns:xlink=\"http://www.w3.org/1999/xlink\"></use></svg></a><p class=\"legal\"><a href=\"https://www.spotify.com/legal/\" rel=\"noopener\" target=\"_blank\">Legal</a><br/><a href=\"https://www.spotify.com/legal/privacy-policy/\" rel=\"noopener\" target=\"_blank\">Privacy</a><br/><a href=\"https://www.spotify.com/legal/cookies-policy/\" rel=\"noopener\" target=\"_blank\">Cookies</a><br/><a href=\"https://www.spotify.com/legal/privacy-policy/#s3\" rel=\"noopener\" target=\"_blank\">About Ads</a></p></footer></div><div aria-hidden=\"true\" aria-labelledby=\"choice-modal-title\" class=\"choice-modal js-choice-modal hide\" role=\"dialog\"><div class=\"choice-modal-inner\"><button aria-label=\"Close\" class=\"btn-close\"><svg><use xlink:href=\"#icon-close\" xmlns:xlink=\"http://www.w3.org/1999/xlink\"></use></svg></button><span class=\"modal-title\" id=\"choice-modal-title\">To play this content, you'll need the Spotify app.</span><div class=\"wrapper-btn\"><button class=\"btn btn-green\" id=\"mobile-download\" type=\"button\">\n",
       "                 Get Spotify\n",
       "             </button><button class=\"btn btn-transparent\" id=\"mobile-play\" type=\"button\">\n",
       "                 Open Spotify\n",
       "             </button></div></div></div><div aria-hidden=\"true\" aria-labelledby=\"upsell-modal-title\" class=\"upsell-modal js-upsell-modal hide\" role=\"dialog\"><button aria-label=\"Close\" class=\"btn-close\"><svg><use xlink:href=\"#icon-close\" xmlns:xlink=\"http://www.w3.org/1999/xlink\"></use></svg></button><h3 id=\"upsell-modal-title\">You look like someone who appreciates good music.</h3><p>Listen to all your favourite artists on any device for free or try the Premium trial.</p><button class=\"link\">Play on Spotify</button></div><script data-testid=\"spotify-environment\">\n",
       "         window.SpotifyEnvironment = {\n",
       "         autoplay: JSON.parse(\"false\"),\n",
       "         context: {\n",
       "             uri: \"spotify:user:kevin.nguyen9852\",\n",
       "                         type: \"user\"\n",
       "         },\n",
       "         strings: {\n",
       "             'Download Spotify': \"Download Spotify\",\n",
       "             'Play on Spotify': \"Play on Spotify\",\n",
       "             'View on Spotify': \"View on Spotify\",\n",
       "             'Follow on Spotify': \"Follow on Spotify\"\n",
       "         },\n",
       "         platform: \"desktop\",\n",
       "         isMobile: false,\n",
       "         isBrowserSupportedInWebPlayer: false,\n",
       "         usesWebPlayer: false,\n",
       "         isSpotified: false,\n",
       "                 downloadLink: \"https://www.spotify.com/signup/?creation_flow=open&utm_source=open\",\n",
       "                 environment: \"production\",\n",
       "                 features: {\n",
       "                                 }\n",
       "     };\n",
       " </script><script>\n",
       " \t\t\t\tSpotify = {};\n",
       " \t\t\t\tSpotify.Entity = {\"uri\":\"spotify:user:kevin.nguyen9852\",\"type\":\"user\"};\n",
       " \t\t\t</script><script async=\"\" src=\"https://open.scdn.co/cdn/build/open/open.14d9ffc0.js\"></script><script async=\"\" src=\"https://open.scdn.co/cdn/build/open/vendor~open.e0aab148.js\"></script><script>\n",
       " (function() {\n",
       "     var timeout = 5000;\n",
       "     function loadFbPixel () {\n",
       "         !(function (f, b, e, v, n, t, s) {\n",
       "         if (f.fbq) return;\n",
       "         n = f.fbq = function () {\n",
       "             n.callMethod ? n.callMethod.apply(n, arguments) : n.queue.push(arguments);\n",
       "         };\n",
       "         if (!f._fbq) f._fbq = n;\n",
       "         n.push = n;\n",
       "         n.loaded = !0;\n",
       "         n.version = '2.0';\n",
       "         n.queue = [];\n",
       "         t = b.createElement(e);\n",
       "         t.async = !0;\n",
       "         t.src = v;\n",
       "         s = b.getElementsByTagName(e)[0];\n",
       "         s.parentNode.insertBefore(t, s);\n",
       "         })(\n",
       "         window,\n",
       "         document,\n",
       "         'script',\n",
       "         'https://connect.facebook.net/en_US/fbevents.js',\n",
       "         );\n",
       " \n",
       "         fbq('init', '1483047915331997');\n",
       "         fbq('track', 'PageView');\n",
       "     }\n",
       "     if (window.requestIdleCallback) {\n",
       "         window.requestIdleCallback(loadFbPixel, {timeout: timeout});\n",
       "     } else {\n",
       "         setTimeout(loadFbPixel, timeout);\n",
       "     }\n",
       " })();\n",
       " </script><!-- Begin comScore Tag --><script>\n",
       " var _comscore = _comscore || [];\n",
       " _comscore.push({ c1: \"2\", c2: \"15654041\" });\n",
       " (function() {\n",
       "   var s = document.createElement(\"script\"), el =\n",
       "     document.getElementsByTagName(\"script\")[0]; s.async = true;\n",
       "   s.src = \"https://sb.scorecardresearch.com/beacon.js\";\n",
       "   el.parentNode.insertBefore(s, el);\n",
       " })();\n",
       " </script><!-- End comScore Tag --><script defer=\"\" src=\"https://www.fastly-insights.com/insights.js?k=040e3997-282c-4275-ba9b-a406ce78b133&amp;dnt=1\"></script><script>\n",
       " function getCookie(name) {\n",
       "   const v = document.cookie.match(`(^|;) ?${name}=([^;]*)(;|$)`);\n",
       "   return v ? v[2] : null;\n",
       " }\n",
       " \n",
       " const isQualaroo = getCookie('qualarooTimer');\n",
       " if (isQualaroo) {\n",
       "   window._kiq = window._kiq || [];\n",
       "   (function() {\n",
       "     setTimeout(function() {\n",
       "       const d = document;\n",
       "       const f = d.getElementsByTagName('script')[0];\n",
       "       const s = d.createElement('script');\n",
       "       s.type = 'text/javascript';\n",
       "       s.async = true;\n",
       "       s.src = '//s3.amazonaws.com/ki.js/51746/b0R.js';\n",
       "       s.addEventListener('load', function() {\n",
       "         const spcid = getCookie('sp_t');\n",
       "         window._kiq.push(['identify', spcid]);\n",
       "       });\n",
       "       f.parentNode.insertBefore(s, f);\n",
       "     }, 1);\n",
       "   })();\n",
       " }\n",
       " \n",
       " (function () {\n",
       "   var buttons = {\n",
       "     \"mobile-login\": 'login',\n",
       "     \"mobile-continue-on-web\": 'signup',\n",
       "     \"mobile-download\": 'download-app',\n",
       "   };\n",
       " \n",
       "   for (var key of Object.keys(buttons)) {\n",
       "     var button = document.getElementById(key)\n",
       "     if (button) {\n",
       "       button.addEventListener('click', function(e) {\n",
       "         gtag('event', buttons[e.target.id], {\n",
       "           'event_category': 'click',\n",
       "           'event_label': '/button',\n",
       "           'value': null,\n",
       "         });\n",
       "       });\n",
       "     }\n",
       "   }\n",
       " })();\n",
       " \n",
       " \n",
       " </script></body>,\n",
       " <script async=\"\" id=\"cidsyncjs\" src=\"https://pixel-static.spotify.com/sync.min.js\"></script>,\n",
       " <noscript><img alt=\"\" height=\"0\" id=\"cidmgmt\" src=\"https://pixel.spotify.com/v1/sync?nojs=1\" style=\"display: none;\" width=\"0\"/></noscript>,\n",
       " <img alt=\"\" height=\"0\" id=\"cidmgmt\" src=\"https://pixel.spotify.com/v1/sync?nojs=1\" style=\"display: none;\" width=\"0\"/>,\n",
       " <div class=\"page\"><script>\n",
       " (function() {\n",
       "     var setFont = function() {\n",
       "         document.documentElement.className += ' fonts-loaded';\n",
       "     };\n",
       "     if (document.fonts && document.fonts.load) {\n",
       "         var fontsToLoad = ['200 1em \\'spotify-circular\\'', '600 1em \\'spotify-circular\\''];\n",
       " \n",
       "         \n",
       "         \n",
       "         \n",
       "         Promise.all(\n",
       "             fontsToLoad.map(function(font) {\n",
       "                 return document.fonts.load(font);\n",
       "             })\n",
       "         ).then(setFont).catch(setFont);\n",
       "     } else {\n",
       "         setFont();\n",
       "     }\n",
       " })();\n",
       " </script><svg style=\"display:none\" xmlns=\"http://www.w3.org/2000/svg\"><symbol id=\"spotify-logo\" viewbox=\"0 0 1000 300\"><path d=\"M8 147C8 65 73 0 155 0s148 65 148 147-66 148-148 148S8 229 8 147zm202 69c10 6 20-10 10-16-39-24-88-30-144-17-12 3-7 21 5 18 51-12 94-6 129 15zm15-40c13 8 25-11 12-19-46-28-112-36-166-20-14 4-7 26 7 22 47-14 107-7 147 17zM71 113c45-14 124-10 172 18 15 9 29-15 14-24-55-33-142-36-194-20-17 5-9 31 8 26zm308 4c0 9 4 13 30 19 31 8 44 19 44 40 0 25-19 42-49 42-21 0-40-8-56-22-1-1-1-1 0-2l14-17c1-1 1-1 2 0 14 12 26 17 41 17 13 0 22-6 22-15 0-8-5-13-29-19-29-7-45-16-45-41 0-24 19-40 47-40 19 0 35 5 49 16 1 1 1 2 0 3l-13 17c0 1-1 2-2 1-12-9-23-14-35-14s-20 7-20 15zm109 9c9-10 19-15 32-15 24 0 48 18 48 53s-24 54-48 54c-13 0-23-5-32-15v41c0 1-1 2-2 2h-22c-1 0-2-1-2-2V115c0-1 1-2 2-2h22c1 0 2 1 2 2v11zm27 69c16 0 27-13 27-31s-11-30-27-30-27 13-27 30 11 31 27 31zm60-30c0-30 24-54 55-54s55 23 55 53-24 54-55 54-55-23-55-53zm27-1c0 17 12 31 28 31 17 0 29-12 29-30 0-17-13-31-29-31s-28 12-28 30zm128 54c-20 0-31-10-31-31v-51h-11c-1 0-1-1-1-2v-19c0-1 0-2 1-2h11V87c0-1 1-1 2-1h23c1 0 2 0 2 1v26h25c1 0 1 1 1 2v19c0 1 0 2-1 2h-25v47c0 7 3 11 10 11 3 0 16-4 16-2v19c0 5-17 7-22 7zM865 78v19c0 3-12-1-15-1-8 0-12 5-12 14v3h39c1 0 2 0 2 1l27 70 24-70c0-1 1-1 2-1h23c1 0 2 1 2 2l-40 103c-8 21-17 29-34 29-3 0-27-4-25-9l7-17c0-1 2-2 3-1 4 2 8 4 12 4 5 0 9-2 13-10l-33-78h-21v78c0 1-1 2-2 2h-23c-1 0-1-1-1-2v-78h-11c-1 0-2-1-2-2v-20c0-1 1-1 2-1h11v-5c0-22 11-34 32-34 7 0 20 1 20 4zm-100 35h23c1 0 1 1 1 2v99c0 1 0 2-1 2h-23c-1 0-2-1-2-2v-99c0-1 1-2 2-2zm-5-29c0-9 7-16 16-16s17 7 17 16-8 16-17 16-16-7-16-16zm200 45c0-9 7-16 16-16s17 7 17 16-8 16-17 16-16-7-16-16zm2 0c0 8 6 14 14 14s15-6 15-14-7-15-15-15-14 7-14 15zm23 8h-4l-4-6h-4v6h-3v-17h7c4 0 7 2 7 5s-2 4-4 5zm-12-14v5h4c2 0 4-1 4-3s-2-2-4-2h-4z\" fill=\"currentColor\"></path></symbol><symbol id=\"icon-play\" viewbox=\"0 0 85 100\"><path d=\"M81 44.6c5 3 5 7.8 0 10.8L9 98.7c-5 3-9 .7-9-5V6.3c0-5.7 4-8 9-5l72 43.3z\" fill=\"currentColor\"></path></symbol><symbol id=\"icon-pause\" viewbox=\"0 0 60 100\"><path d=\"M0 8c0-5 3-8 8-8s9 3 9 8v84c0 5-4 8-9 8s-8-3-8-8V8zm43 0c0-5 3-8 8-8s8 3 8 8v84c0 5-3 8-8 8s-8-3-8-8V8z\" fill=\"currentColor\"></path></symbol><symbol id=\"icon-explicit\" viewbox=\"0 0 20 20\"><path d=\"M9 9V7h4V5H7v10h6v-2H9v-2h4V9H9zM0 2.994C0 1.34 1.343 0 2.994 0h14.012C18.66 0 20 1.343 20 2.994v14.012C20 18.66 18.657 20 17.006 20H2.994C1.34 20 0 18.657 0 17.006V2.994z\" fill=\"currentColor\"></path></symbol><symbol id=\"icon-close\" viewbox=\"0 0 2016 2016\"><path d=\"M1681 1512q35 35 35 84.5t-35 84.5-84.5 35-84.5-35l-504-504-504 504q-35 35-84.5 35t-84.5-35-35-84.5 35-84.5l504-504-504-504q-35-35-35-84.5t35-84.5q34-35 84-35 51 0 85 35l504 504 504-504q34-35 85-35 50 0 84 35 35 35 35 84.5t-35 84.5l-504 504 504 504z\" fill=\"currentColor\"></path></symbol></svg><div class=\"notice notice-info padding-notch\" id=\"cookie-notice\"><p>\n",
       "         We and <a href=\"https://www.spotify.com/us/legal/cookies-vendor-list/\" rel=\"noopener\" target=\"_blank\">our partners</a> use cookies to personalize your experience, to show you ads based on your interests, and for measurement and analytics purposes. By using our website and our services, you agree to our use of cookies as described in our <a href=\"https://www.spotify.com/legal/cookies-policy/\" rel=\"noopener\" target=\"_blank\">Cookie Policy</a>.\n",
       "     </p><button aria-label=\"Close\" type=\"button\">×</button></div><div class=\"notice notice-warning padding-notch\" id=\"browser-support-notice\"><p>\n",
       "     This browser doesn't support Spotify Web Player. <a href=\"https://support.spotify.com/using_spotify/the_basics/webplayer\">Switch browsers</a> or <a href=\"https://www.spotify.com/download\">download Spotify</a> for your desktop.\n",
       "   </p></div><header class=\"view\"><div class=\"bg lazy-image\" data-src=\"//i.scdn.co/image/ab6775700000ee85531dbdce612ad7a5e374f750\"></div><div class=\"overlay\"></div><div class=\"wrapper padding-notch\"><div id=\"main-header\"><a class=\"logo-link\" href=\"/browse\"><svg><use xlink:href=\"#spotify-logo\" xmlns:xlink=\"http://www.w3.org/1999/xlink\"></use></svg></a></div><h1 class=\"view-header\"><span dir=\"auto\">Kevin Nguyen</span></h1><button class=\"btn btn-green js-action-button\" data-track-type=\"button-header\"><span class=\"js-action-label\">Open in Spotify</span></button><div class=\"grid\"><ul class=\"more-by-grid view padding-notch\" style=\"list-style: none\"><div class=\"grid\"><div class=\"grid-heading\"><h3 class=\"subview-title\">Public Playlists</h3></div><ul class=\"more-by-grid more-by-grid-8 playlist padding-notch\" style=\"list-style: none\"><li><a class=\"cover playlist\" href=\"/playlist/5EbNNdQvJ8U4TyuqetE5pY\"><div class=\"grid-item-image lazy-image lazy-image_loaded\" data-src=\"//i.scdn.co/image/ab67706c0000da848103c5c7f921e5ef07e88361\" style='background-image: url(\"//i.scdn.co/image/ab67706c0000da848103c5c7f921e5ef07e88361\");'></div><div class=\"grid-item-image-text\"><span dir=\"auto\">2000's</span></div></a></li><li><a class=\"cover playlist\" href=\"/playlist/7lHgB4bzld24t7kgy4MK9K\"><div class=\"grid-item-image lazy-image lazy-image_loaded\" data-src=\"//i.scdn.co/image/ab67706c0000da841345d9ae12f3f181e1f0be3c\" style='background-image: url(\"//i.scdn.co/image/ab67706c0000da841345d9ae12f3f181e1f0be3c\");'></div><div class=\"grid-item-image-text\"><span dir=\"auto\">mitre 10</span></div></a></li><li><a class=\"cover playlist\" href=\"/playlist/3RTdVqzTm3YgL3KLa13qQV\"><div class=\"grid-item-image lazy-image lazy-image_loaded\" data-src=\"//i.scdn.co/image/ab67706c0000da84dbaa9c7f8ec9217adbe6f37f\" style='background-image: url(\"//i.scdn.co/image/ab67706c0000da84dbaa9c7f8ec9217adbe6f37f\");'></div><div class=\"grid-item-image-text\"><span dir=\"auto\">Small potatoes</span></div></a></li><li><a class=\"cover playlist\" href=\"/playlist/2cV5Bwarta7LPXzbiaYTyf\"><div class=\"grid-item-image lazy-image lazy-image_loaded\" data-src=\"//i.scdn.co/image/ab67706c0000da84d886a21d7d213cd9b5248553\" style='background-image: url(\"//i.scdn.co/image/ab67706c0000da84d886a21d7d213cd9b5248553\");'></div><div class=\"grid-item-image-text\"><span dir=\"auto\">mangoes</span></div></a></li><li><a class=\"cover playlist\" href=\"/playlist/2Cb1eD1J6jlsxKBoNXTTtd\"><div class=\"grid-item-image lazy-image lazy-image_loaded\" data-src=\"//i.scdn.co/image/ab67706c0000da84860424014d9497565e8cc017\" style='background-image: url(\"//i.scdn.co/image/ab67706c0000da84860424014d9497565e8cc017\");'></div><div class=\"grid-item-image-text\"><span dir=\"auto\">bawawaweewa</span></div></a></li><li><a class=\"cover playlist\" href=\"/playlist/0UYrhQh0B0oWx4mQINEdIQ\"><div class=\"grid-item-image lazy-image lazy-image_loaded\" data-src=\"//i.scdn.co/image/ab67706c0000bebb63003b69daa16eda833d7ce9\" style='background-image: url(\"//i.scdn.co/image/ab67706c0000bebb63003b69daa16eda833d7ce9\");'></div><div class=\"grid-item-image-text\"><span dir=\"auto\">[sLUms+CO]</span></div></a></li><li><a class=\"cover playlist\" href=\"/playlist/5lM2ngCx1eF1QQiWXTT5h0\"><div class=\"grid-item-image lazy-image lazy-image_loaded\" data-src=\"//i.scdn.co/image/ab67706c0000da8476e2c1786a0e99b81640f881\" style='background-image: url(\"//i.scdn.co/image/ab67706c0000da8476e2c1786a0e99b81640f881\");'></div><div class=\"grid-item-image-text\"><span dir=\"auto\">lo-fi anime beats to study and chill to</span></div></a></li><li><a class=\"cover playlist\" href=\"/playlist/0N0yZvX6kl2VTaU289UgnM\"><div class=\"grid-item-image lazy-image lazy-image_loaded\" data-src=\"//i.scdn.co/image/ab67706c0000da84187c7f9ecb0c9f78fb5a45cb\" style='background-image: url(\"//i.scdn.co/image/ab67706c0000da84187c7f9ecb0c9f78fb5a45cb\");'></div><div class=\"grid-item-image-text\"><span dir=\"auto\">yeughh</span></div></a></li><li><a class=\"cover playlist\" href=\"/playlist/0eyLdRCySHOjnnur6rpHA1\"><div class=\"grid-item-image lazy-image lazy-image_loaded\" data-src=\"//i.scdn.co/image/ab67706c0000da84358df36b9c73c1ac73cbcdd0\" style='background-image: url(\"//i.scdn.co/image/ab67706c0000da84358df36b9c73c1ac73cbcdd0\");'></div><div class=\"grid-item-image-text\"><span dir=\"auto\">septombur</span></div></a></li><li><a class=\"cover playlist\" href=\"/playlist/4uhQ4gWB5KKraePWgeuXen\"><div class=\"grid-item-image lazy-image lazy-image_loaded\" data-src=\"//i.scdn.co/image/ab67706c0000da8408ff9075187422be34f61d45\" style='background-image: url(\"//i.scdn.co/image/ab67706c0000da8408ff9075187422be34f61d45\");'></div><div class=\"grid-item-image-text\"><span dir=\"auto\">AUGUST</span></div></a></li><li><a class=\"cover playlist\" href=\"/playlist/4FZoXwAdXd73KUsfrXqDWa\"><div class=\"grid-item-image lazy-image lazy-image_loaded\" data-src=\"//i.scdn.co/image/ab67706c0000da8435dd94ac569622632b901dd9\" style='background-image: url(\"//i.scdn.co/image/ab67706c0000da8435dd94ac569622632b901dd9\");'></div><div class=\"grid-item-image-text\"><span dir=\"auto\">bangers!!</span></div></a></li><li><a class=\"cover playlist\" href=\"/playlist/1VogboyjYSmA3Xf2F20YOA\"><div class=\"grid-item-image lazy-image lazy-image_loaded\" data-src=\"//i.scdn.co/image/ab67706c0000da84d33777a4e83c79428b127b0e\" style='background-image: url(\"//i.scdn.co/image/ab67706c0000da84d33777a4e83c79428b127b0e\");'></div><div class=\"grid-item-image-text\"><span dir=\"auto\">may</span></div></a></li><li><a class=\"cover playlist\" href=\"/playlist/1Eir2w06qRxn3yBToOT91j\"><div class=\"grid-item-image lazy-image lazy-image_loaded\" data-src=\"//i.scdn.co/image/ab67706c0000da843d57081a5603441fe25ba782\" style='background-image: url(\"//i.scdn.co/image/ab67706c0000da843d57081a5603441fe25ba782\");'></div><div class=\"grid-item-image-text\"><span dir=\"auto\">doot</span></div></a></li><li><a class=\"cover playlist\" href=\"/playlist/0tSshgFzOPK4am84cP7NxW\"><div class=\"grid-item-image lazy-image lazy-image_loaded\" data-src=\"//i.scdn.co/image/ab67706c0000da844d1e8d0b8f13813f402784b0\" style='background-image: url(\"//i.scdn.co/image/ab67706c0000da844d1e8d0b8f13813f402784b0\");'></div><div class=\"grid-item-image-text\"><span dir=\"auto\">ahhhh fuck this frigerator</span></div></a></li><li><a class=\"cover playlist\" href=\"/playlist/3iWEerbgDWrzqnRFJl9Ppf\"><div class=\"grid-item-image lazy-image lazy-image_loaded\" data-src=\"//i.scdn.co/image/ab67706c0000da84e6f4ecc61071c1daf416f105\" style='background-image: url(\"//i.scdn.co/image/ab67706c0000da84e6f4ecc61071c1daf416f105\");'></div><div class=\"grid-item-image-text\"><span dir=\"auto\">, , ,</span></div></a></li><li><a class=\"cover playlist\" href=\"/playlist/0ZKVHuUE755Hq1eXOGtTlu\"><div class=\"grid-item-image lazy-image lazy-image_loaded\" data-src=\"//i.scdn.co/image/ab67706c0000da848e772970689b2fb0b3fdf632\" style='background-image: url(\"//i.scdn.co/image/ab67706c0000da848e772970689b2fb0b3fdf632\");'></div><div class=\"grid-item-image-text\"><span dir=\"auto\">MARch</span></div></a></li><li><a class=\"cover playlist\" href=\"/playlist/1M3MJAfm5fMshfKBIaZj5n\"><div class=\"grid-item-image lazy-image lazy-image_loaded\" data-src=\"//i.scdn.co/image/ab67706c0000da84c002e4acc8883ef985063be6\" style='background-image: url(\"//i.scdn.co/image/ab67706c0000da84c002e4acc8883ef985063be6\");'></div><div class=\"grid-item-image-text\"><span dir=\"auto\">shaqavelli</span></div></a></li><li><a class=\"cover playlist\" href=\"/playlist/0gd1DST9Tp90FHNuWEmWEV\"><div class=\"grid-item-image lazy-image lazy-image_loaded\" data-src=\"//i.scdn.co/image/ab67706c0000da84ba3e7e65752dc091175f0a03\" style='background-image: url(\"//i.scdn.co/image/ab67706c0000da84ba3e7e65752dc091175f0a03\");'></div><div class=\"grid-item-image-text\"><span dir=\"auto\">1010101010101010</span></div></a></li><li><a class=\"cover playlist\" href=\"/playlist/41opuZgKBPirjz4yQPFbm6\"><div class=\"grid-item-image lazy-image lazy-image_loaded\" data-src=\"//i.scdn.co/image/ab67706c0000da8497602c35372caff3ccd5fd49\" style='background-image: url(\"//i.scdn.co/image/ab67706c0000da8497602c35372caff3ccd5fd49\");'></div><div class=\"grid-item-image-text\"><span dir=\"auto\">1620</span></div></a></li><li><a class=\"cover playlist\" href=\"/playlist/42iEAkjLPHXRIGiZPOw9QN\"><div class=\"grid-item-image lazy-image lazy-image_loaded\" data-src=\"//i.scdn.co/image/ab67706c0000da84068467cfb6cf52bc8eaa77bf\" style='background-image: url(\"//i.scdn.co/image/ab67706c0000da84068467cfb6cf52bc8eaa77bf\");'></div><div class=\"grid-item-image-text\"><span dir=\"auto\">fka!</span></div></a></li><li><a class=\"cover playlist\" href=\"/playlist/5TdecqhIsNy42q5Y70s0Ij\"><div class=\"grid-item-image lazy-image lazy-image_loaded\" data-src=\"//i.scdn.co/image/ab67706c0000da843102ea32ae664c58c0737cea\" style='background-image: url(\"//i.scdn.co/image/ab67706c0000da843102ea32ae664c58c0737cea\");'></div><div class=\"grid-item-image-text\"><span dir=\"auto\">29*@!$</span></div></a></li><li><a class=\"cover playlist\" href=\"/playlist/13acy6PNOzru2GaJoTYnVR\"><div class=\"grid-item-image lazy-image lazy-image_loaded\" data-src=\"//i.scdn.co/image/ab67706c0000da842baf3b4ca1d5d9d1d775b684\" style='background-image: url(\"//i.scdn.co/image/ab67706c0000da842baf3b4ca1d5d9d1d775b684\");'></div><div class=\"grid-item-image-text\"><span dir=\"auto\">{131219}</span></div></a></li><li><a class=\"cover playlist\" href=\"/playlist/0CUAeUT89zp3Xo0p6bKaPP\"><div class=\"grid-item-image lazy-image lazy-image_loaded\" data-src=\"//i.scdn.co/image/ab67706c0000da8423e4c476893acfd45df82845\" style='background-image: url(\"//i.scdn.co/image/ab67706c0000da8423e4c476893acfd45df82845\");'></div><div class=\"grid-item-image-text\"><span dir=\"auto\">81119</span></div></a></li><li><a class=\"cover playlist\" href=\"/playlist/2BxIym2EtZbRWetm9cHlyg\"><div class=\"grid-item-image lazy-image lazy-image_loaded\" data-src=\"//i.scdn.co/image/ab67706c0000da8407c54c196d45a11257ea24eb\" style='background-image: url(\"//i.scdn.co/image/ab67706c0000da8407c54c196d45a11257ea24eb\");'></div><div class=\"grid-item-image-text\"><span dir=\"auto\">17(10)19</span></div></a></li><li><a class=\"cover playlist\" href=\"/playlist/6Ps2EAwKEkX4nCEyIPzjTD\"><div class=\"grid-item-image lazy-image lazy-image_loaded\" data-src=\"//i.scdn.co/image/ab67706c0000da84978a971f18fdb154a23abe29\" style='background-image: url(\"//i.scdn.co/image/ab67706c0000da84978a971f18fdb154a23abe29\");'></div><div class=\"grid-item-image-text\"><span dir=\"auto\">92.9.91</span></div></a></li><li><a class=\"cover playlist\" href=\"/playlist/2qJdHM2i2fnC1YIpXu5wuv\"><div class=\"grid-item-image lazy-image lazy-image_loaded\" data-src=\"//i.scdn.co/image/ab67706c0000da84eaa3e7133ee0918505b980c9\" style='background-image: url(\"//i.scdn.co/image/ab67706c0000da84eaa3e7133ee0918505b980c9\");'></div><div class=\"grid-item-image-text\"><span dir=\"auto\">16****!#$@!</span></div></a></li><li><a class=\"cover playlist\" href=\"/playlist/2gGh9mvamzX15rY3qEmlxQ\"><div class=\"grid-item-image lazy-image lazy-image_loaded\" data-src=\"//i.scdn.co/image/ab67706c0000da8427b460f150d685e328f59644\" style='background-image: url(\"//i.scdn.co/image/ab67706c0000da8427b460f150d685e328f59644\");'></div><div class=\"grid-item-image-text\"><span dir=\"auto\">29/6/19</span></div></a></li><li><a class=\"cover playlist\" href=\"/playlist/51XaFN9kkwvgFbI6Qp1OSH\"><div class=\"grid-item-image lazy-image lazy-image_loaded\" data-src=\"//i.scdn.co/image/ab67706c0000da840a68f6eaea3a222830324011\" style='background-image: url(\"//i.scdn.co/image/ab67706c0000da840a68f6eaea3a222830324011\");'></div><div class=\"grid-item-image-text\"><span dir=\"auto\">nnnnnnnnnnnnnnnnnnnnnnnnnnnnnnnnnnn</span></div></a></li><li><a class=\"cover playlist\" href=\"/playlist/69AwrFf1p9JGQD4gIVgx1B\"><div class=\"grid-item-image lazy-image lazy-image_loaded\" data-src=\"//i.scdn.co/image/ab67706c0000da84a511499989e8670e1d14d6db\" style='background-image: url(\"//i.scdn.co/image/ab67706c0000da84a511499989e8670e1d14d6db\");'></div><div class=\"grid-item-image-text\"><span dir=\"auto\">** 7%!5%^19</span></div></a></li><li><a class=\"cover playlist\" href=\"/playlist/5xKU5xWbQGNYeih78fhbZ0\"><div class=\"grid-item-image lazy-image lazy-image_loaded\" data-src=\"//i.scdn.co/image/ab67706c0000da84d150038f2c890294b71c398b\" style='background-image: url(\"//i.scdn.co/image/ab67706c0000da84d150038f2c890294b71c398b\");'></div><div class=\"grid-item-image-text\"><span dir=\"auto\">13/4/19</span></div></a></li><li><a class=\"cover playlist\" href=\"/playlist/2fFeZUfVodUKIUrpRTHqmr\"><div class=\"grid-item-image lazy-image lazy-image_loaded\" data-src=\"//i.scdn.co/image/ab67706c0000da8469f1a950fb34d9ee318e32e2\" style='background-image: url(\"//i.scdn.co/image/ab67706c0000da8469f1a950fb34d9ee318e32e2\");'></div><div class=\"grid-item-image-text\"><span dir=\"auto\">3.3.19</span></div></a></li><li><a class=\"cover playlist\" href=\"/playlist/02y2Wxeks3aHAR4edbgPtV\"><div class=\"grid-item-image lazy-image lazy-image_loaded\" data-src=\"//i.scdn.co/image/ab67706c0000da849831c7eecc9db824b9843552\" style='background-image: url(\"//i.scdn.co/image/ab67706c0000da849831c7eecc9db824b9843552\");'></div><div class=\"grid-item-image-text\"><span dir=\"auto\">9/2/19</span></div></a></li><li><a class=\"cover playlist\" href=\"/playlist/6Nj7BkPptD5bEQfvTwnwEd\"><div class=\"grid-item-image lazy-image lazy-image_loaded\" data-src=\"//i.scdn.co/image/ab67706c0000da841a4bb0684a9638d9716eaba3\" style='background-image: url(\"//i.scdn.co/image/ab67706c0000da841a4bb0684a9638d9716eaba3\");'></div><div class=\"grid-item-image-text\"><span dir=\"auto\">6/12/18</span></div></a></li><li><a class=\"cover playlist\" href=\"/playlist/5FHwpvueOOXAhgpBi7EQjU\"><div class=\"grid-item-image lazy-image lazy-image_loaded\" data-src=\"//i.scdn.co/image/ab67706c0000da84bccfda6cd060e13bd91568c5\" style='background-image: url(\"//i.scdn.co/image/ab67706c0000da84bccfda6cd060e13bd91568c5\");'></div><div class=\"grid-item-image-text\"><span dir=\"auto\">2/11/18</span></div></a></li><li><a class=\"cover playlist\" href=\"/playlist/3tVMhwwo3ZlEBpd0GKDZgW\"><div class=\"grid-item-image lazy-image lazy-image_loaded\" data-src=\"//i.scdn.co/image/ab67706c0000da84f43f21946fa6134aec23aee7\" style='background-image: url(\"//i.scdn.co/image/ab67706c0000da84f43f21946fa6134aec23aee7\");'></div><div class=\"grid-item-image-text\"><span dir=\"auto\">18/10/18</span></div></a></li><li><a class=\"cover playlist\" href=\"/playlist/1hRLZcFuEzkG7QcTq6lV8l\"><div class=\"grid-item-image lazy-image lazy-image_loaded\" data-src=\"//i.scdn.co/image/ab67706c0000da84a3f19fc279f4a609d0597ac9\" style='background-image: url(\"//i.scdn.co/image/ab67706c0000da84a3f19fc279f4a609d0597ac9\");'></div><div class=\"grid-item-image-text\"><span dir=\"auto\">29/9/18</span></div></a></li><li><a class=\"cover playlist\" href=\"/playlist/2daBY0rudM7hrsuNXytlW9\"><div class=\"grid-item-image lazy-image lazy-image_loaded\" data-src=\"//i.scdn.co/image/ab67706c0000da845496a90bfa8e98f2e83b3eda\" style='background-image: url(\"//i.scdn.co/image/ab67706c0000da845496a90bfa8e98f2e83b3eda\");'></div><div class=\"grid-item-image-text\"><span dir=\"auto\">1/9/18</span></div></a></li><li><a class=\"cover playlist\" href=\"/playlist/2oLvjtrCVIUdWUInAMqwGO\"><div class=\"grid-item-image lazy-image lazy-image_loaded\" data-src=\"//i.scdn.co/image/ab67706c0000da841fdd8395b454a5e7a39febe3\" style='background-image: url(\"//i.scdn.co/image/ab67706c0000da841fdd8395b454a5e7a39febe3\");'></div><div class=\"grid-item-image-text\"><span dir=\"auto\">beep</span></div></a></li><li><a class=\"cover playlist\" href=\"/playlist/72cxf8xXRQOZiYbSJR71io\"><div class=\"grid-item-image lazy-image lazy-image_loaded\" data-src=\"//i.scdn.co/image/ab67706c0000bebbdf139708f899494198a3923f\" style='background-image: url(\"//i.scdn.co/image/ab67706c0000bebbdf139708f899494198a3923f\");'></div><div class=\"grid-item-image-text\"><span dir=\"auto\">COLORS - ALL SHOWS</span></div></a></li><li><a class=\"cover playlist\" href=\"/playlist/3OBsCqsoeDiagzd5OvNOtE\"><div class=\"grid-item-image lazy-image lazy-image_loaded\" data-src=\"//i.scdn.co/image/ab67706c0000da84d8f95f044e34b9af889d6165\" style='background-image: url(\"//i.scdn.co/image/ab67706c0000da84d8f95f044e34b9af889d6165\");'></div><div class=\"grid-item-image-text\"><span dir=\"auto\">$LEAZE</span></div></a></li></ul></div></ul></div></div></header><section class=\"upsell\" id=\"upsell\"><div class=\"bg lazy-image\" data-src=\"//i.scdn.co/image/ab6775700000ee85531dbdce612ad7a5e374f750\"></div><div class=\"overlay\"></div><div class=\"wrapper padding-notch\"></div></section><footer><a class=\"logo-link\" href=\"/browse\"><svg><use xlink:href=\"#spotify-logo\" xmlns:xlink=\"http://www.w3.org/1999/xlink\"></use></svg></a><p class=\"legal\"><a href=\"https://www.spotify.com/legal/\" rel=\"noopener\" target=\"_blank\">Legal</a><br/><a href=\"https://www.spotify.com/legal/privacy-policy/\" rel=\"noopener\" target=\"_blank\">Privacy</a><br/><a href=\"https://www.spotify.com/legal/cookies-policy/\" rel=\"noopener\" target=\"_blank\">Cookies</a><br/><a href=\"https://www.spotify.com/legal/privacy-policy/#s3\" rel=\"noopener\" target=\"_blank\">About Ads</a></p></footer></div>,\n",
       " <script>\n",
       " (function() {\n",
       "     var setFont = function() {\n",
       "         document.documentElement.className += ' fonts-loaded';\n",
       "     };\n",
       "     if (document.fonts && document.fonts.load) {\n",
       "         var fontsToLoad = ['200 1em \\'spotify-circular\\'', '600 1em \\'spotify-circular\\''];\n",
       " \n",
       "         \n",
       "         \n",
       "         \n",
       "         Promise.all(\n",
       "             fontsToLoad.map(function(font) {\n",
       "                 return document.fonts.load(font);\n",
       "             })\n",
       "         ).then(setFont).catch(setFont);\n",
       "     } else {\n",
       "         setFont();\n",
       "     }\n",
       " })();\n",
       " </script>,\n",
       " <svg style=\"display:none\" xmlns=\"http://www.w3.org/2000/svg\"><symbol id=\"spotify-logo\" viewbox=\"0 0 1000 300\"><path d=\"M8 147C8 65 73 0 155 0s148 65 148 147-66 148-148 148S8 229 8 147zm202 69c10 6 20-10 10-16-39-24-88-30-144-17-12 3-7 21 5 18 51-12 94-6 129 15zm15-40c13 8 25-11 12-19-46-28-112-36-166-20-14 4-7 26 7 22 47-14 107-7 147 17zM71 113c45-14 124-10 172 18 15 9 29-15 14-24-55-33-142-36-194-20-17 5-9 31 8 26zm308 4c0 9 4 13 30 19 31 8 44 19 44 40 0 25-19 42-49 42-21 0-40-8-56-22-1-1-1-1 0-2l14-17c1-1 1-1 2 0 14 12 26 17 41 17 13 0 22-6 22-15 0-8-5-13-29-19-29-7-45-16-45-41 0-24 19-40 47-40 19 0 35 5 49 16 1 1 1 2 0 3l-13 17c0 1-1 2-2 1-12-9-23-14-35-14s-20 7-20 15zm109 9c9-10 19-15 32-15 24 0 48 18 48 53s-24 54-48 54c-13 0-23-5-32-15v41c0 1-1 2-2 2h-22c-1 0-2-1-2-2V115c0-1 1-2 2-2h22c1 0 2 1 2 2v11zm27 69c16 0 27-13 27-31s-11-30-27-30-27 13-27 30 11 31 27 31zm60-30c0-30 24-54 55-54s55 23 55 53-24 54-55 54-55-23-55-53zm27-1c0 17 12 31 28 31 17 0 29-12 29-30 0-17-13-31-29-31s-28 12-28 30zm128 54c-20 0-31-10-31-31v-51h-11c-1 0-1-1-1-2v-19c0-1 0-2 1-2h11V87c0-1 1-1 2-1h23c1 0 2 0 2 1v26h25c1 0 1 1 1 2v19c0 1 0 2-1 2h-25v47c0 7 3 11 10 11 3 0 16-4 16-2v19c0 5-17 7-22 7zM865 78v19c0 3-12-1-15-1-8 0-12 5-12 14v3h39c1 0 2 0 2 1l27 70 24-70c0-1 1-1 2-1h23c1 0 2 1 2 2l-40 103c-8 21-17 29-34 29-3 0-27-4-25-9l7-17c0-1 2-2 3-1 4 2 8 4 12 4 5 0 9-2 13-10l-33-78h-21v78c0 1-1 2-2 2h-23c-1 0-1-1-1-2v-78h-11c-1 0-2-1-2-2v-20c0-1 1-1 2-1h11v-5c0-22 11-34 32-34 7 0 20 1 20 4zm-100 35h23c1 0 1 1 1 2v99c0 1 0 2-1 2h-23c-1 0-2-1-2-2v-99c0-1 1-2 2-2zm-5-29c0-9 7-16 16-16s17 7 17 16-8 16-17 16-16-7-16-16zm200 45c0-9 7-16 16-16s17 7 17 16-8 16-17 16-16-7-16-16zm2 0c0 8 6 14 14 14s15-6 15-14-7-15-15-15-14 7-14 15zm23 8h-4l-4-6h-4v6h-3v-17h7c4 0 7 2 7 5s-2 4-4 5zm-12-14v5h4c2 0 4-1 4-3s-2-2-4-2h-4z\" fill=\"currentColor\"></path></symbol><symbol id=\"icon-play\" viewbox=\"0 0 85 100\"><path d=\"M81 44.6c5 3 5 7.8 0 10.8L9 98.7c-5 3-9 .7-9-5V6.3c0-5.7 4-8 9-5l72 43.3z\" fill=\"currentColor\"></path></symbol><symbol id=\"icon-pause\" viewbox=\"0 0 60 100\"><path d=\"M0 8c0-5 3-8 8-8s9 3 9 8v84c0 5-4 8-9 8s-8-3-8-8V8zm43 0c0-5 3-8 8-8s8 3 8 8v84c0 5-3 8-8 8s-8-3-8-8V8z\" fill=\"currentColor\"></path></symbol><symbol id=\"icon-explicit\" viewbox=\"0 0 20 20\"><path d=\"M9 9V7h4V5H7v10h6v-2H9v-2h4V9H9zM0 2.994C0 1.34 1.343 0 2.994 0h14.012C18.66 0 20 1.343 20 2.994v14.012C20 18.66 18.657 20 17.006 20H2.994C1.34 20 0 18.657 0 17.006V2.994z\" fill=\"currentColor\"></path></symbol><symbol id=\"icon-close\" viewbox=\"0 0 2016 2016\"><path d=\"M1681 1512q35 35 35 84.5t-35 84.5-84.5 35-84.5-35l-504-504-504 504q-35 35-84.5 35t-84.5-35-35-84.5 35-84.5l504-504-504-504q-35-35-35-84.5t35-84.5q34-35 84-35 51 0 85 35l504 504 504-504q34-35 85-35 50 0 84 35 35 35 35 84.5t-35 84.5l-504 504 504 504z\" fill=\"currentColor\"></path></symbol></svg>,\n",
       " <symbol id=\"spotify-logo\" viewbox=\"0 0 1000 300\"><path d=\"M8 147C8 65 73 0 155 0s148 65 148 147-66 148-148 148S8 229 8 147zm202 69c10 6 20-10 10-16-39-24-88-30-144-17-12 3-7 21 5 18 51-12 94-6 129 15zm15-40c13 8 25-11 12-19-46-28-112-36-166-20-14 4-7 26 7 22 47-14 107-7 147 17zM71 113c45-14 124-10 172 18 15 9 29-15 14-24-55-33-142-36-194-20-17 5-9 31 8 26zm308 4c0 9 4 13 30 19 31 8 44 19 44 40 0 25-19 42-49 42-21 0-40-8-56-22-1-1-1-1 0-2l14-17c1-1 1-1 2 0 14 12 26 17 41 17 13 0 22-6 22-15 0-8-5-13-29-19-29-7-45-16-45-41 0-24 19-40 47-40 19 0 35 5 49 16 1 1 1 2 0 3l-13 17c0 1-1 2-2 1-12-9-23-14-35-14s-20 7-20 15zm109 9c9-10 19-15 32-15 24 0 48 18 48 53s-24 54-48 54c-13 0-23-5-32-15v41c0 1-1 2-2 2h-22c-1 0-2-1-2-2V115c0-1 1-2 2-2h22c1 0 2 1 2 2v11zm27 69c16 0 27-13 27-31s-11-30-27-30-27 13-27 30 11 31 27 31zm60-30c0-30 24-54 55-54s55 23 55 53-24 54-55 54-55-23-55-53zm27-1c0 17 12 31 28 31 17 0 29-12 29-30 0-17-13-31-29-31s-28 12-28 30zm128 54c-20 0-31-10-31-31v-51h-11c-1 0-1-1-1-2v-19c0-1 0-2 1-2h11V87c0-1 1-1 2-1h23c1 0 2 0 2 1v26h25c1 0 1 1 1 2v19c0 1 0 2-1 2h-25v47c0 7 3 11 10 11 3 0 16-4 16-2v19c0 5-17 7-22 7zM865 78v19c0 3-12-1-15-1-8 0-12 5-12 14v3h39c1 0 2 0 2 1l27 70 24-70c0-1 1-1 2-1h23c1 0 2 1 2 2l-40 103c-8 21-17 29-34 29-3 0-27-4-25-9l7-17c0-1 2-2 3-1 4 2 8 4 12 4 5 0 9-2 13-10l-33-78h-21v78c0 1-1 2-2 2h-23c-1 0-1-1-1-2v-78h-11c-1 0-2-1-2-2v-20c0-1 1-1 2-1h11v-5c0-22 11-34 32-34 7 0 20 1 20 4zm-100 35h23c1 0 1 1 1 2v99c0 1 0 2-1 2h-23c-1 0-2-1-2-2v-99c0-1 1-2 2-2zm-5-29c0-9 7-16 16-16s17 7 17 16-8 16-17 16-16-7-16-16zm200 45c0-9 7-16 16-16s17 7 17 16-8 16-17 16-16-7-16-16zm2 0c0 8 6 14 14 14s15-6 15-14-7-15-15-15-14 7-14 15zm23 8h-4l-4-6h-4v6h-3v-17h7c4 0 7 2 7 5s-2 4-4 5zm-12-14v5h4c2 0 4-1 4-3s-2-2-4-2h-4z\" fill=\"currentColor\"></path></symbol>,\n",
       " <path d=\"M8 147C8 65 73 0 155 0s148 65 148 147-66 148-148 148S8 229 8 147zm202 69c10 6 20-10 10-16-39-24-88-30-144-17-12 3-7 21 5 18 51-12 94-6 129 15zm15-40c13 8 25-11 12-19-46-28-112-36-166-20-14 4-7 26 7 22 47-14 107-7 147 17zM71 113c45-14 124-10 172 18 15 9 29-15 14-24-55-33-142-36-194-20-17 5-9 31 8 26zm308 4c0 9 4 13 30 19 31 8 44 19 44 40 0 25-19 42-49 42-21 0-40-8-56-22-1-1-1-1 0-2l14-17c1-1 1-1 2 0 14 12 26 17 41 17 13 0 22-6 22-15 0-8-5-13-29-19-29-7-45-16-45-41 0-24 19-40 47-40 19 0 35 5 49 16 1 1 1 2 0 3l-13 17c0 1-1 2-2 1-12-9-23-14-35-14s-20 7-20 15zm109 9c9-10 19-15 32-15 24 0 48 18 48 53s-24 54-48 54c-13 0-23-5-32-15v41c0 1-1 2-2 2h-22c-1 0-2-1-2-2V115c0-1 1-2 2-2h22c1 0 2 1 2 2v11zm27 69c16 0 27-13 27-31s-11-30-27-30-27 13-27 30 11 31 27 31zm60-30c0-30 24-54 55-54s55 23 55 53-24 54-55 54-55-23-55-53zm27-1c0 17 12 31 28 31 17 0 29-12 29-30 0-17-13-31-29-31s-28 12-28 30zm128 54c-20 0-31-10-31-31v-51h-11c-1 0-1-1-1-2v-19c0-1 0-2 1-2h11V87c0-1 1-1 2-1h23c1 0 2 0 2 1v26h25c1 0 1 1 1 2v19c0 1 0 2-1 2h-25v47c0 7 3 11 10 11 3 0 16-4 16-2v19c0 5-17 7-22 7zM865 78v19c0 3-12-1-15-1-8 0-12 5-12 14v3h39c1 0 2 0 2 1l27 70 24-70c0-1 1-1 2-1h23c1 0 2 1 2 2l-40 103c-8 21-17 29-34 29-3 0-27-4-25-9l7-17c0-1 2-2 3-1 4 2 8 4 12 4 5 0 9-2 13-10l-33-78h-21v78c0 1-1 2-2 2h-23c-1 0-1-1-1-2v-78h-11c-1 0-2-1-2-2v-20c0-1 1-1 2-1h11v-5c0-22 11-34 32-34 7 0 20 1 20 4zm-100 35h23c1 0 1 1 1 2v99c0 1 0 2-1 2h-23c-1 0-2-1-2-2v-99c0-1 1-2 2-2zm-5-29c0-9 7-16 16-16s17 7 17 16-8 16-17 16-16-7-16-16zm200 45c0-9 7-16 16-16s17 7 17 16-8 16-17 16-16-7-16-16zm2 0c0 8 6 14 14 14s15-6 15-14-7-15-15-15-14 7-14 15zm23 8h-4l-4-6h-4v6h-3v-17h7c4 0 7 2 7 5s-2 4-4 5zm-12-14v5h4c2 0 4-1 4-3s-2-2-4-2h-4z\" fill=\"currentColor\"></path>,\n",
       " <symbol id=\"icon-play\" viewbox=\"0 0 85 100\"><path d=\"M81 44.6c5 3 5 7.8 0 10.8L9 98.7c-5 3-9 .7-9-5V6.3c0-5.7 4-8 9-5l72 43.3z\" fill=\"currentColor\"></path></symbol>,\n",
       " <path d=\"M81 44.6c5 3 5 7.8 0 10.8L9 98.7c-5 3-9 .7-9-5V6.3c0-5.7 4-8 9-5l72 43.3z\" fill=\"currentColor\"></path>,\n",
       " <symbol id=\"icon-pause\" viewbox=\"0 0 60 100\"><path d=\"M0 8c0-5 3-8 8-8s9 3 9 8v84c0 5-4 8-9 8s-8-3-8-8V8zm43 0c0-5 3-8 8-8s8 3 8 8v84c0 5-3 8-8 8s-8-3-8-8V8z\" fill=\"currentColor\"></path></symbol>,\n",
       " <path d=\"M0 8c0-5 3-8 8-8s9 3 9 8v84c0 5-4 8-9 8s-8-3-8-8V8zm43 0c0-5 3-8 8-8s8 3 8 8v84c0 5-3 8-8 8s-8-3-8-8V8z\" fill=\"currentColor\"></path>,\n",
       " <symbol id=\"icon-explicit\" viewbox=\"0 0 20 20\"><path d=\"M9 9V7h4V5H7v10h6v-2H9v-2h4V9H9zM0 2.994C0 1.34 1.343 0 2.994 0h14.012C18.66 0 20 1.343 20 2.994v14.012C20 18.66 18.657 20 17.006 20H2.994C1.34 20 0 18.657 0 17.006V2.994z\" fill=\"currentColor\"></path></symbol>,\n",
       " <path d=\"M9 9V7h4V5H7v10h6v-2H9v-2h4V9H9zM0 2.994C0 1.34 1.343 0 2.994 0h14.012C18.66 0 20 1.343 20 2.994v14.012C20 18.66 18.657 20 17.006 20H2.994C1.34 20 0 18.657 0 17.006V2.994z\" fill=\"currentColor\"></path>,\n",
       " <symbol id=\"icon-close\" viewbox=\"0 0 2016 2016\"><path d=\"M1681 1512q35 35 35 84.5t-35 84.5-84.5 35-84.5-35l-504-504-504 504q-35 35-84.5 35t-84.5-35-35-84.5 35-84.5l504-504-504-504q-35-35-35-84.5t35-84.5q34-35 84-35 51 0 85 35l504 504 504-504q34-35 85-35 50 0 84 35 35 35 35 84.5t-35 84.5l-504 504 504 504z\" fill=\"currentColor\"></path></symbol>,\n",
       " <path d=\"M1681 1512q35 35 35 84.5t-35 84.5-84.5 35-84.5-35l-504-504-504 504q-35 35-84.5 35t-84.5-35-35-84.5 35-84.5l504-504-504-504q-35-35-35-84.5t35-84.5q34-35 84-35 51 0 85 35l504 504 504-504q34-35 85-35 50 0 84 35 35 35 35 84.5t-35 84.5l-504 504 504 504z\" fill=\"currentColor\"></path>,\n",
       " <div class=\"notice notice-info padding-notch\" id=\"cookie-notice\"><p>\n",
       "         We and <a href=\"https://www.spotify.com/us/legal/cookies-vendor-list/\" rel=\"noopener\" target=\"_blank\">our partners</a> use cookies to personalize your experience, to show you ads based on your interests, and for measurement and analytics purposes. By using our website and our services, you agree to our use of cookies as described in our <a href=\"https://www.spotify.com/legal/cookies-policy/\" rel=\"noopener\" target=\"_blank\">Cookie Policy</a>.\n",
       "     </p><button aria-label=\"Close\" type=\"button\">×</button></div>,\n",
       " <p>\n",
       "         We and <a href=\"https://www.spotify.com/us/legal/cookies-vendor-list/\" rel=\"noopener\" target=\"_blank\">our partners</a> use cookies to personalize your experience, to show you ads based on your interests, and for measurement and analytics purposes. By using our website and our services, you agree to our use of cookies as described in our <a href=\"https://www.spotify.com/legal/cookies-policy/\" rel=\"noopener\" target=\"_blank\">Cookie Policy</a>.\n",
       "     </p>,\n",
       " <a href=\"https://www.spotify.com/us/legal/cookies-vendor-list/\" rel=\"noopener\" target=\"_blank\">our partners</a>,\n",
       " <a href=\"https://www.spotify.com/legal/cookies-policy/\" rel=\"noopener\" target=\"_blank\">Cookie Policy</a>,\n",
       " <button aria-label=\"Close\" type=\"button\">×</button>,\n",
       " <div class=\"notice notice-warning padding-notch\" id=\"browser-support-notice\"><p>\n",
       "     This browser doesn't support Spotify Web Player. <a href=\"https://support.spotify.com/using_spotify/the_basics/webplayer\">Switch browsers</a> or <a href=\"https://www.spotify.com/download\">download Spotify</a> for your desktop.\n",
       "   </p></div>,\n",
       " <p>\n",
       "     This browser doesn't support Spotify Web Player. <a href=\"https://support.spotify.com/using_spotify/the_basics/webplayer\">Switch browsers</a> or <a href=\"https://www.spotify.com/download\">download Spotify</a> for your desktop.\n",
       "   </p>,\n",
       " <a href=\"https://support.spotify.com/using_spotify/the_basics/webplayer\">Switch browsers</a>,\n",
       " <a href=\"https://www.spotify.com/download\">download Spotify</a>,\n",
       " <header class=\"view\"><div class=\"bg lazy-image\" data-src=\"//i.scdn.co/image/ab6775700000ee85531dbdce612ad7a5e374f750\"></div><div class=\"overlay\"></div><div class=\"wrapper padding-notch\"><div id=\"main-header\"><a class=\"logo-link\" href=\"/browse\"><svg><use xlink:href=\"#spotify-logo\" xmlns:xlink=\"http://www.w3.org/1999/xlink\"></use></svg></a></div><h1 class=\"view-header\"><span dir=\"auto\">Kevin Nguyen</span></h1><button class=\"btn btn-green js-action-button\" data-track-type=\"button-header\"><span class=\"js-action-label\">Open in Spotify</span></button><div class=\"grid\"><ul class=\"more-by-grid view padding-notch\" style=\"list-style: none\"><div class=\"grid\"><div class=\"grid-heading\"><h3 class=\"subview-title\">Public Playlists</h3></div><ul class=\"more-by-grid more-by-grid-8 playlist padding-notch\" style=\"list-style: none\"><li><a class=\"cover playlist\" href=\"/playlist/5EbNNdQvJ8U4TyuqetE5pY\"><div class=\"grid-item-image lazy-image lazy-image_loaded\" data-src=\"//i.scdn.co/image/ab67706c0000da848103c5c7f921e5ef07e88361\" style='background-image: url(\"//i.scdn.co/image/ab67706c0000da848103c5c7f921e5ef07e88361\");'></div><div class=\"grid-item-image-text\"><span dir=\"auto\">2000's</span></div></a></li><li><a class=\"cover playlist\" href=\"/playlist/7lHgB4bzld24t7kgy4MK9K\"><div class=\"grid-item-image lazy-image lazy-image_loaded\" data-src=\"//i.scdn.co/image/ab67706c0000da841345d9ae12f3f181e1f0be3c\" style='background-image: url(\"//i.scdn.co/image/ab67706c0000da841345d9ae12f3f181e1f0be3c\");'></div><div class=\"grid-item-image-text\"><span dir=\"auto\">mitre 10</span></div></a></li><li><a class=\"cover playlist\" href=\"/playlist/3RTdVqzTm3YgL3KLa13qQV\"><div class=\"grid-item-image lazy-image lazy-image_loaded\" data-src=\"//i.scdn.co/image/ab67706c0000da84dbaa9c7f8ec9217adbe6f37f\" style='background-image: url(\"//i.scdn.co/image/ab67706c0000da84dbaa9c7f8ec9217adbe6f37f\");'></div><div class=\"grid-item-image-text\"><span dir=\"auto\">Small potatoes</span></div></a></li><li><a class=\"cover playlist\" href=\"/playlist/2cV5Bwarta7LPXzbiaYTyf\"><div class=\"grid-item-image lazy-image lazy-image_loaded\" data-src=\"//i.scdn.co/image/ab67706c0000da84d886a21d7d213cd9b5248553\" style='background-image: url(\"//i.scdn.co/image/ab67706c0000da84d886a21d7d213cd9b5248553\");'></div><div class=\"grid-item-image-text\"><span dir=\"auto\">mangoes</span></div></a></li><li><a class=\"cover playlist\" href=\"/playlist/2Cb1eD1J6jlsxKBoNXTTtd\"><div class=\"grid-item-image lazy-image lazy-image_loaded\" data-src=\"//i.scdn.co/image/ab67706c0000da84860424014d9497565e8cc017\" style='background-image: url(\"//i.scdn.co/image/ab67706c0000da84860424014d9497565e8cc017\");'></div><div class=\"grid-item-image-text\"><span dir=\"auto\">bawawaweewa</span></div></a></li><li><a class=\"cover playlist\" href=\"/playlist/0UYrhQh0B0oWx4mQINEdIQ\"><div class=\"grid-item-image lazy-image lazy-image_loaded\" data-src=\"//i.scdn.co/image/ab67706c0000bebb63003b69daa16eda833d7ce9\" style='background-image: url(\"//i.scdn.co/image/ab67706c0000bebb63003b69daa16eda833d7ce9\");'></div><div class=\"grid-item-image-text\"><span dir=\"auto\">[sLUms+CO]</span></div></a></li><li><a class=\"cover playlist\" href=\"/playlist/5lM2ngCx1eF1QQiWXTT5h0\"><div class=\"grid-item-image lazy-image lazy-image_loaded\" data-src=\"//i.scdn.co/image/ab67706c0000da8476e2c1786a0e99b81640f881\" style='background-image: url(\"//i.scdn.co/image/ab67706c0000da8476e2c1786a0e99b81640f881\");'></div><div class=\"grid-item-image-text\"><span dir=\"auto\">lo-fi anime beats to study and chill to</span></div></a></li><li><a class=\"cover playlist\" href=\"/playlist/0N0yZvX6kl2VTaU289UgnM\"><div class=\"grid-item-image lazy-image lazy-image_loaded\" data-src=\"//i.scdn.co/image/ab67706c0000da84187c7f9ecb0c9f78fb5a45cb\" style='background-image: url(\"//i.scdn.co/image/ab67706c0000da84187c7f9ecb0c9f78fb5a45cb\");'></div><div class=\"grid-item-image-text\"><span dir=\"auto\">yeughh</span></div></a></li><li><a class=\"cover playlist\" href=\"/playlist/0eyLdRCySHOjnnur6rpHA1\"><div class=\"grid-item-image lazy-image lazy-image_loaded\" data-src=\"//i.scdn.co/image/ab67706c0000da84358df36b9c73c1ac73cbcdd0\" style='background-image: url(\"//i.scdn.co/image/ab67706c0000da84358df36b9c73c1ac73cbcdd0\");'></div><div class=\"grid-item-image-text\"><span dir=\"auto\">septombur</span></div></a></li><li><a class=\"cover playlist\" href=\"/playlist/4uhQ4gWB5KKraePWgeuXen\"><div class=\"grid-item-image lazy-image lazy-image_loaded\" data-src=\"//i.scdn.co/image/ab67706c0000da8408ff9075187422be34f61d45\" style='background-image: url(\"//i.scdn.co/image/ab67706c0000da8408ff9075187422be34f61d45\");'></div><div class=\"grid-item-image-text\"><span dir=\"auto\">AUGUST</span></div></a></li><li><a class=\"cover playlist\" href=\"/playlist/4FZoXwAdXd73KUsfrXqDWa\"><div class=\"grid-item-image lazy-image lazy-image_loaded\" data-src=\"//i.scdn.co/image/ab67706c0000da8435dd94ac569622632b901dd9\" style='background-image: url(\"//i.scdn.co/image/ab67706c0000da8435dd94ac569622632b901dd9\");'></div><div class=\"grid-item-image-text\"><span dir=\"auto\">bangers!!</span></div></a></li><li><a class=\"cover playlist\" href=\"/playlist/1VogboyjYSmA3Xf2F20YOA\"><div class=\"grid-item-image lazy-image lazy-image_loaded\" data-src=\"//i.scdn.co/image/ab67706c0000da84d33777a4e83c79428b127b0e\" style='background-image: url(\"//i.scdn.co/image/ab67706c0000da84d33777a4e83c79428b127b0e\");'></div><div class=\"grid-item-image-text\"><span dir=\"auto\">may</span></div></a></li><li><a class=\"cover playlist\" href=\"/playlist/1Eir2w06qRxn3yBToOT91j\"><div class=\"grid-item-image lazy-image lazy-image_loaded\" data-src=\"//i.scdn.co/image/ab67706c0000da843d57081a5603441fe25ba782\" style='background-image: url(\"//i.scdn.co/image/ab67706c0000da843d57081a5603441fe25ba782\");'></div><div class=\"grid-item-image-text\"><span dir=\"auto\">doot</span></div></a></li><li><a class=\"cover playlist\" href=\"/playlist/0tSshgFzOPK4am84cP7NxW\"><div class=\"grid-item-image lazy-image lazy-image_loaded\" data-src=\"//i.scdn.co/image/ab67706c0000da844d1e8d0b8f13813f402784b0\" style='background-image: url(\"//i.scdn.co/image/ab67706c0000da844d1e8d0b8f13813f402784b0\");'></div><div class=\"grid-item-image-text\"><span dir=\"auto\">ahhhh fuck this frigerator</span></div></a></li><li><a class=\"cover playlist\" href=\"/playlist/3iWEerbgDWrzqnRFJl9Ppf\"><div class=\"grid-item-image lazy-image lazy-image_loaded\" data-src=\"//i.scdn.co/image/ab67706c0000da84e6f4ecc61071c1daf416f105\" style='background-image: url(\"//i.scdn.co/image/ab67706c0000da84e6f4ecc61071c1daf416f105\");'></div><div class=\"grid-item-image-text\"><span dir=\"auto\">, , ,</span></div></a></li><li><a class=\"cover playlist\" href=\"/playlist/0ZKVHuUE755Hq1eXOGtTlu\"><div class=\"grid-item-image lazy-image lazy-image_loaded\" data-src=\"//i.scdn.co/image/ab67706c0000da848e772970689b2fb0b3fdf632\" style='background-image: url(\"//i.scdn.co/image/ab67706c0000da848e772970689b2fb0b3fdf632\");'></div><div class=\"grid-item-image-text\"><span dir=\"auto\">MARch</span></div></a></li><li><a class=\"cover playlist\" href=\"/playlist/1M3MJAfm5fMshfKBIaZj5n\"><div class=\"grid-item-image lazy-image lazy-image_loaded\" data-src=\"//i.scdn.co/image/ab67706c0000da84c002e4acc8883ef985063be6\" style='background-image: url(\"//i.scdn.co/image/ab67706c0000da84c002e4acc8883ef985063be6\");'></div><div class=\"grid-item-image-text\"><span dir=\"auto\">shaqavelli</span></div></a></li><li><a class=\"cover playlist\" href=\"/playlist/0gd1DST9Tp90FHNuWEmWEV\"><div class=\"grid-item-image lazy-image lazy-image_loaded\" data-src=\"//i.scdn.co/image/ab67706c0000da84ba3e7e65752dc091175f0a03\" style='background-image: url(\"//i.scdn.co/image/ab67706c0000da84ba3e7e65752dc091175f0a03\");'></div><div class=\"grid-item-image-text\"><span dir=\"auto\">1010101010101010</span></div></a></li><li><a class=\"cover playlist\" href=\"/playlist/41opuZgKBPirjz4yQPFbm6\"><div class=\"grid-item-image lazy-image lazy-image_loaded\" data-src=\"//i.scdn.co/image/ab67706c0000da8497602c35372caff3ccd5fd49\" style='background-image: url(\"//i.scdn.co/image/ab67706c0000da8497602c35372caff3ccd5fd49\");'></div><div class=\"grid-item-image-text\"><span dir=\"auto\">1620</span></div></a></li><li><a class=\"cover playlist\" href=\"/playlist/42iEAkjLPHXRIGiZPOw9QN\"><div class=\"grid-item-image lazy-image lazy-image_loaded\" data-src=\"//i.scdn.co/image/ab67706c0000da84068467cfb6cf52bc8eaa77bf\" style='background-image: url(\"//i.scdn.co/image/ab67706c0000da84068467cfb6cf52bc8eaa77bf\");'></div><div class=\"grid-item-image-text\"><span dir=\"auto\">fka!</span></div></a></li><li><a class=\"cover playlist\" href=\"/playlist/5TdecqhIsNy42q5Y70s0Ij\"><div class=\"grid-item-image lazy-image lazy-image_loaded\" data-src=\"//i.scdn.co/image/ab67706c0000da843102ea32ae664c58c0737cea\" style='background-image: url(\"//i.scdn.co/image/ab67706c0000da843102ea32ae664c58c0737cea\");'></div><div class=\"grid-item-image-text\"><span dir=\"auto\">29*@!$</span></div></a></li><li><a class=\"cover playlist\" href=\"/playlist/13acy6PNOzru2GaJoTYnVR\"><div class=\"grid-item-image lazy-image lazy-image_loaded\" data-src=\"//i.scdn.co/image/ab67706c0000da842baf3b4ca1d5d9d1d775b684\" style='background-image: url(\"//i.scdn.co/image/ab67706c0000da842baf3b4ca1d5d9d1d775b684\");'></div><div class=\"grid-item-image-text\"><span dir=\"auto\">{131219}</span></div></a></li><li><a class=\"cover playlist\" href=\"/playlist/0CUAeUT89zp3Xo0p6bKaPP\"><div class=\"grid-item-image lazy-image lazy-image_loaded\" data-src=\"//i.scdn.co/image/ab67706c0000da8423e4c476893acfd45df82845\" style='background-image: url(\"//i.scdn.co/image/ab67706c0000da8423e4c476893acfd45df82845\");'></div><div class=\"grid-item-image-text\"><span dir=\"auto\">81119</span></div></a></li><li><a class=\"cover playlist\" href=\"/playlist/2BxIym2EtZbRWetm9cHlyg\"><div class=\"grid-item-image lazy-image lazy-image_loaded\" data-src=\"//i.scdn.co/image/ab67706c0000da8407c54c196d45a11257ea24eb\" style='background-image: url(\"//i.scdn.co/image/ab67706c0000da8407c54c196d45a11257ea24eb\");'></div><div class=\"grid-item-image-text\"><span dir=\"auto\">17(10)19</span></div></a></li><li><a class=\"cover playlist\" href=\"/playlist/6Ps2EAwKEkX4nCEyIPzjTD\"><div class=\"grid-item-image lazy-image lazy-image_loaded\" data-src=\"//i.scdn.co/image/ab67706c0000da84978a971f18fdb154a23abe29\" style='background-image: url(\"//i.scdn.co/image/ab67706c0000da84978a971f18fdb154a23abe29\");'></div><div class=\"grid-item-image-text\"><span dir=\"auto\">92.9.91</span></div></a></li><li><a class=\"cover playlist\" href=\"/playlist/2qJdHM2i2fnC1YIpXu5wuv\"><div class=\"grid-item-image lazy-image lazy-image_loaded\" data-src=\"//i.scdn.co/image/ab67706c0000da84eaa3e7133ee0918505b980c9\" style='background-image: url(\"//i.scdn.co/image/ab67706c0000da84eaa3e7133ee0918505b980c9\");'></div><div class=\"grid-item-image-text\"><span dir=\"auto\">16****!#$@!</span></div></a></li><li><a class=\"cover playlist\" href=\"/playlist/2gGh9mvamzX15rY3qEmlxQ\"><div class=\"grid-item-image lazy-image lazy-image_loaded\" data-src=\"//i.scdn.co/image/ab67706c0000da8427b460f150d685e328f59644\" style='background-image: url(\"//i.scdn.co/image/ab67706c0000da8427b460f150d685e328f59644\");'></div><div class=\"grid-item-image-text\"><span dir=\"auto\">29/6/19</span></div></a></li><li><a class=\"cover playlist\" href=\"/playlist/51XaFN9kkwvgFbI6Qp1OSH\"><div class=\"grid-item-image lazy-image lazy-image_loaded\" data-src=\"//i.scdn.co/image/ab67706c0000da840a68f6eaea3a222830324011\" style='background-image: url(\"//i.scdn.co/image/ab67706c0000da840a68f6eaea3a222830324011\");'></div><div class=\"grid-item-image-text\"><span dir=\"auto\">nnnnnnnnnnnnnnnnnnnnnnnnnnnnnnnnnnn</span></div></a></li><li><a class=\"cover playlist\" href=\"/playlist/69AwrFf1p9JGQD4gIVgx1B\"><div class=\"grid-item-image lazy-image lazy-image_loaded\" data-src=\"//i.scdn.co/image/ab67706c0000da84a511499989e8670e1d14d6db\" style='background-image: url(\"//i.scdn.co/image/ab67706c0000da84a511499989e8670e1d14d6db\");'></div><div class=\"grid-item-image-text\"><span dir=\"auto\">** 7%!5%^19</span></div></a></li><li><a class=\"cover playlist\" href=\"/playlist/5xKU5xWbQGNYeih78fhbZ0\"><div class=\"grid-item-image lazy-image lazy-image_loaded\" data-src=\"//i.scdn.co/image/ab67706c0000da84d150038f2c890294b71c398b\" style='background-image: url(\"//i.scdn.co/image/ab67706c0000da84d150038f2c890294b71c398b\");'></div><div class=\"grid-item-image-text\"><span dir=\"auto\">13/4/19</span></div></a></li><li><a class=\"cover playlist\" href=\"/playlist/2fFeZUfVodUKIUrpRTHqmr\"><div class=\"grid-item-image lazy-image lazy-image_loaded\" data-src=\"//i.scdn.co/image/ab67706c0000da8469f1a950fb34d9ee318e32e2\" style='background-image: url(\"//i.scdn.co/image/ab67706c0000da8469f1a950fb34d9ee318e32e2\");'></div><div class=\"grid-item-image-text\"><span dir=\"auto\">3.3.19</span></div></a></li><li><a class=\"cover playlist\" href=\"/playlist/02y2Wxeks3aHAR4edbgPtV\"><div class=\"grid-item-image lazy-image lazy-image_loaded\" data-src=\"//i.scdn.co/image/ab67706c0000da849831c7eecc9db824b9843552\" style='background-image: url(\"//i.scdn.co/image/ab67706c0000da849831c7eecc9db824b9843552\");'></div><div class=\"grid-item-image-text\"><span dir=\"auto\">9/2/19</span></div></a></li><li><a class=\"cover playlist\" href=\"/playlist/6Nj7BkPptD5bEQfvTwnwEd\"><div class=\"grid-item-image lazy-image lazy-image_loaded\" data-src=\"//i.scdn.co/image/ab67706c0000da841a4bb0684a9638d9716eaba3\" style='background-image: url(\"//i.scdn.co/image/ab67706c0000da841a4bb0684a9638d9716eaba3\");'></div><div class=\"grid-item-image-text\"><span dir=\"auto\">6/12/18</span></div></a></li><li><a class=\"cover playlist\" href=\"/playlist/5FHwpvueOOXAhgpBi7EQjU\"><div class=\"grid-item-image lazy-image lazy-image_loaded\" data-src=\"//i.scdn.co/image/ab67706c0000da84bccfda6cd060e13bd91568c5\" style='background-image: url(\"//i.scdn.co/image/ab67706c0000da84bccfda6cd060e13bd91568c5\");'></div><div class=\"grid-item-image-text\"><span dir=\"auto\">2/11/18</span></div></a></li><li><a class=\"cover playlist\" href=\"/playlist/3tVMhwwo3ZlEBpd0GKDZgW\"><div class=\"grid-item-image lazy-image lazy-image_loaded\" data-src=\"//i.scdn.co/image/ab67706c0000da84f43f21946fa6134aec23aee7\" style='background-image: url(\"//i.scdn.co/image/ab67706c0000da84f43f21946fa6134aec23aee7\");'></div><div class=\"grid-item-image-text\"><span dir=\"auto\">18/10/18</span></div></a></li><li><a class=\"cover playlist\" href=\"/playlist/1hRLZcFuEzkG7QcTq6lV8l\"><div class=\"grid-item-image lazy-image lazy-image_loaded\" data-src=\"//i.scdn.co/image/ab67706c0000da84a3f19fc279f4a609d0597ac9\" style='background-image: url(\"//i.scdn.co/image/ab67706c0000da84a3f19fc279f4a609d0597ac9\");'></div><div class=\"grid-item-image-text\"><span dir=\"auto\">29/9/18</span></div></a></li><li><a class=\"cover playlist\" href=\"/playlist/2daBY0rudM7hrsuNXytlW9\"><div class=\"grid-item-image lazy-image lazy-image_loaded\" data-src=\"//i.scdn.co/image/ab67706c0000da845496a90bfa8e98f2e83b3eda\" style='background-image: url(\"//i.scdn.co/image/ab67706c0000da845496a90bfa8e98f2e83b3eda\");'></div><div class=\"grid-item-image-text\"><span dir=\"auto\">1/9/18</span></div></a></li><li><a class=\"cover playlist\" href=\"/playlist/2oLvjtrCVIUdWUInAMqwGO\"><div class=\"grid-item-image lazy-image lazy-image_loaded\" data-src=\"//i.scdn.co/image/ab67706c0000da841fdd8395b454a5e7a39febe3\" style='background-image: url(\"//i.scdn.co/image/ab67706c0000da841fdd8395b454a5e7a39febe3\");'></div><div class=\"grid-item-image-text\"><span dir=\"auto\">beep</span></div></a></li><li><a class=\"cover playlist\" href=\"/playlist/72cxf8xXRQOZiYbSJR71io\"><div class=\"grid-item-image lazy-image lazy-image_loaded\" data-src=\"//i.scdn.co/image/ab67706c0000bebbdf139708f899494198a3923f\" style='background-image: url(\"//i.scdn.co/image/ab67706c0000bebbdf139708f899494198a3923f\");'></div><div class=\"grid-item-image-text\"><span dir=\"auto\">COLORS - ALL SHOWS</span></div></a></li><li><a class=\"cover playlist\" href=\"/playlist/3OBsCqsoeDiagzd5OvNOtE\"><div class=\"grid-item-image lazy-image lazy-image_loaded\" data-src=\"//i.scdn.co/image/ab67706c0000da84d8f95f044e34b9af889d6165\" style='background-image: url(\"//i.scdn.co/image/ab67706c0000da84d8f95f044e34b9af889d6165\");'></div><div class=\"grid-item-image-text\"><span dir=\"auto\">$LEAZE</span></div></a></li></ul></div></ul></div></div></header>,\n",
       " <div class=\"bg lazy-image\" data-src=\"//i.scdn.co/image/ab6775700000ee85531dbdce612ad7a5e374f750\"></div>,\n",
       " <div class=\"overlay\"></div>,\n",
       " <div class=\"wrapper padding-notch\"><div id=\"main-header\"><a class=\"logo-link\" href=\"/browse\"><svg><use xlink:href=\"#spotify-logo\" xmlns:xlink=\"http://www.w3.org/1999/xlink\"></use></svg></a></div><h1 class=\"view-header\"><span dir=\"auto\">Kevin Nguyen</span></h1><button class=\"btn btn-green js-action-button\" data-track-type=\"button-header\"><span class=\"js-action-label\">Open in Spotify</span></button><div class=\"grid\"><ul class=\"more-by-grid view padding-notch\" style=\"list-style: none\"><div class=\"grid\"><div class=\"grid-heading\"><h3 class=\"subview-title\">Public Playlists</h3></div><ul class=\"more-by-grid more-by-grid-8 playlist padding-notch\" style=\"list-style: none\"><li><a class=\"cover playlist\" href=\"/playlist/5EbNNdQvJ8U4TyuqetE5pY\"><div class=\"grid-item-image lazy-image lazy-image_loaded\" data-src=\"//i.scdn.co/image/ab67706c0000da848103c5c7f921e5ef07e88361\" style='background-image: url(\"//i.scdn.co/image/ab67706c0000da848103c5c7f921e5ef07e88361\");'></div><div class=\"grid-item-image-text\"><span dir=\"auto\">2000's</span></div></a></li><li><a class=\"cover playlist\" href=\"/playlist/7lHgB4bzld24t7kgy4MK9K\"><div class=\"grid-item-image lazy-image lazy-image_loaded\" data-src=\"//i.scdn.co/image/ab67706c0000da841345d9ae12f3f181e1f0be3c\" style='background-image: url(\"//i.scdn.co/image/ab67706c0000da841345d9ae12f3f181e1f0be3c\");'></div><div class=\"grid-item-image-text\"><span dir=\"auto\">mitre 10</span></div></a></li><li><a class=\"cover playlist\" href=\"/playlist/3RTdVqzTm3YgL3KLa13qQV\"><div class=\"grid-item-image lazy-image lazy-image_loaded\" data-src=\"//i.scdn.co/image/ab67706c0000da84dbaa9c7f8ec9217adbe6f37f\" style='background-image: url(\"//i.scdn.co/image/ab67706c0000da84dbaa9c7f8ec9217adbe6f37f\");'></div><div class=\"grid-item-image-text\"><span dir=\"auto\">Small potatoes</span></div></a></li><li><a class=\"cover playlist\" href=\"/playlist/2cV5Bwarta7LPXzbiaYTyf\"><div class=\"grid-item-image lazy-image lazy-image_loaded\" data-src=\"//i.scdn.co/image/ab67706c0000da84d886a21d7d213cd9b5248553\" style='background-image: url(\"//i.scdn.co/image/ab67706c0000da84d886a21d7d213cd9b5248553\");'></div><div class=\"grid-item-image-text\"><span dir=\"auto\">mangoes</span></div></a></li><li><a class=\"cover playlist\" href=\"/playlist/2Cb1eD1J6jlsxKBoNXTTtd\"><div class=\"grid-item-image lazy-image lazy-image_loaded\" data-src=\"//i.scdn.co/image/ab67706c0000da84860424014d9497565e8cc017\" style='background-image: url(\"//i.scdn.co/image/ab67706c0000da84860424014d9497565e8cc017\");'></div><div class=\"grid-item-image-text\"><span dir=\"auto\">bawawaweewa</span></div></a></li><li><a class=\"cover playlist\" href=\"/playlist/0UYrhQh0B0oWx4mQINEdIQ\"><div class=\"grid-item-image lazy-image lazy-image_loaded\" data-src=\"//i.scdn.co/image/ab67706c0000bebb63003b69daa16eda833d7ce9\" style='background-image: url(\"//i.scdn.co/image/ab67706c0000bebb63003b69daa16eda833d7ce9\");'></div><div class=\"grid-item-image-text\"><span dir=\"auto\">[sLUms+CO]</span></div></a></li><li><a class=\"cover playlist\" href=\"/playlist/5lM2ngCx1eF1QQiWXTT5h0\"><div class=\"grid-item-image lazy-image lazy-image_loaded\" data-src=\"//i.scdn.co/image/ab67706c0000da8476e2c1786a0e99b81640f881\" style='background-image: url(\"//i.scdn.co/image/ab67706c0000da8476e2c1786a0e99b81640f881\");'></div><div class=\"grid-item-image-text\"><span dir=\"auto\">lo-fi anime beats to study and chill to</span></div></a></li><li><a class=\"cover playlist\" href=\"/playlist/0N0yZvX6kl2VTaU289UgnM\"><div class=\"grid-item-image lazy-image lazy-image_loaded\" data-src=\"//i.scdn.co/image/ab67706c0000da84187c7f9ecb0c9f78fb5a45cb\" style='background-image: url(\"//i.scdn.co/image/ab67706c0000da84187c7f9ecb0c9f78fb5a45cb\");'></div><div class=\"grid-item-image-text\"><span dir=\"auto\">yeughh</span></div></a></li><li><a class=\"cover playlist\" href=\"/playlist/0eyLdRCySHOjnnur6rpHA1\"><div class=\"grid-item-image lazy-image lazy-image_loaded\" data-src=\"//i.scdn.co/image/ab67706c0000da84358df36b9c73c1ac73cbcdd0\" style='background-image: url(\"//i.scdn.co/image/ab67706c0000da84358df36b9c73c1ac73cbcdd0\");'></div><div class=\"grid-item-image-text\"><span dir=\"auto\">septombur</span></div></a></li><li><a class=\"cover playlist\" href=\"/playlist/4uhQ4gWB5KKraePWgeuXen\"><div class=\"grid-item-image lazy-image lazy-image_loaded\" data-src=\"//i.scdn.co/image/ab67706c0000da8408ff9075187422be34f61d45\" style='background-image: url(\"//i.scdn.co/image/ab67706c0000da8408ff9075187422be34f61d45\");'></div><div class=\"grid-item-image-text\"><span dir=\"auto\">AUGUST</span></div></a></li><li><a class=\"cover playlist\" href=\"/playlist/4FZoXwAdXd73KUsfrXqDWa\"><div class=\"grid-item-image lazy-image lazy-image_loaded\" data-src=\"//i.scdn.co/image/ab67706c0000da8435dd94ac569622632b901dd9\" style='background-image: url(\"//i.scdn.co/image/ab67706c0000da8435dd94ac569622632b901dd9\");'></div><div class=\"grid-item-image-text\"><span dir=\"auto\">bangers!!</span></div></a></li><li><a class=\"cover playlist\" href=\"/playlist/1VogboyjYSmA3Xf2F20YOA\"><div class=\"grid-item-image lazy-image lazy-image_loaded\" data-src=\"//i.scdn.co/image/ab67706c0000da84d33777a4e83c79428b127b0e\" style='background-image: url(\"//i.scdn.co/image/ab67706c0000da84d33777a4e83c79428b127b0e\");'></div><div class=\"grid-item-image-text\"><span dir=\"auto\">may</span></div></a></li><li><a class=\"cover playlist\" href=\"/playlist/1Eir2w06qRxn3yBToOT91j\"><div class=\"grid-item-image lazy-image lazy-image_loaded\" data-src=\"//i.scdn.co/image/ab67706c0000da843d57081a5603441fe25ba782\" style='background-image: url(\"//i.scdn.co/image/ab67706c0000da843d57081a5603441fe25ba782\");'></div><div class=\"grid-item-image-text\"><span dir=\"auto\">doot</span></div></a></li><li><a class=\"cover playlist\" href=\"/playlist/0tSshgFzOPK4am84cP7NxW\"><div class=\"grid-item-image lazy-image lazy-image_loaded\" data-src=\"//i.scdn.co/image/ab67706c0000da844d1e8d0b8f13813f402784b0\" style='background-image: url(\"//i.scdn.co/image/ab67706c0000da844d1e8d0b8f13813f402784b0\");'></div><div class=\"grid-item-image-text\"><span dir=\"auto\">ahhhh fuck this frigerator</span></div></a></li><li><a class=\"cover playlist\" href=\"/playlist/3iWEerbgDWrzqnRFJl9Ppf\"><div class=\"grid-item-image lazy-image lazy-image_loaded\" data-src=\"//i.scdn.co/image/ab67706c0000da84e6f4ecc61071c1daf416f105\" style='background-image: url(\"//i.scdn.co/image/ab67706c0000da84e6f4ecc61071c1daf416f105\");'></div><div class=\"grid-item-image-text\"><span dir=\"auto\">, , ,</span></div></a></li><li><a class=\"cover playlist\" href=\"/playlist/0ZKVHuUE755Hq1eXOGtTlu\"><div class=\"grid-item-image lazy-image lazy-image_loaded\" data-src=\"//i.scdn.co/image/ab67706c0000da848e772970689b2fb0b3fdf632\" style='background-image: url(\"//i.scdn.co/image/ab67706c0000da848e772970689b2fb0b3fdf632\");'></div><div class=\"grid-item-image-text\"><span dir=\"auto\">MARch</span></div></a></li><li><a class=\"cover playlist\" href=\"/playlist/1M3MJAfm5fMshfKBIaZj5n\"><div class=\"grid-item-image lazy-image lazy-image_loaded\" data-src=\"//i.scdn.co/image/ab67706c0000da84c002e4acc8883ef985063be6\" style='background-image: url(\"//i.scdn.co/image/ab67706c0000da84c002e4acc8883ef985063be6\");'></div><div class=\"grid-item-image-text\"><span dir=\"auto\">shaqavelli</span></div></a></li><li><a class=\"cover playlist\" href=\"/playlist/0gd1DST9Tp90FHNuWEmWEV\"><div class=\"grid-item-image lazy-image lazy-image_loaded\" data-src=\"//i.scdn.co/image/ab67706c0000da84ba3e7e65752dc091175f0a03\" style='background-image: url(\"//i.scdn.co/image/ab67706c0000da84ba3e7e65752dc091175f0a03\");'></div><div class=\"grid-item-image-text\"><span dir=\"auto\">1010101010101010</span></div></a></li><li><a class=\"cover playlist\" href=\"/playlist/41opuZgKBPirjz4yQPFbm6\"><div class=\"grid-item-image lazy-image lazy-image_loaded\" data-src=\"//i.scdn.co/image/ab67706c0000da8497602c35372caff3ccd5fd49\" style='background-image: url(\"//i.scdn.co/image/ab67706c0000da8497602c35372caff3ccd5fd49\");'></div><div class=\"grid-item-image-text\"><span dir=\"auto\">1620</span></div></a></li><li><a class=\"cover playlist\" href=\"/playlist/42iEAkjLPHXRIGiZPOw9QN\"><div class=\"grid-item-image lazy-image lazy-image_loaded\" data-src=\"//i.scdn.co/image/ab67706c0000da84068467cfb6cf52bc8eaa77bf\" style='background-image: url(\"//i.scdn.co/image/ab67706c0000da84068467cfb6cf52bc8eaa77bf\");'></div><div class=\"grid-item-image-text\"><span dir=\"auto\">fka!</span></div></a></li><li><a class=\"cover playlist\" href=\"/playlist/5TdecqhIsNy42q5Y70s0Ij\"><div class=\"grid-item-image lazy-image lazy-image_loaded\" data-src=\"//i.scdn.co/image/ab67706c0000da843102ea32ae664c58c0737cea\" style='background-image: url(\"//i.scdn.co/image/ab67706c0000da843102ea32ae664c58c0737cea\");'></div><div class=\"grid-item-image-text\"><span dir=\"auto\">29*@!$</span></div></a></li><li><a class=\"cover playlist\" href=\"/playlist/13acy6PNOzru2GaJoTYnVR\"><div class=\"grid-item-image lazy-image lazy-image_loaded\" data-src=\"//i.scdn.co/image/ab67706c0000da842baf3b4ca1d5d9d1d775b684\" style='background-image: url(\"//i.scdn.co/image/ab67706c0000da842baf3b4ca1d5d9d1d775b684\");'></div><div class=\"grid-item-image-text\"><span dir=\"auto\">{131219}</span></div></a></li><li><a class=\"cover playlist\" href=\"/playlist/0CUAeUT89zp3Xo0p6bKaPP\"><div class=\"grid-item-image lazy-image lazy-image_loaded\" data-src=\"//i.scdn.co/image/ab67706c0000da8423e4c476893acfd45df82845\" style='background-image: url(\"//i.scdn.co/image/ab67706c0000da8423e4c476893acfd45df82845\");'></div><div class=\"grid-item-image-text\"><span dir=\"auto\">81119</span></div></a></li><li><a class=\"cover playlist\" href=\"/playlist/2BxIym2EtZbRWetm9cHlyg\"><div class=\"grid-item-image lazy-image lazy-image_loaded\" data-src=\"//i.scdn.co/image/ab67706c0000da8407c54c196d45a11257ea24eb\" style='background-image: url(\"//i.scdn.co/image/ab67706c0000da8407c54c196d45a11257ea24eb\");'></div><div class=\"grid-item-image-text\"><span dir=\"auto\">17(10)19</span></div></a></li><li><a class=\"cover playlist\" href=\"/playlist/6Ps2EAwKEkX4nCEyIPzjTD\"><div class=\"grid-item-image lazy-image lazy-image_loaded\" data-src=\"//i.scdn.co/image/ab67706c0000da84978a971f18fdb154a23abe29\" style='background-image: url(\"//i.scdn.co/image/ab67706c0000da84978a971f18fdb154a23abe29\");'></div><div class=\"grid-item-image-text\"><span dir=\"auto\">92.9.91</span></div></a></li><li><a class=\"cover playlist\" href=\"/playlist/2qJdHM2i2fnC1YIpXu5wuv\"><div class=\"grid-item-image lazy-image lazy-image_loaded\" data-src=\"//i.scdn.co/image/ab67706c0000da84eaa3e7133ee0918505b980c9\" style='background-image: url(\"//i.scdn.co/image/ab67706c0000da84eaa3e7133ee0918505b980c9\");'></div><div class=\"grid-item-image-text\"><span dir=\"auto\">16****!#$@!</span></div></a></li><li><a class=\"cover playlist\" href=\"/playlist/2gGh9mvamzX15rY3qEmlxQ\"><div class=\"grid-item-image lazy-image lazy-image_loaded\" data-src=\"//i.scdn.co/image/ab67706c0000da8427b460f150d685e328f59644\" style='background-image: url(\"//i.scdn.co/image/ab67706c0000da8427b460f150d685e328f59644\");'></div><div class=\"grid-item-image-text\"><span dir=\"auto\">29/6/19</span></div></a></li><li><a class=\"cover playlist\" href=\"/playlist/51XaFN9kkwvgFbI6Qp1OSH\"><div class=\"grid-item-image lazy-image lazy-image_loaded\" data-src=\"//i.scdn.co/image/ab67706c0000da840a68f6eaea3a222830324011\" style='background-image: url(\"//i.scdn.co/image/ab67706c0000da840a68f6eaea3a222830324011\");'></div><div class=\"grid-item-image-text\"><span dir=\"auto\">nnnnnnnnnnnnnnnnnnnnnnnnnnnnnnnnnnn</span></div></a></li><li><a class=\"cover playlist\" href=\"/playlist/69AwrFf1p9JGQD4gIVgx1B\"><div class=\"grid-item-image lazy-image lazy-image_loaded\" data-src=\"//i.scdn.co/image/ab67706c0000da84a511499989e8670e1d14d6db\" style='background-image: url(\"//i.scdn.co/image/ab67706c0000da84a511499989e8670e1d14d6db\");'></div><div class=\"grid-item-image-text\"><span dir=\"auto\">** 7%!5%^19</span></div></a></li><li><a class=\"cover playlist\" href=\"/playlist/5xKU5xWbQGNYeih78fhbZ0\"><div class=\"grid-item-image lazy-image lazy-image_loaded\" data-src=\"//i.scdn.co/image/ab67706c0000da84d150038f2c890294b71c398b\" style='background-image: url(\"//i.scdn.co/image/ab67706c0000da84d150038f2c890294b71c398b\");'></div><div class=\"grid-item-image-text\"><span dir=\"auto\">13/4/19</span></div></a></li><li><a class=\"cover playlist\" href=\"/playlist/2fFeZUfVodUKIUrpRTHqmr\"><div class=\"grid-item-image lazy-image lazy-image_loaded\" data-src=\"//i.scdn.co/image/ab67706c0000da8469f1a950fb34d9ee318e32e2\" style='background-image: url(\"//i.scdn.co/image/ab67706c0000da8469f1a950fb34d9ee318e32e2\");'></div><div class=\"grid-item-image-text\"><span dir=\"auto\">3.3.19</span></div></a></li><li><a class=\"cover playlist\" href=\"/playlist/02y2Wxeks3aHAR4edbgPtV\"><div class=\"grid-item-image lazy-image lazy-image_loaded\" data-src=\"//i.scdn.co/image/ab67706c0000da849831c7eecc9db824b9843552\" style='background-image: url(\"//i.scdn.co/image/ab67706c0000da849831c7eecc9db824b9843552\");'></div><div class=\"grid-item-image-text\"><span dir=\"auto\">9/2/19</span></div></a></li><li><a class=\"cover playlist\" href=\"/playlist/6Nj7BkPptD5bEQfvTwnwEd\"><div class=\"grid-item-image lazy-image lazy-image_loaded\" data-src=\"//i.scdn.co/image/ab67706c0000da841a4bb0684a9638d9716eaba3\" style='background-image: url(\"//i.scdn.co/image/ab67706c0000da841a4bb0684a9638d9716eaba3\");'></div><div class=\"grid-item-image-text\"><span dir=\"auto\">6/12/18</span></div></a></li><li><a class=\"cover playlist\" href=\"/playlist/5FHwpvueOOXAhgpBi7EQjU\"><div class=\"grid-item-image lazy-image lazy-image_loaded\" data-src=\"//i.scdn.co/image/ab67706c0000da84bccfda6cd060e13bd91568c5\" style='background-image: url(\"//i.scdn.co/image/ab67706c0000da84bccfda6cd060e13bd91568c5\");'></div><div class=\"grid-item-image-text\"><span dir=\"auto\">2/11/18</span></div></a></li><li><a class=\"cover playlist\" href=\"/playlist/3tVMhwwo3ZlEBpd0GKDZgW\"><div class=\"grid-item-image lazy-image lazy-image_loaded\" data-src=\"//i.scdn.co/image/ab67706c0000da84f43f21946fa6134aec23aee7\" style='background-image: url(\"//i.scdn.co/image/ab67706c0000da84f43f21946fa6134aec23aee7\");'></div><div class=\"grid-item-image-text\"><span dir=\"auto\">18/10/18</span></div></a></li><li><a class=\"cover playlist\" href=\"/playlist/1hRLZcFuEzkG7QcTq6lV8l\"><div class=\"grid-item-image lazy-image lazy-image_loaded\" data-src=\"//i.scdn.co/image/ab67706c0000da84a3f19fc279f4a609d0597ac9\" style='background-image: url(\"//i.scdn.co/image/ab67706c0000da84a3f19fc279f4a609d0597ac9\");'></div><div class=\"grid-item-image-text\"><span dir=\"auto\">29/9/18</span></div></a></li><li><a class=\"cover playlist\" href=\"/playlist/2daBY0rudM7hrsuNXytlW9\"><div class=\"grid-item-image lazy-image lazy-image_loaded\" data-src=\"//i.scdn.co/image/ab67706c0000da845496a90bfa8e98f2e83b3eda\" style='background-image: url(\"//i.scdn.co/image/ab67706c0000da845496a90bfa8e98f2e83b3eda\");'></div><div class=\"grid-item-image-text\"><span dir=\"auto\">1/9/18</span></div></a></li><li><a class=\"cover playlist\" href=\"/playlist/2oLvjtrCVIUdWUInAMqwGO\"><div class=\"grid-item-image lazy-image lazy-image_loaded\" data-src=\"//i.scdn.co/image/ab67706c0000da841fdd8395b454a5e7a39febe3\" style='background-image: url(\"//i.scdn.co/image/ab67706c0000da841fdd8395b454a5e7a39febe3\");'></div><div class=\"grid-item-image-text\"><span dir=\"auto\">beep</span></div></a></li><li><a class=\"cover playlist\" href=\"/playlist/72cxf8xXRQOZiYbSJR71io\"><div class=\"grid-item-image lazy-image lazy-image_loaded\" data-src=\"//i.scdn.co/image/ab67706c0000bebbdf139708f899494198a3923f\" style='background-image: url(\"//i.scdn.co/image/ab67706c0000bebbdf139708f899494198a3923f\");'></div><div class=\"grid-item-image-text\"><span dir=\"auto\">COLORS - ALL SHOWS</span></div></a></li><li><a class=\"cover playlist\" href=\"/playlist/3OBsCqsoeDiagzd5OvNOtE\"><div class=\"grid-item-image lazy-image lazy-image_loaded\" data-src=\"//i.scdn.co/image/ab67706c0000da84d8f95f044e34b9af889d6165\" style='background-image: url(\"//i.scdn.co/image/ab67706c0000da84d8f95f044e34b9af889d6165\");'></div><div class=\"grid-item-image-text\"><span dir=\"auto\">$LEAZE</span></div></a></li></ul></div></ul></div></div>,\n",
       " <div id=\"main-header\"><a class=\"logo-link\" href=\"/browse\"><svg><use xlink:href=\"#spotify-logo\" xmlns:xlink=\"http://www.w3.org/1999/xlink\"></use></svg></a></div>,\n",
       " <a class=\"logo-link\" href=\"/browse\"><svg><use xlink:href=\"#spotify-logo\" xmlns:xlink=\"http://www.w3.org/1999/xlink\"></use></svg></a>,\n",
       " <svg><use xlink:href=\"#spotify-logo\" xmlns:xlink=\"http://www.w3.org/1999/xlink\"></use></svg>,\n",
       " <use xlink:href=\"#spotify-logo\" xmlns:xlink=\"http://www.w3.org/1999/xlink\"></use>,\n",
       " <h1 class=\"view-header\"><span dir=\"auto\">Kevin Nguyen</span></h1>,\n",
       " <span dir=\"auto\">Kevin Nguyen</span>,\n",
       " <button class=\"btn btn-green js-action-button\" data-track-type=\"button-header\"><span class=\"js-action-label\">Open in Spotify</span></button>,\n",
       " <span class=\"js-action-label\">Open in Spotify</span>,\n",
       " <div class=\"grid\"><ul class=\"more-by-grid view padding-notch\" style=\"list-style: none\"><div class=\"grid\"><div class=\"grid-heading\"><h3 class=\"subview-title\">Public Playlists</h3></div><ul class=\"more-by-grid more-by-grid-8 playlist padding-notch\" style=\"list-style: none\"><li><a class=\"cover playlist\" href=\"/playlist/5EbNNdQvJ8U4TyuqetE5pY\"><div class=\"grid-item-image lazy-image lazy-image_loaded\" data-src=\"//i.scdn.co/image/ab67706c0000da848103c5c7f921e5ef07e88361\" style='background-image: url(\"//i.scdn.co/image/ab67706c0000da848103c5c7f921e5ef07e88361\");'></div><div class=\"grid-item-image-text\"><span dir=\"auto\">2000's</span></div></a></li><li><a class=\"cover playlist\" href=\"/playlist/7lHgB4bzld24t7kgy4MK9K\"><div class=\"grid-item-image lazy-image lazy-image_loaded\" data-src=\"//i.scdn.co/image/ab67706c0000da841345d9ae12f3f181e1f0be3c\" style='background-image: url(\"//i.scdn.co/image/ab67706c0000da841345d9ae12f3f181e1f0be3c\");'></div><div class=\"grid-item-image-text\"><span dir=\"auto\">mitre 10</span></div></a></li><li><a class=\"cover playlist\" href=\"/playlist/3RTdVqzTm3YgL3KLa13qQV\"><div class=\"grid-item-image lazy-image lazy-image_loaded\" data-src=\"//i.scdn.co/image/ab67706c0000da84dbaa9c7f8ec9217adbe6f37f\" style='background-image: url(\"//i.scdn.co/image/ab67706c0000da84dbaa9c7f8ec9217adbe6f37f\");'></div><div class=\"grid-item-image-text\"><span dir=\"auto\">Small potatoes</span></div></a></li><li><a class=\"cover playlist\" href=\"/playlist/2cV5Bwarta7LPXzbiaYTyf\"><div class=\"grid-item-image lazy-image lazy-image_loaded\" data-src=\"//i.scdn.co/image/ab67706c0000da84d886a21d7d213cd9b5248553\" style='background-image: url(\"//i.scdn.co/image/ab67706c0000da84d886a21d7d213cd9b5248553\");'></div><div class=\"grid-item-image-text\"><span dir=\"auto\">mangoes</span></div></a></li><li><a class=\"cover playlist\" href=\"/playlist/2Cb1eD1J6jlsxKBoNXTTtd\"><div class=\"grid-item-image lazy-image lazy-image_loaded\" data-src=\"//i.scdn.co/image/ab67706c0000da84860424014d9497565e8cc017\" style='background-image: url(\"//i.scdn.co/image/ab67706c0000da84860424014d9497565e8cc017\");'></div><div class=\"grid-item-image-text\"><span dir=\"auto\">bawawaweewa</span></div></a></li><li><a class=\"cover playlist\" href=\"/playlist/0UYrhQh0B0oWx4mQINEdIQ\"><div class=\"grid-item-image lazy-image lazy-image_loaded\" data-src=\"//i.scdn.co/image/ab67706c0000bebb63003b69daa16eda833d7ce9\" style='background-image: url(\"//i.scdn.co/image/ab67706c0000bebb63003b69daa16eda833d7ce9\");'></div><div class=\"grid-item-image-text\"><span dir=\"auto\">[sLUms+CO]</span></div></a></li><li><a class=\"cover playlist\" href=\"/playlist/5lM2ngCx1eF1QQiWXTT5h0\"><div class=\"grid-item-image lazy-image lazy-image_loaded\" data-src=\"//i.scdn.co/image/ab67706c0000da8476e2c1786a0e99b81640f881\" style='background-image: url(\"//i.scdn.co/image/ab67706c0000da8476e2c1786a0e99b81640f881\");'></div><div class=\"grid-item-image-text\"><span dir=\"auto\">lo-fi anime beats to study and chill to</span></div></a></li><li><a class=\"cover playlist\" href=\"/playlist/0N0yZvX6kl2VTaU289UgnM\"><div class=\"grid-item-image lazy-image lazy-image_loaded\" data-src=\"//i.scdn.co/image/ab67706c0000da84187c7f9ecb0c9f78fb5a45cb\" style='background-image: url(\"//i.scdn.co/image/ab67706c0000da84187c7f9ecb0c9f78fb5a45cb\");'></div><div class=\"grid-item-image-text\"><span dir=\"auto\">yeughh</span></div></a></li><li><a class=\"cover playlist\" href=\"/playlist/0eyLdRCySHOjnnur6rpHA1\"><div class=\"grid-item-image lazy-image lazy-image_loaded\" data-src=\"//i.scdn.co/image/ab67706c0000da84358df36b9c73c1ac73cbcdd0\" style='background-image: url(\"//i.scdn.co/image/ab67706c0000da84358df36b9c73c1ac73cbcdd0\");'></div><div class=\"grid-item-image-text\"><span dir=\"auto\">septombur</span></div></a></li><li><a class=\"cover playlist\" href=\"/playlist/4uhQ4gWB5KKraePWgeuXen\"><div class=\"grid-item-image lazy-image lazy-image_loaded\" data-src=\"//i.scdn.co/image/ab67706c0000da8408ff9075187422be34f61d45\" style='background-image: url(\"//i.scdn.co/image/ab67706c0000da8408ff9075187422be34f61d45\");'></div><div class=\"grid-item-image-text\"><span dir=\"auto\">AUGUST</span></div></a></li><li><a class=\"cover playlist\" href=\"/playlist/4FZoXwAdXd73KUsfrXqDWa\"><div class=\"grid-item-image lazy-image lazy-image_loaded\" data-src=\"//i.scdn.co/image/ab67706c0000da8435dd94ac569622632b901dd9\" style='background-image: url(\"//i.scdn.co/image/ab67706c0000da8435dd94ac569622632b901dd9\");'></div><div class=\"grid-item-image-text\"><span dir=\"auto\">bangers!!</span></div></a></li><li><a class=\"cover playlist\" href=\"/playlist/1VogboyjYSmA3Xf2F20YOA\"><div class=\"grid-item-image lazy-image lazy-image_loaded\" data-src=\"//i.scdn.co/image/ab67706c0000da84d33777a4e83c79428b127b0e\" style='background-image: url(\"//i.scdn.co/image/ab67706c0000da84d33777a4e83c79428b127b0e\");'></div><div class=\"grid-item-image-text\"><span dir=\"auto\">may</span></div></a></li><li><a class=\"cover playlist\" href=\"/playlist/1Eir2w06qRxn3yBToOT91j\"><div class=\"grid-item-image lazy-image lazy-image_loaded\" data-src=\"//i.scdn.co/image/ab67706c0000da843d57081a5603441fe25ba782\" style='background-image: url(\"//i.scdn.co/image/ab67706c0000da843d57081a5603441fe25ba782\");'></div><div class=\"grid-item-image-text\"><span dir=\"auto\">doot</span></div></a></li><li><a class=\"cover playlist\" href=\"/playlist/0tSshgFzOPK4am84cP7NxW\"><div class=\"grid-item-image lazy-image lazy-image_loaded\" data-src=\"//i.scdn.co/image/ab67706c0000da844d1e8d0b8f13813f402784b0\" style='background-image: url(\"//i.scdn.co/image/ab67706c0000da844d1e8d0b8f13813f402784b0\");'></div><div class=\"grid-item-image-text\"><span dir=\"auto\">ahhhh fuck this frigerator</span></div></a></li><li><a class=\"cover playlist\" href=\"/playlist/3iWEerbgDWrzqnRFJl9Ppf\"><div class=\"grid-item-image lazy-image lazy-image_loaded\" data-src=\"//i.scdn.co/image/ab67706c0000da84e6f4ecc61071c1daf416f105\" style='background-image: url(\"//i.scdn.co/image/ab67706c0000da84e6f4ecc61071c1daf416f105\");'></div><div class=\"grid-item-image-text\"><span dir=\"auto\">, , ,</span></div></a></li><li><a class=\"cover playlist\" href=\"/playlist/0ZKVHuUE755Hq1eXOGtTlu\"><div class=\"grid-item-image lazy-image lazy-image_loaded\" data-src=\"//i.scdn.co/image/ab67706c0000da848e772970689b2fb0b3fdf632\" style='background-image: url(\"//i.scdn.co/image/ab67706c0000da848e772970689b2fb0b3fdf632\");'></div><div class=\"grid-item-image-text\"><span dir=\"auto\">MARch</span></div></a></li><li><a class=\"cover playlist\" href=\"/playlist/1M3MJAfm5fMshfKBIaZj5n\"><div class=\"grid-item-image lazy-image lazy-image_loaded\" data-src=\"//i.scdn.co/image/ab67706c0000da84c002e4acc8883ef985063be6\" style='background-image: url(\"//i.scdn.co/image/ab67706c0000da84c002e4acc8883ef985063be6\");'></div><div class=\"grid-item-image-text\"><span dir=\"auto\">shaqavelli</span></div></a></li><li><a class=\"cover playlist\" href=\"/playlist/0gd1DST9Tp90FHNuWEmWEV\"><div class=\"grid-item-image lazy-image lazy-image_loaded\" data-src=\"//i.scdn.co/image/ab67706c0000da84ba3e7e65752dc091175f0a03\" style='background-image: url(\"//i.scdn.co/image/ab67706c0000da84ba3e7e65752dc091175f0a03\");'></div><div class=\"grid-item-image-text\"><span dir=\"auto\">1010101010101010</span></div></a></li><li><a class=\"cover playlist\" href=\"/playlist/41opuZgKBPirjz4yQPFbm6\"><div class=\"grid-item-image lazy-image lazy-image_loaded\" data-src=\"//i.scdn.co/image/ab67706c0000da8497602c35372caff3ccd5fd49\" style='background-image: url(\"//i.scdn.co/image/ab67706c0000da8497602c35372caff3ccd5fd49\");'></div><div class=\"grid-item-image-text\"><span dir=\"auto\">1620</span></div></a></li><li><a class=\"cover playlist\" href=\"/playlist/42iEAkjLPHXRIGiZPOw9QN\"><div class=\"grid-item-image lazy-image lazy-image_loaded\" data-src=\"//i.scdn.co/image/ab67706c0000da84068467cfb6cf52bc8eaa77bf\" style='background-image: url(\"//i.scdn.co/image/ab67706c0000da84068467cfb6cf52bc8eaa77bf\");'></div><div class=\"grid-item-image-text\"><span dir=\"auto\">fka!</span></div></a></li><li><a class=\"cover playlist\" href=\"/playlist/5TdecqhIsNy42q5Y70s0Ij\"><div class=\"grid-item-image lazy-image lazy-image_loaded\" data-src=\"//i.scdn.co/image/ab67706c0000da843102ea32ae664c58c0737cea\" style='background-image: url(\"//i.scdn.co/image/ab67706c0000da843102ea32ae664c58c0737cea\");'></div><div class=\"grid-item-image-text\"><span dir=\"auto\">29*@!$</span></div></a></li><li><a class=\"cover playlist\" href=\"/playlist/13acy6PNOzru2GaJoTYnVR\"><div class=\"grid-item-image lazy-image lazy-image_loaded\" data-src=\"//i.scdn.co/image/ab67706c0000da842baf3b4ca1d5d9d1d775b684\" style='background-image: url(\"//i.scdn.co/image/ab67706c0000da842baf3b4ca1d5d9d1d775b684\");'></div><div class=\"grid-item-image-text\"><span dir=\"auto\">{131219}</span></div></a></li><li><a class=\"cover playlist\" href=\"/playlist/0CUAeUT89zp3Xo0p6bKaPP\"><div class=\"grid-item-image lazy-image lazy-image_loaded\" data-src=\"//i.scdn.co/image/ab67706c0000da8423e4c476893acfd45df82845\" style='background-image: url(\"//i.scdn.co/image/ab67706c0000da8423e4c476893acfd45df82845\");'></div><div class=\"grid-item-image-text\"><span dir=\"auto\">81119</span></div></a></li><li><a class=\"cover playlist\" href=\"/playlist/2BxIym2EtZbRWetm9cHlyg\"><div class=\"grid-item-image lazy-image lazy-image_loaded\" data-src=\"//i.scdn.co/image/ab67706c0000da8407c54c196d45a11257ea24eb\" style='background-image: url(\"//i.scdn.co/image/ab67706c0000da8407c54c196d45a11257ea24eb\");'></div><div class=\"grid-item-image-text\"><span dir=\"auto\">17(10)19</span></div></a></li><li><a class=\"cover playlist\" href=\"/playlist/6Ps2EAwKEkX4nCEyIPzjTD\"><div class=\"grid-item-image lazy-image lazy-image_loaded\" data-src=\"//i.scdn.co/image/ab67706c0000da84978a971f18fdb154a23abe29\" style='background-image: url(\"//i.scdn.co/image/ab67706c0000da84978a971f18fdb154a23abe29\");'></div><div class=\"grid-item-image-text\"><span dir=\"auto\">92.9.91</span></div></a></li><li><a class=\"cover playlist\" href=\"/playlist/2qJdHM2i2fnC1YIpXu5wuv\"><div class=\"grid-item-image lazy-image lazy-image_loaded\" data-src=\"//i.scdn.co/image/ab67706c0000da84eaa3e7133ee0918505b980c9\" style='background-image: url(\"//i.scdn.co/image/ab67706c0000da84eaa3e7133ee0918505b980c9\");'></div><div class=\"grid-item-image-text\"><span dir=\"auto\">16****!#$@!</span></div></a></li><li><a class=\"cover playlist\" href=\"/playlist/2gGh9mvamzX15rY3qEmlxQ\"><div class=\"grid-item-image lazy-image lazy-image_loaded\" data-src=\"//i.scdn.co/image/ab67706c0000da8427b460f150d685e328f59644\" style='background-image: url(\"//i.scdn.co/image/ab67706c0000da8427b460f150d685e328f59644\");'></div><div class=\"grid-item-image-text\"><span dir=\"auto\">29/6/19</span></div></a></li><li><a class=\"cover playlist\" href=\"/playlist/51XaFN9kkwvgFbI6Qp1OSH\"><div class=\"grid-item-image lazy-image lazy-image_loaded\" data-src=\"//i.scdn.co/image/ab67706c0000da840a68f6eaea3a222830324011\" style='background-image: url(\"//i.scdn.co/image/ab67706c0000da840a68f6eaea3a222830324011\");'></div><div class=\"grid-item-image-text\"><span dir=\"auto\">nnnnnnnnnnnnnnnnnnnnnnnnnnnnnnnnnnn</span></div></a></li><li><a class=\"cover playlist\" href=\"/playlist/69AwrFf1p9JGQD4gIVgx1B\"><div class=\"grid-item-image lazy-image lazy-image_loaded\" data-src=\"//i.scdn.co/image/ab67706c0000da84a511499989e8670e1d14d6db\" style='background-image: url(\"//i.scdn.co/image/ab67706c0000da84a511499989e8670e1d14d6db\");'></div><div class=\"grid-item-image-text\"><span dir=\"auto\">** 7%!5%^19</span></div></a></li><li><a class=\"cover playlist\" href=\"/playlist/5xKU5xWbQGNYeih78fhbZ0\"><div class=\"grid-item-image lazy-image lazy-image_loaded\" data-src=\"//i.scdn.co/image/ab67706c0000da84d150038f2c890294b71c398b\" style='background-image: url(\"//i.scdn.co/image/ab67706c0000da84d150038f2c890294b71c398b\");'></div><div class=\"grid-item-image-text\"><span dir=\"auto\">13/4/19</span></div></a></li><li><a class=\"cover playlist\" href=\"/playlist/2fFeZUfVodUKIUrpRTHqmr\"><div class=\"grid-item-image lazy-image lazy-image_loaded\" data-src=\"//i.scdn.co/image/ab67706c0000da8469f1a950fb34d9ee318e32e2\" style='background-image: url(\"//i.scdn.co/image/ab67706c0000da8469f1a950fb34d9ee318e32e2\");'></div><div class=\"grid-item-image-text\"><span dir=\"auto\">3.3.19</span></div></a></li><li><a class=\"cover playlist\" href=\"/playlist/02y2Wxeks3aHAR4edbgPtV\"><div class=\"grid-item-image lazy-image lazy-image_loaded\" data-src=\"//i.scdn.co/image/ab67706c0000da849831c7eecc9db824b9843552\" style='background-image: url(\"//i.scdn.co/image/ab67706c0000da849831c7eecc9db824b9843552\");'></div><div class=\"grid-item-image-text\"><span dir=\"auto\">9/2/19</span></div></a></li><li><a class=\"cover playlist\" href=\"/playlist/6Nj7BkPptD5bEQfvTwnwEd\"><div class=\"grid-item-image lazy-image lazy-image_loaded\" data-src=\"//i.scdn.co/image/ab67706c0000da841a4bb0684a9638d9716eaba3\" style='background-image: url(\"//i.scdn.co/image/ab67706c0000da841a4bb0684a9638d9716eaba3\");'></div><div class=\"grid-item-image-text\"><span dir=\"auto\">6/12/18</span></div></a></li><li><a class=\"cover playlist\" href=\"/playlist/5FHwpvueOOXAhgpBi7EQjU\"><div class=\"grid-item-image lazy-image lazy-image_loaded\" data-src=\"//i.scdn.co/image/ab67706c0000da84bccfda6cd060e13bd91568c5\" style='background-image: url(\"//i.scdn.co/image/ab67706c0000da84bccfda6cd060e13bd91568c5\");'></div><div class=\"grid-item-image-text\"><span dir=\"auto\">2/11/18</span></div></a></li><li><a class=\"cover playlist\" href=\"/playlist/3tVMhwwo3ZlEBpd0GKDZgW\"><div class=\"grid-item-image lazy-image lazy-image_loaded\" data-src=\"//i.scdn.co/image/ab67706c0000da84f43f21946fa6134aec23aee7\" style='background-image: url(\"//i.scdn.co/image/ab67706c0000da84f43f21946fa6134aec23aee7\");'></div><div class=\"grid-item-image-text\"><span dir=\"auto\">18/10/18</span></div></a></li><li><a class=\"cover playlist\" href=\"/playlist/1hRLZcFuEzkG7QcTq6lV8l\"><div class=\"grid-item-image lazy-image lazy-image_loaded\" data-src=\"//i.scdn.co/image/ab67706c0000da84a3f19fc279f4a609d0597ac9\" style='background-image: url(\"//i.scdn.co/image/ab67706c0000da84a3f19fc279f4a609d0597ac9\");'></div><div class=\"grid-item-image-text\"><span dir=\"auto\">29/9/18</span></div></a></li><li><a class=\"cover playlist\" href=\"/playlist/2daBY0rudM7hrsuNXytlW9\"><div class=\"grid-item-image lazy-image lazy-image_loaded\" data-src=\"//i.scdn.co/image/ab67706c0000da845496a90bfa8e98f2e83b3eda\" style='background-image: url(\"//i.scdn.co/image/ab67706c0000da845496a90bfa8e98f2e83b3eda\");'></div><div class=\"grid-item-image-text\"><span dir=\"auto\">1/9/18</span></div></a></li><li><a class=\"cover playlist\" href=\"/playlist/2oLvjtrCVIUdWUInAMqwGO\"><div class=\"grid-item-image lazy-image lazy-image_loaded\" data-src=\"//i.scdn.co/image/ab67706c0000da841fdd8395b454a5e7a39febe3\" style='background-image: url(\"//i.scdn.co/image/ab67706c0000da841fdd8395b454a5e7a39febe3\");'></div><div class=\"grid-item-image-text\"><span dir=\"auto\">beep</span></div></a></li><li><a class=\"cover playlist\" href=\"/playlist/72cxf8xXRQOZiYbSJR71io\"><div class=\"grid-item-image lazy-image lazy-image_loaded\" data-src=\"//i.scdn.co/image/ab67706c0000bebbdf139708f899494198a3923f\" style='background-image: url(\"//i.scdn.co/image/ab67706c0000bebbdf139708f899494198a3923f\");'></div><div class=\"grid-item-image-text\"><span dir=\"auto\">COLORS - ALL SHOWS</span></div></a></li><li><a class=\"cover playlist\" href=\"/playlist/3OBsCqsoeDiagzd5OvNOtE\"><div class=\"grid-item-image lazy-image lazy-image_loaded\" data-src=\"//i.scdn.co/image/ab67706c0000da84d8f95f044e34b9af889d6165\" style='background-image: url(\"//i.scdn.co/image/ab67706c0000da84d8f95f044e34b9af889d6165\");'></div><div class=\"grid-item-image-text\"><span dir=\"auto\">$LEAZE</span></div></a></li></ul></div></ul></div>,\n",
       " <ul class=\"more-by-grid view padding-notch\" style=\"list-style: none\"><div class=\"grid\"><div class=\"grid-heading\"><h3 class=\"subview-title\">Public Playlists</h3></div><ul class=\"more-by-grid more-by-grid-8 playlist padding-notch\" style=\"list-style: none\"><li><a class=\"cover playlist\" href=\"/playlist/5EbNNdQvJ8U4TyuqetE5pY\"><div class=\"grid-item-image lazy-image lazy-image_loaded\" data-src=\"//i.scdn.co/image/ab67706c0000da848103c5c7f921e5ef07e88361\" style='background-image: url(\"//i.scdn.co/image/ab67706c0000da848103c5c7f921e5ef07e88361\");'></div><div class=\"grid-item-image-text\"><span dir=\"auto\">2000's</span></div></a></li><li><a class=\"cover playlist\" href=\"/playlist/7lHgB4bzld24t7kgy4MK9K\"><div class=\"grid-item-image lazy-image lazy-image_loaded\" data-src=\"//i.scdn.co/image/ab67706c0000da841345d9ae12f3f181e1f0be3c\" style='background-image: url(\"//i.scdn.co/image/ab67706c0000da841345d9ae12f3f181e1f0be3c\");'></div><div class=\"grid-item-image-text\"><span dir=\"auto\">mitre 10</span></div></a></li><li><a class=\"cover playlist\" href=\"/playlist/3RTdVqzTm3YgL3KLa13qQV\"><div class=\"grid-item-image lazy-image lazy-image_loaded\" data-src=\"//i.scdn.co/image/ab67706c0000da84dbaa9c7f8ec9217adbe6f37f\" style='background-image: url(\"//i.scdn.co/image/ab67706c0000da84dbaa9c7f8ec9217adbe6f37f\");'></div><div class=\"grid-item-image-text\"><span dir=\"auto\">Small potatoes</span></div></a></li><li><a class=\"cover playlist\" href=\"/playlist/2cV5Bwarta7LPXzbiaYTyf\"><div class=\"grid-item-image lazy-image lazy-image_loaded\" data-src=\"//i.scdn.co/image/ab67706c0000da84d886a21d7d213cd9b5248553\" style='background-image: url(\"//i.scdn.co/image/ab67706c0000da84d886a21d7d213cd9b5248553\");'></div><div class=\"grid-item-image-text\"><span dir=\"auto\">mangoes</span></div></a></li><li><a class=\"cover playlist\" href=\"/playlist/2Cb1eD1J6jlsxKBoNXTTtd\"><div class=\"grid-item-image lazy-image lazy-image_loaded\" data-src=\"//i.scdn.co/image/ab67706c0000da84860424014d9497565e8cc017\" style='background-image: url(\"//i.scdn.co/image/ab67706c0000da84860424014d9497565e8cc017\");'></div><div class=\"grid-item-image-text\"><span dir=\"auto\">bawawaweewa</span></div></a></li><li><a class=\"cover playlist\" href=\"/playlist/0UYrhQh0B0oWx4mQINEdIQ\"><div class=\"grid-item-image lazy-image lazy-image_loaded\" data-src=\"//i.scdn.co/image/ab67706c0000bebb63003b69daa16eda833d7ce9\" style='background-image: url(\"//i.scdn.co/image/ab67706c0000bebb63003b69daa16eda833d7ce9\");'></div><div class=\"grid-item-image-text\"><span dir=\"auto\">[sLUms+CO]</span></div></a></li><li><a class=\"cover playlist\" href=\"/playlist/5lM2ngCx1eF1QQiWXTT5h0\"><div class=\"grid-item-image lazy-image lazy-image_loaded\" data-src=\"//i.scdn.co/image/ab67706c0000da8476e2c1786a0e99b81640f881\" style='background-image: url(\"//i.scdn.co/image/ab67706c0000da8476e2c1786a0e99b81640f881\");'></div><div class=\"grid-item-image-text\"><span dir=\"auto\">lo-fi anime beats to study and chill to</span></div></a></li><li><a class=\"cover playlist\" href=\"/playlist/0N0yZvX6kl2VTaU289UgnM\"><div class=\"grid-item-image lazy-image lazy-image_loaded\" data-src=\"//i.scdn.co/image/ab67706c0000da84187c7f9ecb0c9f78fb5a45cb\" style='background-image: url(\"//i.scdn.co/image/ab67706c0000da84187c7f9ecb0c9f78fb5a45cb\");'></div><div class=\"grid-item-image-text\"><span dir=\"auto\">yeughh</span></div></a></li><li><a class=\"cover playlist\" href=\"/playlist/0eyLdRCySHOjnnur6rpHA1\"><div class=\"grid-item-image lazy-image lazy-image_loaded\" data-src=\"//i.scdn.co/image/ab67706c0000da84358df36b9c73c1ac73cbcdd0\" style='background-image: url(\"//i.scdn.co/image/ab67706c0000da84358df36b9c73c1ac73cbcdd0\");'></div><div class=\"grid-item-image-text\"><span dir=\"auto\">septombur</span></div></a></li><li><a class=\"cover playlist\" href=\"/playlist/4uhQ4gWB5KKraePWgeuXen\"><div class=\"grid-item-image lazy-image lazy-image_loaded\" data-src=\"//i.scdn.co/image/ab67706c0000da8408ff9075187422be34f61d45\" style='background-image: url(\"//i.scdn.co/image/ab67706c0000da8408ff9075187422be34f61d45\");'></div><div class=\"grid-item-image-text\"><span dir=\"auto\">AUGUST</span></div></a></li><li><a class=\"cover playlist\" href=\"/playlist/4FZoXwAdXd73KUsfrXqDWa\"><div class=\"grid-item-image lazy-image lazy-image_loaded\" data-src=\"//i.scdn.co/image/ab67706c0000da8435dd94ac569622632b901dd9\" style='background-image: url(\"//i.scdn.co/image/ab67706c0000da8435dd94ac569622632b901dd9\");'></div><div class=\"grid-item-image-text\"><span dir=\"auto\">bangers!!</span></div></a></li><li><a class=\"cover playlist\" href=\"/playlist/1VogboyjYSmA3Xf2F20YOA\"><div class=\"grid-item-image lazy-image lazy-image_loaded\" data-src=\"//i.scdn.co/image/ab67706c0000da84d33777a4e83c79428b127b0e\" style='background-image: url(\"//i.scdn.co/image/ab67706c0000da84d33777a4e83c79428b127b0e\");'></div><div class=\"grid-item-image-text\"><span dir=\"auto\">may</span></div></a></li><li><a class=\"cover playlist\" href=\"/playlist/1Eir2w06qRxn3yBToOT91j\"><div class=\"grid-item-image lazy-image lazy-image_loaded\" data-src=\"//i.scdn.co/image/ab67706c0000da843d57081a5603441fe25ba782\" style='background-image: url(\"//i.scdn.co/image/ab67706c0000da843d57081a5603441fe25ba782\");'></div><div class=\"grid-item-image-text\"><span dir=\"auto\">doot</span></div></a></li><li><a class=\"cover playlist\" href=\"/playlist/0tSshgFzOPK4am84cP7NxW\"><div class=\"grid-item-image lazy-image lazy-image_loaded\" data-src=\"//i.scdn.co/image/ab67706c0000da844d1e8d0b8f13813f402784b0\" style='background-image: url(\"//i.scdn.co/image/ab67706c0000da844d1e8d0b8f13813f402784b0\");'></div><div class=\"grid-item-image-text\"><span dir=\"auto\">ahhhh fuck this frigerator</span></div></a></li><li><a class=\"cover playlist\" href=\"/playlist/3iWEerbgDWrzqnRFJl9Ppf\"><div class=\"grid-item-image lazy-image lazy-image_loaded\" data-src=\"//i.scdn.co/image/ab67706c0000da84e6f4ecc61071c1daf416f105\" style='background-image: url(\"//i.scdn.co/image/ab67706c0000da84e6f4ecc61071c1daf416f105\");'></div><div class=\"grid-item-image-text\"><span dir=\"auto\">, , ,</span></div></a></li><li><a class=\"cover playlist\" href=\"/playlist/0ZKVHuUE755Hq1eXOGtTlu\"><div class=\"grid-item-image lazy-image lazy-image_loaded\" data-src=\"//i.scdn.co/image/ab67706c0000da848e772970689b2fb0b3fdf632\" style='background-image: url(\"//i.scdn.co/image/ab67706c0000da848e772970689b2fb0b3fdf632\");'></div><div class=\"grid-item-image-text\"><span dir=\"auto\">MARch</span></div></a></li><li><a class=\"cover playlist\" href=\"/playlist/1M3MJAfm5fMshfKBIaZj5n\"><div class=\"grid-item-image lazy-image lazy-image_loaded\" data-src=\"//i.scdn.co/image/ab67706c0000da84c002e4acc8883ef985063be6\" style='background-image: url(\"//i.scdn.co/image/ab67706c0000da84c002e4acc8883ef985063be6\");'></div><div class=\"grid-item-image-text\"><span dir=\"auto\">shaqavelli</span></div></a></li><li><a class=\"cover playlist\" href=\"/playlist/0gd1DST9Tp90FHNuWEmWEV\"><div class=\"grid-item-image lazy-image lazy-image_loaded\" data-src=\"//i.scdn.co/image/ab67706c0000da84ba3e7e65752dc091175f0a03\" style='background-image: url(\"//i.scdn.co/image/ab67706c0000da84ba3e7e65752dc091175f0a03\");'></div><div class=\"grid-item-image-text\"><span dir=\"auto\">1010101010101010</span></div></a></li><li><a class=\"cover playlist\" href=\"/playlist/41opuZgKBPirjz4yQPFbm6\"><div class=\"grid-item-image lazy-image lazy-image_loaded\" data-src=\"//i.scdn.co/image/ab67706c0000da8497602c35372caff3ccd5fd49\" style='background-image: url(\"//i.scdn.co/image/ab67706c0000da8497602c35372caff3ccd5fd49\");'></div><div class=\"grid-item-image-text\"><span dir=\"auto\">1620</span></div></a></li><li><a class=\"cover playlist\" href=\"/playlist/42iEAkjLPHXRIGiZPOw9QN\"><div class=\"grid-item-image lazy-image lazy-image_loaded\" data-src=\"//i.scdn.co/image/ab67706c0000da84068467cfb6cf52bc8eaa77bf\" style='background-image: url(\"//i.scdn.co/image/ab67706c0000da84068467cfb6cf52bc8eaa77bf\");'></div><div class=\"grid-item-image-text\"><span dir=\"auto\">fka!</span></div></a></li><li><a class=\"cover playlist\" href=\"/playlist/5TdecqhIsNy42q5Y70s0Ij\"><div class=\"grid-item-image lazy-image lazy-image_loaded\" data-src=\"//i.scdn.co/image/ab67706c0000da843102ea32ae664c58c0737cea\" style='background-image: url(\"//i.scdn.co/image/ab67706c0000da843102ea32ae664c58c0737cea\");'></div><div class=\"grid-item-image-text\"><span dir=\"auto\">29*@!$</span></div></a></li><li><a class=\"cover playlist\" href=\"/playlist/13acy6PNOzru2GaJoTYnVR\"><div class=\"grid-item-image lazy-image lazy-image_loaded\" data-src=\"//i.scdn.co/image/ab67706c0000da842baf3b4ca1d5d9d1d775b684\" style='background-image: url(\"//i.scdn.co/image/ab67706c0000da842baf3b4ca1d5d9d1d775b684\");'></div><div class=\"grid-item-image-text\"><span dir=\"auto\">{131219}</span></div></a></li><li><a class=\"cover playlist\" href=\"/playlist/0CUAeUT89zp3Xo0p6bKaPP\"><div class=\"grid-item-image lazy-image lazy-image_loaded\" data-src=\"//i.scdn.co/image/ab67706c0000da8423e4c476893acfd45df82845\" style='background-image: url(\"//i.scdn.co/image/ab67706c0000da8423e4c476893acfd45df82845\");'></div><div class=\"grid-item-image-text\"><span dir=\"auto\">81119</span></div></a></li><li><a class=\"cover playlist\" href=\"/playlist/2BxIym2EtZbRWetm9cHlyg\"><div class=\"grid-item-image lazy-image lazy-image_loaded\" data-src=\"//i.scdn.co/image/ab67706c0000da8407c54c196d45a11257ea24eb\" style='background-image: url(\"//i.scdn.co/image/ab67706c0000da8407c54c196d45a11257ea24eb\");'></div><div class=\"grid-item-image-text\"><span dir=\"auto\">17(10)19</span></div></a></li><li><a class=\"cover playlist\" href=\"/playlist/6Ps2EAwKEkX4nCEyIPzjTD\"><div class=\"grid-item-image lazy-image lazy-image_loaded\" data-src=\"//i.scdn.co/image/ab67706c0000da84978a971f18fdb154a23abe29\" style='background-image: url(\"//i.scdn.co/image/ab67706c0000da84978a971f18fdb154a23abe29\");'></div><div class=\"grid-item-image-text\"><span dir=\"auto\">92.9.91</span></div></a></li><li><a class=\"cover playlist\" href=\"/playlist/2qJdHM2i2fnC1YIpXu5wuv\"><div class=\"grid-item-image lazy-image lazy-image_loaded\" data-src=\"//i.scdn.co/image/ab67706c0000da84eaa3e7133ee0918505b980c9\" style='background-image: url(\"//i.scdn.co/image/ab67706c0000da84eaa3e7133ee0918505b980c9\");'></div><div class=\"grid-item-image-text\"><span dir=\"auto\">16****!#$@!</span></div></a></li><li><a class=\"cover playlist\" href=\"/playlist/2gGh9mvamzX15rY3qEmlxQ\"><div class=\"grid-item-image lazy-image lazy-image_loaded\" data-src=\"//i.scdn.co/image/ab67706c0000da8427b460f150d685e328f59644\" style='background-image: url(\"//i.scdn.co/image/ab67706c0000da8427b460f150d685e328f59644\");'></div><div class=\"grid-item-image-text\"><span dir=\"auto\">29/6/19</span></div></a></li><li><a class=\"cover playlist\" href=\"/playlist/51XaFN9kkwvgFbI6Qp1OSH\"><div class=\"grid-item-image lazy-image lazy-image_loaded\" data-src=\"//i.scdn.co/image/ab67706c0000da840a68f6eaea3a222830324011\" style='background-image: url(\"//i.scdn.co/image/ab67706c0000da840a68f6eaea3a222830324011\");'></div><div class=\"grid-item-image-text\"><span dir=\"auto\">nnnnnnnnnnnnnnnnnnnnnnnnnnnnnnnnnnn</span></div></a></li><li><a class=\"cover playlist\" href=\"/playlist/69AwrFf1p9JGQD4gIVgx1B\"><div class=\"grid-item-image lazy-image lazy-image_loaded\" data-src=\"//i.scdn.co/image/ab67706c0000da84a511499989e8670e1d14d6db\" style='background-image: url(\"//i.scdn.co/image/ab67706c0000da84a511499989e8670e1d14d6db\");'></div><div class=\"grid-item-image-text\"><span dir=\"auto\">** 7%!5%^19</span></div></a></li><li><a class=\"cover playlist\" href=\"/playlist/5xKU5xWbQGNYeih78fhbZ0\"><div class=\"grid-item-image lazy-image lazy-image_loaded\" data-src=\"//i.scdn.co/image/ab67706c0000da84d150038f2c890294b71c398b\" style='background-image: url(\"//i.scdn.co/image/ab67706c0000da84d150038f2c890294b71c398b\");'></div><div class=\"grid-item-image-text\"><span dir=\"auto\">13/4/19</span></div></a></li><li><a class=\"cover playlist\" href=\"/playlist/2fFeZUfVodUKIUrpRTHqmr\"><div class=\"grid-item-image lazy-image lazy-image_loaded\" data-src=\"//i.scdn.co/image/ab67706c0000da8469f1a950fb34d9ee318e32e2\" style='background-image: url(\"//i.scdn.co/image/ab67706c0000da8469f1a950fb34d9ee318e32e2\");'></div><div class=\"grid-item-image-text\"><span dir=\"auto\">3.3.19</span></div></a></li><li><a class=\"cover playlist\" href=\"/playlist/02y2Wxeks3aHAR4edbgPtV\"><div class=\"grid-item-image lazy-image lazy-image_loaded\" data-src=\"//i.scdn.co/image/ab67706c0000da849831c7eecc9db824b9843552\" style='background-image: url(\"//i.scdn.co/image/ab67706c0000da849831c7eecc9db824b9843552\");'></div><div class=\"grid-item-image-text\"><span dir=\"auto\">9/2/19</span></div></a></li><li><a class=\"cover playlist\" href=\"/playlist/6Nj7BkPptD5bEQfvTwnwEd\"><div class=\"grid-item-image lazy-image lazy-image_loaded\" data-src=\"//i.scdn.co/image/ab67706c0000da841a4bb0684a9638d9716eaba3\" style='background-image: url(\"//i.scdn.co/image/ab67706c0000da841a4bb0684a9638d9716eaba3\");'></div><div class=\"grid-item-image-text\"><span dir=\"auto\">6/12/18</span></div></a></li><li><a class=\"cover playlist\" href=\"/playlist/5FHwpvueOOXAhgpBi7EQjU\"><div class=\"grid-item-image lazy-image lazy-image_loaded\" data-src=\"//i.scdn.co/image/ab67706c0000da84bccfda6cd060e13bd91568c5\" style='background-image: url(\"//i.scdn.co/image/ab67706c0000da84bccfda6cd060e13bd91568c5\");'></div><div class=\"grid-item-image-text\"><span dir=\"auto\">2/11/18</span></div></a></li><li><a class=\"cover playlist\" href=\"/playlist/3tVMhwwo3ZlEBpd0GKDZgW\"><div class=\"grid-item-image lazy-image lazy-image_loaded\" data-src=\"//i.scdn.co/image/ab67706c0000da84f43f21946fa6134aec23aee7\" style='background-image: url(\"//i.scdn.co/image/ab67706c0000da84f43f21946fa6134aec23aee7\");'></div><div class=\"grid-item-image-text\"><span dir=\"auto\">18/10/18</span></div></a></li><li><a class=\"cover playlist\" href=\"/playlist/1hRLZcFuEzkG7QcTq6lV8l\"><div class=\"grid-item-image lazy-image lazy-image_loaded\" data-src=\"//i.scdn.co/image/ab67706c0000da84a3f19fc279f4a609d0597ac9\" style='background-image: url(\"//i.scdn.co/image/ab67706c0000da84a3f19fc279f4a609d0597ac9\");'></div><div class=\"grid-item-image-text\"><span dir=\"auto\">29/9/18</span></div></a></li><li><a class=\"cover playlist\" href=\"/playlist/2daBY0rudM7hrsuNXytlW9\"><div class=\"grid-item-image lazy-image lazy-image_loaded\" data-src=\"//i.scdn.co/image/ab67706c0000da845496a90bfa8e98f2e83b3eda\" style='background-image: url(\"//i.scdn.co/image/ab67706c0000da845496a90bfa8e98f2e83b3eda\");'></div><div class=\"grid-item-image-text\"><span dir=\"auto\">1/9/18</span></div></a></li><li><a class=\"cover playlist\" href=\"/playlist/2oLvjtrCVIUdWUInAMqwGO\"><div class=\"grid-item-image lazy-image lazy-image_loaded\" data-src=\"//i.scdn.co/image/ab67706c0000da841fdd8395b454a5e7a39febe3\" style='background-image: url(\"//i.scdn.co/image/ab67706c0000da841fdd8395b454a5e7a39febe3\");'></div><div class=\"grid-item-image-text\"><span dir=\"auto\">beep</span></div></a></li><li><a class=\"cover playlist\" href=\"/playlist/72cxf8xXRQOZiYbSJR71io\"><div class=\"grid-item-image lazy-image lazy-image_loaded\" data-src=\"//i.scdn.co/image/ab67706c0000bebbdf139708f899494198a3923f\" style='background-image: url(\"//i.scdn.co/image/ab67706c0000bebbdf139708f899494198a3923f\");'></div><div class=\"grid-item-image-text\"><span dir=\"auto\">COLORS - ALL SHOWS</span></div></a></li><li><a class=\"cover playlist\" href=\"/playlist/3OBsCqsoeDiagzd5OvNOtE\"><div class=\"grid-item-image lazy-image lazy-image_loaded\" data-src=\"//i.scdn.co/image/ab67706c0000da84d8f95f044e34b9af889d6165\" style='background-image: url(\"//i.scdn.co/image/ab67706c0000da84d8f95f044e34b9af889d6165\");'></div><div class=\"grid-item-image-text\"><span dir=\"auto\">$LEAZE</span></div></a></li></ul></div></ul>,\n",
       " <div class=\"grid\"><div class=\"grid-heading\"><h3 class=\"subview-title\">Public Playlists</h3></div><ul class=\"more-by-grid more-by-grid-8 playlist padding-notch\" style=\"list-style: none\"><li><a class=\"cover playlist\" href=\"/playlist/5EbNNdQvJ8U4TyuqetE5pY\"><div class=\"grid-item-image lazy-image lazy-image_loaded\" data-src=\"//i.scdn.co/image/ab67706c0000da848103c5c7f921e5ef07e88361\" style='background-image: url(\"//i.scdn.co/image/ab67706c0000da848103c5c7f921e5ef07e88361\");'></div><div class=\"grid-item-image-text\"><span dir=\"auto\">2000's</span></div></a></li><li><a class=\"cover playlist\" href=\"/playlist/7lHgB4bzld24t7kgy4MK9K\"><div class=\"grid-item-image lazy-image lazy-image_loaded\" data-src=\"//i.scdn.co/image/ab67706c0000da841345d9ae12f3f181e1f0be3c\" style='background-image: url(\"//i.scdn.co/image/ab67706c0000da841345d9ae12f3f181e1f0be3c\");'></div><div class=\"grid-item-image-text\"><span dir=\"auto\">mitre 10</span></div></a></li><li><a class=\"cover playlist\" href=\"/playlist/3RTdVqzTm3YgL3KLa13qQV\"><div class=\"grid-item-image lazy-image lazy-image_loaded\" data-src=\"//i.scdn.co/image/ab67706c0000da84dbaa9c7f8ec9217adbe6f37f\" style='background-image: url(\"//i.scdn.co/image/ab67706c0000da84dbaa9c7f8ec9217adbe6f37f\");'></div><div class=\"grid-item-image-text\"><span dir=\"auto\">Small potatoes</span></div></a></li><li><a class=\"cover playlist\" href=\"/playlist/2cV5Bwarta7LPXzbiaYTyf\"><div class=\"grid-item-image lazy-image lazy-image_loaded\" data-src=\"//i.scdn.co/image/ab67706c0000da84d886a21d7d213cd9b5248553\" style='background-image: url(\"//i.scdn.co/image/ab67706c0000da84d886a21d7d213cd9b5248553\");'></div><div class=\"grid-item-image-text\"><span dir=\"auto\">mangoes</span></div></a></li><li><a class=\"cover playlist\" href=\"/playlist/2Cb1eD1J6jlsxKBoNXTTtd\"><div class=\"grid-item-image lazy-image lazy-image_loaded\" data-src=\"//i.scdn.co/image/ab67706c0000da84860424014d9497565e8cc017\" style='background-image: url(\"//i.scdn.co/image/ab67706c0000da84860424014d9497565e8cc017\");'></div><div class=\"grid-item-image-text\"><span dir=\"auto\">bawawaweewa</span></div></a></li><li><a class=\"cover playlist\" href=\"/playlist/0UYrhQh0B0oWx4mQINEdIQ\"><div class=\"grid-item-image lazy-image lazy-image_loaded\" data-src=\"//i.scdn.co/image/ab67706c0000bebb63003b69daa16eda833d7ce9\" style='background-image: url(\"//i.scdn.co/image/ab67706c0000bebb63003b69daa16eda833d7ce9\");'></div><div class=\"grid-item-image-text\"><span dir=\"auto\">[sLUms+CO]</span></div></a></li><li><a class=\"cover playlist\" href=\"/playlist/5lM2ngCx1eF1QQiWXTT5h0\"><div class=\"grid-item-image lazy-image lazy-image_loaded\" data-src=\"//i.scdn.co/image/ab67706c0000da8476e2c1786a0e99b81640f881\" style='background-image: url(\"//i.scdn.co/image/ab67706c0000da8476e2c1786a0e99b81640f881\");'></div><div class=\"grid-item-image-text\"><span dir=\"auto\">lo-fi anime beats to study and chill to</span></div></a></li><li><a class=\"cover playlist\" href=\"/playlist/0N0yZvX6kl2VTaU289UgnM\"><div class=\"grid-item-image lazy-image lazy-image_loaded\" data-src=\"//i.scdn.co/image/ab67706c0000da84187c7f9ecb0c9f78fb5a45cb\" style='background-image: url(\"//i.scdn.co/image/ab67706c0000da84187c7f9ecb0c9f78fb5a45cb\");'></div><div class=\"grid-item-image-text\"><span dir=\"auto\">yeughh</span></div></a></li><li><a class=\"cover playlist\" href=\"/playlist/0eyLdRCySHOjnnur6rpHA1\"><div class=\"grid-item-image lazy-image lazy-image_loaded\" data-src=\"//i.scdn.co/image/ab67706c0000da84358df36b9c73c1ac73cbcdd0\" style='background-image: url(\"//i.scdn.co/image/ab67706c0000da84358df36b9c73c1ac73cbcdd0\");'></div><div class=\"grid-item-image-text\"><span dir=\"auto\">septombur</span></div></a></li><li><a class=\"cover playlist\" href=\"/playlist/4uhQ4gWB5KKraePWgeuXen\"><div class=\"grid-item-image lazy-image lazy-image_loaded\" data-src=\"//i.scdn.co/image/ab67706c0000da8408ff9075187422be34f61d45\" style='background-image: url(\"//i.scdn.co/image/ab67706c0000da8408ff9075187422be34f61d45\");'></div><div class=\"grid-item-image-text\"><span dir=\"auto\">AUGUST</span></div></a></li><li><a class=\"cover playlist\" href=\"/playlist/4FZoXwAdXd73KUsfrXqDWa\"><div class=\"grid-item-image lazy-image lazy-image_loaded\" data-src=\"//i.scdn.co/image/ab67706c0000da8435dd94ac569622632b901dd9\" style='background-image: url(\"//i.scdn.co/image/ab67706c0000da8435dd94ac569622632b901dd9\");'></div><div class=\"grid-item-image-text\"><span dir=\"auto\">bangers!!</span></div></a></li><li><a class=\"cover playlist\" href=\"/playlist/1VogboyjYSmA3Xf2F20YOA\"><div class=\"grid-item-image lazy-image lazy-image_loaded\" data-src=\"//i.scdn.co/image/ab67706c0000da84d33777a4e83c79428b127b0e\" style='background-image: url(\"//i.scdn.co/image/ab67706c0000da84d33777a4e83c79428b127b0e\");'></div><div class=\"grid-item-image-text\"><span dir=\"auto\">may</span></div></a></li><li><a class=\"cover playlist\" href=\"/playlist/1Eir2w06qRxn3yBToOT91j\"><div class=\"grid-item-image lazy-image lazy-image_loaded\" data-src=\"//i.scdn.co/image/ab67706c0000da843d57081a5603441fe25ba782\" style='background-image: url(\"//i.scdn.co/image/ab67706c0000da843d57081a5603441fe25ba782\");'></div><div class=\"grid-item-image-text\"><span dir=\"auto\">doot</span></div></a></li><li><a class=\"cover playlist\" href=\"/playlist/0tSshgFzOPK4am84cP7NxW\"><div class=\"grid-item-image lazy-image lazy-image_loaded\" data-src=\"//i.scdn.co/image/ab67706c0000da844d1e8d0b8f13813f402784b0\" style='background-image: url(\"//i.scdn.co/image/ab67706c0000da844d1e8d0b8f13813f402784b0\");'></div><div class=\"grid-item-image-text\"><span dir=\"auto\">ahhhh fuck this frigerator</span></div></a></li><li><a class=\"cover playlist\" href=\"/playlist/3iWEerbgDWrzqnRFJl9Ppf\"><div class=\"grid-item-image lazy-image lazy-image_loaded\" data-src=\"//i.scdn.co/image/ab67706c0000da84e6f4ecc61071c1daf416f105\" style='background-image: url(\"//i.scdn.co/image/ab67706c0000da84e6f4ecc61071c1daf416f105\");'></div><div class=\"grid-item-image-text\"><span dir=\"auto\">, , ,</span></div></a></li><li><a class=\"cover playlist\" href=\"/playlist/0ZKVHuUE755Hq1eXOGtTlu\"><div class=\"grid-item-image lazy-image lazy-image_loaded\" data-src=\"//i.scdn.co/image/ab67706c0000da848e772970689b2fb0b3fdf632\" style='background-image: url(\"//i.scdn.co/image/ab67706c0000da848e772970689b2fb0b3fdf632\");'></div><div class=\"grid-item-image-text\"><span dir=\"auto\">MARch</span></div></a></li><li><a class=\"cover playlist\" href=\"/playlist/1M3MJAfm5fMshfKBIaZj5n\"><div class=\"grid-item-image lazy-image lazy-image_loaded\" data-src=\"//i.scdn.co/image/ab67706c0000da84c002e4acc8883ef985063be6\" style='background-image: url(\"//i.scdn.co/image/ab67706c0000da84c002e4acc8883ef985063be6\");'></div><div class=\"grid-item-image-text\"><span dir=\"auto\">shaqavelli</span></div></a></li><li><a class=\"cover playlist\" href=\"/playlist/0gd1DST9Tp90FHNuWEmWEV\"><div class=\"grid-item-image lazy-image lazy-image_loaded\" data-src=\"//i.scdn.co/image/ab67706c0000da84ba3e7e65752dc091175f0a03\" style='background-image: url(\"//i.scdn.co/image/ab67706c0000da84ba3e7e65752dc091175f0a03\");'></div><div class=\"grid-item-image-text\"><span dir=\"auto\">1010101010101010</span></div></a></li><li><a class=\"cover playlist\" href=\"/playlist/41opuZgKBPirjz4yQPFbm6\"><div class=\"grid-item-image lazy-image lazy-image_loaded\" data-src=\"//i.scdn.co/image/ab67706c0000da8497602c35372caff3ccd5fd49\" style='background-image: url(\"//i.scdn.co/image/ab67706c0000da8497602c35372caff3ccd5fd49\");'></div><div class=\"grid-item-image-text\"><span dir=\"auto\">1620</span></div></a></li><li><a class=\"cover playlist\" href=\"/playlist/42iEAkjLPHXRIGiZPOw9QN\"><div class=\"grid-item-image lazy-image lazy-image_loaded\" data-src=\"//i.scdn.co/image/ab67706c0000da84068467cfb6cf52bc8eaa77bf\" style='background-image: url(\"//i.scdn.co/image/ab67706c0000da84068467cfb6cf52bc8eaa77bf\");'></div><div class=\"grid-item-image-text\"><span dir=\"auto\">fka!</span></div></a></li><li><a class=\"cover playlist\" href=\"/playlist/5TdecqhIsNy42q5Y70s0Ij\"><div class=\"grid-item-image lazy-image lazy-image_loaded\" data-src=\"//i.scdn.co/image/ab67706c0000da843102ea32ae664c58c0737cea\" style='background-image: url(\"//i.scdn.co/image/ab67706c0000da843102ea32ae664c58c0737cea\");'></div><div class=\"grid-item-image-text\"><span dir=\"auto\">29*@!$</span></div></a></li><li><a class=\"cover playlist\" href=\"/playlist/13acy6PNOzru2GaJoTYnVR\"><div class=\"grid-item-image lazy-image lazy-image_loaded\" data-src=\"//i.scdn.co/image/ab67706c0000da842baf3b4ca1d5d9d1d775b684\" style='background-image: url(\"//i.scdn.co/image/ab67706c0000da842baf3b4ca1d5d9d1d775b684\");'></div><div class=\"grid-item-image-text\"><span dir=\"auto\">{131219}</span></div></a></li><li><a class=\"cover playlist\" href=\"/playlist/0CUAeUT89zp3Xo0p6bKaPP\"><div class=\"grid-item-image lazy-image lazy-image_loaded\" data-src=\"//i.scdn.co/image/ab67706c0000da8423e4c476893acfd45df82845\" style='background-image: url(\"//i.scdn.co/image/ab67706c0000da8423e4c476893acfd45df82845\");'></div><div class=\"grid-item-image-text\"><span dir=\"auto\">81119</span></div></a></li><li><a class=\"cover playlist\" href=\"/playlist/2BxIym2EtZbRWetm9cHlyg\"><div class=\"grid-item-image lazy-image lazy-image_loaded\" data-src=\"//i.scdn.co/image/ab67706c0000da8407c54c196d45a11257ea24eb\" style='background-image: url(\"//i.scdn.co/image/ab67706c0000da8407c54c196d45a11257ea24eb\");'></div><div class=\"grid-item-image-text\"><span dir=\"auto\">17(10)19</span></div></a></li><li><a class=\"cover playlist\" href=\"/playlist/6Ps2EAwKEkX4nCEyIPzjTD\"><div class=\"grid-item-image lazy-image lazy-image_loaded\" data-src=\"//i.scdn.co/image/ab67706c0000da84978a971f18fdb154a23abe29\" style='background-image: url(\"//i.scdn.co/image/ab67706c0000da84978a971f18fdb154a23abe29\");'></div><div class=\"grid-item-image-text\"><span dir=\"auto\">92.9.91</span></div></a></li><li><a class=\"cover playlist\" href=\"/playlist/2qJdHM2i2fnC1YIpXu5wuv\"><div class=\"grid-item-image lazy-image lazy-image_loaded\" data-src=\"//i.scdn.co/image/ab67706c0000da84eaa3e7133ee0918505b980c9\" style='background-image: url(\"//i.scdn.co/image/ab67706c0000da84eaa3e7133ee0918505b980c9\");'></div><div class=\"grid-item-image-text\"><span dir=\"auto\">16****!#$@!</span></div></a></li><li><a class=\"cover playlist\" href=\"/playlist/2gGh9mvamzX15rY3qEmlxQ\"><div class=\"grid-item-image lazy-image lazy-image_loaded\" data-src=\"//i.scdn.co/image/ab67706c0000da8427b460f150d685e328f59644\" style='background-image: url(\"//i.scdn.co/image/ab67706c0000da8427b460f150d685e328f59644\");'></div><div class=\"grid-item-image-text\"><span dir=\"auto\">29/6/19</span></div></a></li><li><a class=\"cover playlist\" href=\"/playlist/51XaFN9kkwvgFbI6Qp1OSH\"><div class=\"grid-item-image lazy-image lazy-image_loaded\" data-src=\"//i.scdn.co/image/ab67706c0000da840a68f6eaea3a222830324011\" style='background-image: url(\"//i.scdn.co/image/ab67706c0000da840a68f6eaea3a222830324011\");'></div><div class=\"grid-item-image-text\"><span dir=\"auto\">nnnnnnnnnnnnnnnnnnnnnnnnnnnnnnnnnnn</span></div></a></li><li><a class=\"cover playlist\" href=\"/playlist/69AwrFf1p9JGQD4gIVgx1B\"><div class=\"grid-item-image lazy-image lazy-image_loaded\" data-src=\"//i.scdn.co/image/ab67706c0000da84a511499989e8670e1d14d6db\" style='background-image: url(\"//i.scdn.co/image/ab67706c0000da84a511499989e8670e1d14d6db\");'></div><div class=\"grid-item-image-text\"><span dir=\"auto\">** 7%!5%^19</span></div></a></li><li><a class=\"cover playlist\" href=\"/playlist/5xKU5xWbQGNYeih78fhbZ0\"><div class=\"grid-item-image lazy-image lazy-image_loaded\" data-src=\"//i.scdn.co/image/ab67706c0000da84d150038f2c890294b71c398b\" style='background-image: url(\"//i.scdn.co/image/ab67706c0000da84d150038f2c890294b71c398b\");'></div><div class=\"grid-item-image-text\"><span dir=\"auto\">13/4/19</span></div></a></li><li><a class=\"cover playlist\" href=\"/playlist/2fFeZUfVodUKIUrpRTHqmr\"><div class=\"grid-item-image lazy-image lazy-image_loaded\" data-src=\"//i.scdn.co/image/ab67706c0000da8469f1a950fb34d9ee318e32e2\" style='background-image: url(\"//i.scdn.co/image/ab67706c0000da8469f1a950fb34d9ee318e32e2\");'></div><div class=\"grid-item-image-text\"><span dir=\"auto\">3.3.19</span></div></a></li><li><a class=\"cover playlist\" href=\"/playlist/02y2Wxeks3aHAR4edbgPtV\"><div class=\"grid-item-image lazy-image lazy-image_loaded\" data-src=\"//i.scdn.co/image/ab67706c0000da849831c7eecc9db824b9843552\" style='background-image: url(\"//i.scdn.co/image/ab67706c0000da849831c7eecc9db824b9843552\");'></div><div class=\"grid-item-image-text\"><span dir=\"auto\">9/2/19</span></div></a></li><li><a class=\"cover playlist\" href=\"/playlist/6Nj7BkPptD5bEQfvTwnwEd\"><div class=\"grid-item-image lazy-image lazy-image_loaded\" data-src=\"//i.scdn.co/image/ab67706c0000da841a4bb0684a9638d9716eaba3\" style='background-image: url(\"//i.scdn.co/image/ab67706c0000da841a4bb0684a9638d9716eaba3\");'></div><div class=\"grid-item-image-text\"><span dir=\"auto\">6/12/18</span></div></a></li><li><a class=\"cover playlist\" href=\"/playlist/5FHwpvueOOXAhgpBi7EQjU\"><div class=\"grid-item-image lazy-image lazy-image_loaded\" data-src=\"//i.scdn.co/image/ab67706c0000da84bccfda6cd060e13bd91568c5\" style='background-image: url(\"//i.scdn.co/image/ab67706c0000da84bccfda6cd060e13bd91568c5\");'></div><div class=\"grid-item-image-text\"><span dir=\"auto\">2/11/18</span></div></a></li><li><a class=\"cover playlist\" href=\"/playlist/3tVMhwwo3ZlEBpd0GKDZgW\"><div class=\"grid-item-image lazy-image lazy-image_loaded\" data-src=\"//i.scdn.co/image/ab67706c0000da84f43f21946fa6134aec23aee7\" style='background-image: url(\"//i.scdn.co/image/ab67706c0000da84f43f21946fa6134aec23aee7\");'></div><div class=\"grid-item-image-text\"><span dir=\"auto\">18/10/18</span></div></a></li><li><a class=\"cover playlist\" href=\"/playlist/1hRLZcFuEzkG7QcTq6lV8l\"><div class=\"grid-item-image lazy-image lazy-image_loaded\" data-src=\"//i.scdn.co/image/ab67706c0000da84a3f19fc279f4a609d0597ac9\" style='background-image: url(\"//i.scdn.co/image/ab67706c0000da84a3f19fc279f4a609d0597ac9\");'></div><div class=\"grid-item-image-text\"><span dir=\"auto\">29/9/18</span></div></a></li><li><a class=\"cover playlist\" href=\"/playlist/2daBY0rudM7hrsuNXytlW9\"><div class=\"grid-item-image lazy-image lazy-image_loaded\" data-src=\"//i.scdn.co/image/ab67706c0000da845496a90bfa8e98f2e83b3eda\" style='background-image: url(\"//i.scdn.co/image/ab67706c0000da845496a90bfa8e98f2e83b3eda\");'></div><div class=\"grid-item-image-text\"><span dir=\"auto\">1/9/18</span></div></a></li><li><a class=\"cover playlist\" href=\"/playlist/2oLvjtrCVIUdWUInAMqwGO\"><div class=\"grid-item-image lazy-image lazy-image_loaded\" data-src=\"//i.scdn.co/image/ab67706c0000da841fdd8395b454a5e7a39febe3\" style='background-image: url(\"//i.scdn.co/image/ab67706c0000da841fdd8395b454a5e7a39febe3\");'></div><div class=\"grid-item-image-text\"><span dir=\"auto\">beep</span></div></a></li><li><a class=\"cover playlist\" href=\"/playlist/72cxf8xXRQOZiYbSJR71io\"><div class=\"grid-item-image lazy-image lazy-image_loaded\" data-src=\"//i.scdn.co/image/ab67706c0000bebbdf139708f899494198a3923f\" style='background-image: url(\"//i.scdn.co/image/ab67706c0000bebbdf139708f899494198a3923f\");'></div><div class=\"grid-item-image-text\"><span dir=\"auto\">COLORS - ALL SHOWS</span></div></a></li><li><a class=\"cover playlist\" href=\"/playlist/3OBsCqsoeDiagzd5OvNOtE\"><div class=\"grid-item-image lazy-image lazy-image_loaded\" data-src=\"//i.scdn.co/image/ab67706c0000da84d8f95f044e34b9af889d6165\" style='background-image: url(\"//i.scdn.co/image/ab67706c0000da84d8f95f044e34b9af889d6165\");'></div><div class=\"grid-item-image-text\"><span dir=\"auto\">$LEAZE</span></div></a></li></ul></div>,\n",
       " <div class=\"grid-heading\"><h3 class=\"subview-title\">Public Playlists</h3></div>,\n",
       " <h3 class=\"subview-title\">Public Playlists</h3>,\n",
       " <ul class=\"more-by-grid more-by-grid-8 playlist padding-notch\" style=\"list-style: none\"><li><a class=\"cover playlist\" href=\"/playlist/5EbNNdQvJ8U4TyuqetE5pY\"><div class=\"grid-item-image lazy-image lazy-image_loaded\" data-src=\"//i.scdn.co/image/ab67706c0000da848103c5c7f921e5ef07e88361\" style='background-image: url(\"//i.scdn.co/image/ab67706c0000da848103c5c7f921e5ef07e88361\");'></div><div class=\"grid-item-image-text\"><span dir=\"auto\">2000's</span></div></a></li><li><a class=\"cover playlist\" href=\"/playlist/7lHgB4bzld24t7kgy4MK9K\"><div class=\"grid-item-image lazy-image lazy-image_loaded\" data-src=\"//i.scdn.co/image/ab67706c0000da841345d9ae12f3f181e1f0be3c\" style='background-image: url(\"//i.scdn.co/image/ab67706c0000da841345d9ae12f3f181e1f0be3c\");'></div><div class=\"grid-item-image-text\"><span dir=\"auto\">mitre 10</span></div></a></li><li><a class=\"cover playlist\" href=\"/playlist/3RTdVqzTm3YgL3KLa13qQV\"><div class=\"grid-item-image lazy-image lazy-image_loaded\" data-src=\"//i.scdn.co/image/ab67706c0000da84dbaa9c7f8ec9217adbe6f37f\" style='background-image: url(\"//i.scdn.co/image/ab67706c0000da84dbaa9c7f8ec9217adbe6f37f\");'></div><div class=\"grid-item-image-text\"><span dir=\"auto\">Small potatoes</span></div></a></li><li><a class=\"cover playlist\" href=\"/playlist/2cV5Bwarta7LPXzbiaYTyf\"><div class=\"grid-item-image lazy-image lazy-image_loaded\" data-src=\"//i.scdn.co/image/ab67706c0000da84d886a21d7d213cd9b5248553\" style='background-image: url(\"//i.scdn.co/image/ab67706c0000da84d886a21d7d213cd9b5248553\");'></div><div class=\"grid-item-image-text\"><span dir=\"auto\">mangoes</span></div></a></li><li><a class=\"cover playlist\" href=\"/playlist/2Cb1eD1J6jlsxKBoNXTTtd\"><div class=\"grid-item-image lazy-image lazy-image_loaded\" data-src=\"//i.scdn.co/image/ab67706c0000da84860424014d9497565e8cc017\" style='background-image: url(\"//i.scdn.co/image/ab67706c0000da84860424014d9497565e8cc017\");'></div><div class=\"grid-item-image-text\"><span dir=\"auto\">bawawaweewa</span></div></a></li><li><a class=\"cover playlist\" href=\"/playlist/0UYrhQh0B0oWx4mQINEdIQ\"><div class=\"grid-item-image lazy-image lazy-image_loaded\" data-src=\"//i.scdn.co/image/ab67706c0000bebb63003b69daa16eda833d7ce9\" style='background-image: url(\"//i.scdn.co/image/ab67706c0000bebb63003b69daa16eda833d7ce9\");'></div><div class=\"grid-item-image-text\"><span dir=\"auto\">[sLUms+CO]</span></div></a></li><li><a class=\"cover playlist\" href=\"/playlist/5lM2ngCx1eF1QQiWXTT5h0\"><div class=\"grid-item-image lazy-image lazy-image_loaded\" data-src=\"//i.scdn.co/image/ab67706c0000da8476e2c1786a0e99b81640f881\" style='background-image: url(\"//i.scdn.co/image/ab67706c0000da8476e2c1786a0e99b81640f881\");'></div><div class=\"grid-item-image-text\"><span dir=\"auto\">lo-fi anime beats to study and chill to</span></div></a></li><li><a class=\"cover playlist\" href=\"/playlist/0N0yZvX6kl2VTaU289UgnM\"><div class=\"grid-item-image lazy-image lazy-image_loaded\" data-src=\"//i.scdn.co/image/ab67706c0000da84187c7f9ecb0c9f78fb5a45cb\" style='background-image: url(\"//i.scdn.co/image/ab67706c0000da84187c7f9ecb0c9f78fb5a45cb\");'></div><div class=\"grid-item-image-text\"><span dir=\"auto\">yeughh</span></div></a></li><li><a class=\"cover playlist\" href=\"/playlist/0eyLdRCySHOjnnur6rpHA1\"><div class=\"grid-item-image lazy-image lazy-image_loaded\" data-src=\"//i.scdn.co/image/ab67706c0000da84358df36b9c73c1ac73cbcdd0\" style='background-image: url(\"//i.scdn.co/image/ab67706c0000da84358df36b9c73c1ac73cbcdd0\");'></div><div class=\"grid-item-image-text\"><span dir=\"auto\">septombur</span></div></a></li><li><a class=\"cover playlist\" href=\"/playlist/4uhQ4gWB5KKraePWgeuXen\"><div class=\"grid-item-image lazy-image lazy-image_loaded\" data-src=\"//i.scdn.co/image/ab67706c0000da8408ff9075187422be34f61d45\" style='background-image: url(\"//i.scdn.co/image/ab67706c0000da8408ff9075187422be34f61d45\");'></div><div class=\"grid-item-image-text\"><span dir=\"auto\">AUGUST</span></div></a></li><li><a class=\"cover playlist\" href=\"/playlist/4FZoXwAdXd73KUsfrXqDWa\"><div class=\"grid-item-image lazy-image lazy-image_loaded\" data-src=\"//i.scdn.co/image/ab67706c0000da8435dd94ac569622632b901dd9\" style='background-image: url(\"//i.scdn.co/image/ab67706c0000da8435dd94ac569622632b901dd9\");'></div><div class=\"grid-item-image-text\"><span dir=\"auto\">bangers!!</span></div></a></li><li><a class=\"cover playlist\" href=\"/playlist/1VogboyjYSmA3Xf2F20YOA\"><div class=\"grid-item-image lazy-image lazy-image_loaded\" data-src=\"//i.scdn.co/image/ab67706c0000da84d33777a4e83c79428b127b0e\" style='background-image: url(\"//i.scdn.co/image/ab67706c0000da84d33777a4e83c79428b127b0e\");'></div><div class=\"grid-item-image-text\"><span dir=\"auto\">may</span></div></a></li><li><a class=\"cover playlist\" href=\"/playlist/1Eir2w06qRxn3yBToOT91j\"><div class=\"grid-item-image lazy-image lazy-image_loaded\" data-src=\"//i.scdn.co/image/ab67706c0000da843d57081a5603441fe25ba782\" style='background-image: url(\"//i.scdn.co/image/ab67706c0000da843d57081a5603441fe25ba782\");'></div><div class=\"grid-item-image-text\"><span dir=\"auto\">doot</span></div></a></li><li><a class=\"cover playlist\" href=\"/playlist/0tSshgFzOPK4am84cP7NxW\"><div class=\"grid-item-image lazy-image lazy-image_loaded\" data-src=\"//i.scdn.co/image/ab67706c0000da844d1e8d0b8f13813f402784b0\" style='background-image: url(\"//i.scdn.co/image/ab67706c0000da844d1e8d0b8f13813f402784b0\");'></div><div class=\"grid-item-image-text\"><span dir=\"auto\">ahhhh fuck this frigerator</span></div></a></li><li><a class=\"cover playlist\" href=\"/playlist/3iWEerbgDWrzqnRFJl9Ppf\"><div class=\"grid-item-image lazy-image lazy-image_loaded\" data-src=\"//i.scdn.co/image/ab67706c0000da84e6f4ecc61071c1daf416f105\" style='background-image: url(\"//i.scdn.co/image/ab67706c0000da84e6f4ecc61071c1daf416f105\");'></div><div class=\"grid-item-image-text\"><span dir=\"auto\">, , ,</span></div></a></li><li><a class=\"cover playlist\" href=\"/playlist/0ZKVHuUE755Hq1eXOGtTlu\"><div class=\"grid-item-image lazy-image lazy-image_loaded\" data-src=\"//i.scdn.co/image/ab67706c0000da848e772970689b2fb0b3fdf632\" style='background-image: url(\"//i.scdn.co/image/ab67706c0000da848e772970689b2fb0b3fdf632\");'></div><div class=\"grid-item-image-text\"><span dir=\"auto\">MARch</span></div></a></li><li><a class=\"cover playlist\" href=\"/playlist/1M3MJAfm5fMshfKBIaZj5n\"><div class=\"grid-item-image lazy-image lazy-image_loaded\" data-src=\"//i.scdn.co/image/ab67706c0000da84c002e4acc8883ef985063be6\" style='background-image: url(\"//i.scdn.co/image/ab67706c0000da84c002e4acc8883ef985063be6\");'></div><div class=\"grid-item-image-text\"><span dir=\"auto\">shaqavelli</span></div></a></li><li><a class=\"cover playlist\" href=\"/playlist/0gd1DST9Tp90FHNuWEmWEV\"><div class=\"grid-item-image lazy-image lazy-image_loaded\" data-src=\"//i.scdn.co/image/ab67706c0000da84ba3e7e65752dc091175f0a03\" style='background-image: url(\"//i.scdn.co/image/ab67706c0000da84ba3e7e65752dc091175f0a03\");'></div><div class=\"grid-item-image-text\"><span dir=\"auto\">1010101010101010</span></div></a></li><li><a class=\"cover playlist\" href=\"/playlist/41opuZgKBPirjz4yQPFbm6\"><div class=\"grid-item-image lazy-image lazy-image_loaded\" data-src=\"//i.scdn.co/image/ab67706c0000da8497602c35372caff3ccd5fd49\" style='background-image: url(\"//i.scdn.co/image/ab67706c0000da8497602c35372caff3ccd5fd49\");'></div><div class=\"grid-item-image-text\"><span dir=\"auto\">1620</span></div></a></li><li><a class=\"cover playlist\" href=\"/playlist/42iEAkjLPHXRIGiZPOw9QN\"><div class=\"grid-item-image lazy-image lazy-image_loaded\" data-src=\"//i.scdn.co/image/ab67706c0000da84068467cfb6cf52bc8eaa77bf\" style='background-image: url(\"//i.scdn.co/image/ab67706c0000da84068467cfb6cf52bc8eaa77bf\");'></div><div class=\"grid-item-image-text\"><span dir=\"auto\">fka!</span></div></a></li><li><a class=\"cover playlist\" href=\"/playlist/5TdecqhIsNy42q5Y70s0Ij\"><div class=\"grid-item-image lazy-image lazy-image_loaded\" data-src=\"//i.scdn.co/image/ab67706c0000da843102ea32ae664c58c0737cea\" style='background-image: url(\"//i.scdn.co/image/ab67706c0000da843102ea32ae664c58c0737cea\");'></div><div class=\"grid-item-image-text\"><span dir=\"auto\">29*@!$</span></div></a></li><li><a class=\"cover playlist\" href=\"/playlist/13acy6PNOzru2GaJoTYnVR\"><div class=\"grid-item-image lazy-image lazy-image_loaded\" data-src=\"//i.scdn.co/image/ab67706c0000da842baf3b4ca1d5d9d1d775b684\" style='background-image: url(\"//i.scdn.co/image/ab67706c0000da842baf3b4ca1d5d9d1d775b684\");'></div><div class=\"grid-item-image-text\"><span dir=\"auto\">{131219}</span></div></a></li><li><a class=\"cover playlist\" href=\"/playlist/0CUAeUT89zp3Xo0p6bKaPP\"><div class=\"grid-item-image lazy-image lazy-image_loaded\" data-src=\"//i.scdn.co/image/ab67706c0000da8423e4c476893acfd45df82845\" style='background-image: url(\"//i.scdn.co/image/ab67706c0000da8423e4c476893acfd45df82845\");'></div><div class=\"grid-item-image-text\"><span dir=\"auto\">81119</span></div></a></li><li><a class=\"cover playlist\" href=\"/playlist/2BxIym2EtZbRWetm9cHlyg\"><div class=\"grid-item-image lazy-image lazy-image_loaded\" data-src=\"//i.scdn.co/image/ab67706c0000da8407c54c196d45a11257ea24eb\" style='background-image: url(\"//i.scdn.co/image/ab67706c0000da8407c54c196d45a11257ea24eb\");'></div><div class=\"grid-item-image-text\"><span dir=\"auto\">17(10)19</span></div></a></li><li><a class=\"cover playlist\" href=\"/playlist/6Ps2EAwKEkX4nCEyIPzjTD\"><div class=\"grid-item-image lazy-image lazy-image_loaded\" data-src=\"//i.scdn.co/image/ab67706c0000da84978a971f18fdb154a23abe29\" style='background-image: url(\"//i.scdn.co/image/ab67706c0000da84978a971f18fdb154a23abe29\");'></div><div class=\"grid-item-image-text\"><span dir=\"auto\">92.9.91</span></div></a></li><li><a class=\"cover playlist\" href=\"/playlist/2qJdHM2i2fnC1YIpXu5wuv\"><div class=\"grid-item-image lazy-image lazy-image_loaded\" data-src=\"//i.scdn.co/image/ab67706c0000da84eaa3e7133ee0918505b980c9\" style='background-image: url(\"//i.scdn.co/image/ab67706c0000da84eaa3e7133ee0918505b980c9\");'></div><div class=\"grid-item-image-text\"><span dir=\"auto\">16****!#$@!</span></div></a></li><li><a class=\"cover playlist\" href=\"/playlist/2gGh9mvamzX15rY3qEmlxQ\"><div class=\"grid-item-image lazy-image lazy-image_loaded\" data-src=\"//i.scdn.co/image/ab67706c0000da8427b460f150d685e328f59644\" style='background-image: url(\"//i.scdn.co/image/ab67706c0000da8427b460f150d685e328f59644\");'></div><div class=\"grid-item-image-text\"><span dir=\"auto\">29/6/19</span></div></a></li><li><a class=\"cover playlist\" href=\"/playlist/51XaFN9kkwvgFbI6Qp1OSH\"><div class=\"grid-item-image lazy-image lazy-image_loaded\" data-src=\"//i.scdn.co/image/ab67706c0000da840a68f6eaea3a222830324011\" style='background-image: url(\"//i.scdn.co/image/ab67706c0000da840a68f6eaea3a222830324011\");'></div><div class=\"grid-item-image-text\"><span dir=\"auto\">nnnnnnnnnnnnnnnnnnnnnnnnnnnnnnnnnnn</span></div></a></li><li><a class=\"cover playlist\" href=\"/playlist/69AwrFf1p9JGQD4gIVgx1B\"><div class=\"grid-item-image lazy-image lazy-image_loaded\" data-src=\"//i.scdn.co/image/ab67706c0000da84a511499989e8670e1d14d6db\" style='background-image: url(\"//i.scdn.co/image/ab67706c0000da84a511499989e8670e1d14d6db\");'></div><div class=\"grid-item-image-text\"><span dir=\"auto\">** 7%!5%^19</span></div></a></li><li><a class=\"cover playlist\" href=\"/playlist/5xKU5xWbQGNYeih78fhbZ0\"><div class=\"grid-item-image lazy-image lazy-image_loaded\" data-src=\"//i.scdn.co/image/ab67706c0000da84d150038f2c890294b71c398b\" style='background-image: url(\"//i.scdn.co/image/ab67706c0000da84d150038f2c890294b71c398b\");'></div><div class=\"grid-item-image-text\"><span dir=\"auto\">13/4/19</span></div></a></li><li><a class=\"cover playlist\" href=\"/playlist/2fFeZUfVodUKIUrpRTHqmr\"><div class=\"grid-item-image lazy-image lazy-image_loaded\" data-src=\"//i.scdn.co/image/ab67706c0000da8469f1a950fb34d9ee318e32e2\" style='background-image: url(\"//i.scdn.co/image/ab67706c0000da8469f1a950fb34d9ee318e32e2\");'></div><div class=\"grid-item-image-text\"><span dir=\"auto\">3.3.19</span></div></a></li><li><a class=\"cover playlist\" href=\"/playlist/02y2Wxeks3aHAR4edbgPtV\"><div class=\"grid-item-image lazy-image lazy-image_loaded\" data-src=\"//i.scdn.co/image/ab67706c0000da849831c7eecc9db824b9843552\" style='background-image: url(\"//i.scdn.co/image/ab67706c0000da849831c7eecc9db824b9843552\");'></div><div class=\"grid-item-image-text\"><span dir=\"auto\">9/2/19</span></div></a></li><li><a class=\"cover playlist\" href=\"/playlist/6Nj7BkPptD5bEQfvTwnwEd\"><div class=\"grid-item-image lazy-image lazy-image_loaded\" data-src=\"//i.scdn.co/image/ab67706c0000da841a4bb0684a9638d9716eaba3\" style='background-image: url(\"//i.scdn.co/image/ab67706c0000da841a4bb0684a9638d9716eaba3\");'></div><div class=\"grid-item-image-text\"><span dir=\"auto\">6/12/18</span></div></a></li><li><a class=\"cover playlist\" href=\"/playlist/5FHwpvueOOXAhgpBi7EQjU\"><div class=\"grid-item-image lazy-image lazy-image_loaded\" data-src=\"//i.scdn.co/image/ab67706c0000da84bccfda6cd060e13bd91568c5\" style='background-image: url(\"//i.scdn.co/image/ab67706c0000da84bccfda6cd060e13bd91568c5\");'></div><div class=\"grid-item-image-text\"><span dir=\"auto\">2/11/18</span></div></a></li><li><a class=\"cover playlist\" href=\"/playlist/3tVMhwwo3ZlEBpd0GKDZgW\"><div class=\"grid-item-image lazy-image lazy-image_loaded\" data-src=\"//i.scdn.co/image/ab67706c0000da84f43f21946fa6134aec23aee7\" style='background-image: url(\"//i.scdn.co/image/ab67706c0000da84f43f21946fa6134aec23aee7\");'></div><div class=\"grid-item-image-text\"><span dir=\"auto\">18/10/18</span></div></a></li><li><a class=\"cover playlist\" href=\"/playlist/1hRLZcFuEzkG7QcTq6lV8l\"><div class=\"grid-item-image lazy-image lazy-image_loaded\" data-src=\"//i.scdn.co/image/ab67706c0000da84a3f19fc279f4a609d0597ac9\" style='background-image: url(\"//i.scdn.co/image/ab67706c0000da84a3f19fc279f4a609d0597ac9\");'></div><div class=\"grid-item-image-text\"><span dir=\"auto\">29/9/18</span></div></a></li><li><a class=\"cover playlist\" href=\"/playlist/2daBY0rudM7hrsuNXytlW9\"><div class=\"grid-item-image lazy-image lazy-image_loaded\" data-src=\"//i.scdn.co/image/ab67706c0000da845496a90bfa8e98f2e83b3eda\" style='background-image: url(\"//i.scdn.co/image/ab67706c0000da845496a90bfa8e98f2e83b3eda\");'></div><div class=\"grid-item-image-text\"><span dir=\"auto\">1/9/18</span></div></a></li><li><a class=\"cover playlist\" href=\"/playlist/2oLvjtrCVIUdWUInAMqwGO\"><div class=\"grid-item-image lazy-image lazy-image_loaded\" data-src=\"//i.scdn.co/image/ab67706c0000da841fdd8395b454a5e7a39febe3\" style='background-image: url(\"//i.scdn.co/image/ab67706c0000da841fdd8395b454a5e7a39febe3\");'></div><div class=\"grid-item-image-text\"><span dir=\"auto\">beep</span></div></a></li><li><a class=\"cover playlist\" href=\"/playlist/72cxf8xXRQOZiYbSJR71io\"><div class=\"grid-item-image lazy-image lazy-image_loaded\" data-src=\"//i.scdn.co/image/ab67706c0000bebbdf139708f899494198a3923f\" style='background-image: url(\"//i.scdn.co/image/ab67706c0000bebbdf139708f899494198a3923f\");'></div><div class=\"grid-item-image-text\"><span dir=\"auto\">COLORS - ALL SHOWS</span></div></a></li><li><a class=\"cover playlist\" href=\"/playlist/3OBsCqsoeDiagzd5OvNOtE\"><div class=\"grid-item-image lazy-image lazy-image_loaded\" data-src=\"//i.scdn.co/image/ab67706c0000da84d8f95f044e34b9af889d6165\" style='background-image: url(\"//i.scdn.co/image/ab67706c0000da84d8f95f044e34b9af889d6165\");'></div><div class=\"grid-item-image-text\"><span dir=\"auto\">$LEAZE</span></div></a></li></ul>,\n",
       " <li><a class=\"cover playlist\" href=\"/playlist/5EbNNdQvJ8U4TyuqetE5pY\"><div class=\"grid-item-image lazy-image lazy-image_loaded\" data-src=\"//i.scdn.co/image/ab67706c0000da848103c5c7f921e5ef07e88361\" style='background-image: url(\"//i.scdn.co/image/ab67706c0000da848103c5c7f921e5ef07e88361\");'></div><div class=\"grid-item-image-text\"><span dir=\"auto\">2000's</span></div></a></li>,\n",
       " <a class=\"cover playlist\" href=\"/playlist/5EbNNdQvJ8U4TyuqetE5pY\"><div class=\"grid-item-image lazy-image lazy-image_loaded\" data-src=\"//i.scdn.co/image/ab67706c0000da848103c5c7f921e5ef07e88361\" style='background-image: url(\"//i.scdn.co/image/ab67706c0000da848103c5c7f921e5ef07e88361\");'></div><div class=\"grid-item-image-text\"><span dir=\"auto\">2000's</span></div></a>,\n",
       " <div class=\"grid-item-image lazy-image lazy-image_loaded\" data-src=\"//i.scdn.co/image/ab67706c0000da848103c5c7f921e5ef07e88361\" style='background-image: url(\"//i.scdn.co/image/ab67706c0000da848103c5c7f921e5ef07e88361\");'></div>,\n",
       " <div class=\"grid-item-image-text\"><span dir=\"auto\">2000's</span></div>,\n",
       " <span dir=\"auto\">2000's</span>,\n",
       " <li><a class=\"cover playlist\" href=\"/playlist/7lHgB4bzld24t7kgy4MK9K\"><div class=\"grid-item-image lazy-image lazy-image_loaded\" data-src=\"//i.scdn.co/image/ab67706c0000da841345d9ae12f3f181e1f0be3c\" style='background-image: url(\"//i.scdn.co/image/ab67706c0000da841345d9ae12f3f181e1f0be3c\");'></div><div class=\"grid-item-image-text\"><span dir=\"auto\">mitre 10</span></div></a></li>,\n",
       " <a class=\"cover playlist\" href=\"/playlist/7lHgB4bzld24t7kgy4MK9K\"><div class=\"grid-item-image lazy-image lazy-image_loaded\" data-src=\"//i.scdn.co/image/ab67706c0000da841345d9ae12f3f181e1f0be3c\" style='background-image: url(\"//i.scdn.co/image/ab67706c0000da841345d9ae12f3f181e1f0be3c\");'></div><div class=\"grid-item-image-text\"><span dir=\"auto\">mitre 10</span></div></a>,\n",
       " <div class=\"grid-item-image lazy-image lazy-image_loaded\" data-src=\"//i.scdn.co/image/ab67706c0000da841345d9ae12f3f181e1f0be3c\" style='background-image: url(\"//i.scdn.co/image/ab67706c0000da841345d9ae12f3f181e1f0be3c\");'></div>,\n",
       " <div class=\"grid-item-image-text\"><span dir=\"auto\">mitre 10</span></div>,\n",
       " <span dir=\"auto\">mitre 10</span>,\n",
       " <li><a class=\"cover playlist\" href=\"/playlist/3RTdVqzTm3YgL3KLa13qQV\"><div class=\"grid-item-image lazy-image lazy-image_loaded\" data-src=\"//i.scdn.co/image/ab67706c0000da84dbaa9c7f8ec9217adbe6f37f\" style='background-image: url(\"//i.scdn.co/image/ab67706c0000da84dbaa9c7f8ec9217adbe6f37f\");'></div><div class=\"grid-item-image-text\"><span dir=\"auto\">Small potatoes</span></div></a></li>,\n",
       " <a class=\"cover playlist\" href=\"/playlist/3RTdVqzTm3YgL3KLa13qQV\"><div class=\"grid-item-image lazy-image lazy-image_loaded\" data-src=\"//i.scdn.co/image/ab67706c0000da84dbaa9c7f8ec9217adbe6f37f\" style='background-image: url(\"//i.scdn.co/image/ab67706c0000da84dbaa9c7f8ec9217adbe6f37f\");'></div><div class=\"grid-item-image-text\"><span dir=\"auto\">Small potatoes</span></div></a>,\n",
       " <div class=\"grid-item-image lazy-image lazy-image_loaded\" data-src=\"//i.scdn.co/image/ab67706c0000da84dbaa9c7f8ec9217adbe6f37f\" style='background-image: url(\"//i.scdn.co/image/ab67706c0000da84dbaa9c7f8ec9217adbe6f37f\");'></div>,\n",
       " <div class=\"grid-item-image-text\"><span dir=\"auto\">Small potatoes</span></div>,\n",
       " <span dir=\"auto\">Small potatoes</span>,\n",
       " <li><a class=\"cover playlist\" href=\"/playlist/2cV5Bwarta7LPXzbiaYTyf\"><div class=\"grid-item-image lazy-image lazy-image_loaded\" data-src=\"//i.scdn.co/image/ab67706c0000da84d886a21d7d213cd9b5248553\" style='background-image: url(\"//i.scdn.co/image/ab67706c0000da84d886a21d7d213cd9b5248553\");'></div><div class=\"grid-item-image-text\"><span dir=\"auto\">mangoes</span></div></a></li>,\n",
       " <a class=\"cover playlist\" href=\"/playlist/2cV5Bwarta7LPXzbiaYTyf\"><div class=\"grid-item-image lazy-image lazy-image_loaded\" data-src=\"//i.scdn.co/image/ab67706c0000da84d886a21d7d213cd9b5248553\" style='background-image: url(\"//i.scdn.co/image/ab67706c0000da84d886a21d7d213cd9b5248553\");'></div><div class=\"grid-item-image-text\"><span dir=\"auto\">mangoes</span></div></a>,\n",
       " <div class=\"grid-item-image lazy-image lazy-image_loaded\" data-src=\"//i.scdn.co/image/ab67706c0000da84d886a21d7d213cd9b5248553\" style='background-image: url(\"//i.scdn.co/image/ab67706c0000da84d886a21d7d213cd9b5248553\");'></div>,\n",
       " <div class=\"grid-item-image-text\"><span dir=\"auto\">mangoes</span></div>,\n",
       " <span dir=\"auto\">mangoes</span>,\n",
       " <li><a class=\"cover playlist\" href=\"/playlist/2Cb1eD1J6jlsxKBoNXTTtd\"><div class=\"grid-item-image lazy-image lazy-image_loaded\" data-src=\"//i.scdn.co/image/ab67706c0000da84860424014d9497565e8cc017\" style='background-image: url(\"//i.scdn.co/image/ab67706c0000da84860424014d9497565e8cc017\");'></div><div class=\"grid-item-image-text\"><span dir=\"auto\">bawawaweewa</span></div></a></li>,\n",
       " <a class=\"cover playlist\" href=\"/playlist/2Cb1eD1J6jlsxKBoNXTTtd\"><div class=\"grid-item-image lazy-image lazy-image_loaded\" data-src=\"//i.scdn.co/image/ab67706c0000da84860424014d9497565e8cc017\" style='background-image: url(\"//i.scdn.co/image/ab67706c0000da84860424014d9497565e8cc017\");'></div><div class=\"grid-item-image-text\"><span dir=\"auto\">bawawaweewa</span></div></a>,\n",
       " <div class=\"grid-item-image lazy-image lazy-image_loaded\" data-src=\"//i.scdn.co/image/ab67706c0000da84860424014d9497565e8cc017\" style='background-image: url(\"//i.scdn.co/image/ab67706c0000da84860424014d9497565e8cc017\");'></div>,\n",
       " <div class=\"grid-item-image-text\"><span dir=\"auto\">bawawaweewa</span></div>,\n",
       " <span dir=\"auto\">bawawaweewa</span>,\n",
       " <li><a class=\"cover playlist\" href=\"/playlist/0UYrhQh0B0oWx4mQINEdIQ\"><div class=\"grid-item-image lazy-image lazy-image_loaded\" data-src=\"//i.scdn.co/image/ab67706c0000bebb63003b69daa16eda833d7ce9\" style='background-image: url(\"//i.scdn.co/image/ab67706c0000bebb63003b69daa16eda833d7ce9\");'></div><div class=\"grid-item-image-text\"><span dir=\"auto\">[sLUms+CO]</span></div></a></li>,\n",
       " <a class=\"cover playlist\" href=\"/playlist/0UYrhQh0B0oWx4mQINEdIQ\"><div class=\"grid-item-image lazy-image lazy-image_loaded\" data-src=\"//i.scdn.co/image/ab67706c0000bebb63003b69daa16eda833d7ce9\" style='background-image: url(\"//i.scdn.co/image/ab67706c0000bebb63003b69daa16eda833d7ce9\");'></div><div class=\"grid-item-image-text\"><span dir=\"auto\">[sLUms+CO]</span></div></a>,\n",
       " <div class=\"grid-item-image lazy-image lazy-image_loaded\" data-src=\"//i.scdn.co/image/ab67706c0000bebb63003b69daa16eda833d7ce9\" style='background-image: url(\"//i.scdn.co/image/ab67706c0000bebb63003b69daa16eda833d7ce9\");'></div>,\n",
       " <div class=\"grid-item-image-text\"><span dir=\"auto\">[sLUms+CO]</span></div>,\n",
       " <span dir=\"auto\">[sLUms+CO]</span>,\n",
       " <li><a class=\"cover playlist\" href=\"/playlist/5lM2ngCx1eF1QQiWXTT5h0\"><div class=\"grid-item-image lazy-image lazy-image_loaded\" data-src=\"//i.scdn.co/image/ab67706c0000da8476e2c1786a0e99b81640f881\" style='background-image: url(\"//i.scdn.co/image/ab67706c0000da8476e2c1786a0e99b81640f881\");'></div><div class=\"grid-item-image-text\"><span dir=\"auto\">lo-fi anime beats to study and chill to</span></div></a></li>,\n",
       " <a class=\"cover playlist\" href=\"/playlist/5lM2ngCx1eF1QQiWXTT5h0\"><div class=\"grid-item-image lazy-image lazy-image_loaded\" data-src=\"//i.scdn.co/image/ab67706c0000da8476e2c1786a0e99b81640f881\" style='background-image: url(\"//i.scdn.co/image/ab67706c0000da8476e2c1786a0e99b81640f881\");'></div><div class=\"grid-item-image-text\"><span dir=\"auto\">lo-fi anime beats to study and chill to</span></div></a>,\n",
       " <div class=\"grid-item-image lazy-image lazy-image_loaded\" data-src=\"//i.scdn.co/image/ab67706c0000da8476e2c1786a0e99b81640f881\" style='background-image: url(\"//i.scdn.co/image/ab67706c0000da8476e2c1786a0e99b81640f881\");'></div>,\n",
       " <div class=\"grid-item-image-text\"><span dir=\"auto\">lo-fi anime beats to study and chill to</span></div>,\n",
       " <span dir=\"auto\">lo-fi anime beats to study and chill to</span>,\n",
       " <li><a class=\"cover playlist\" href=\"/playlist/0N0yZvX6kl2VTaU289UgnM\"><div class=\"grid-item-image lazy-image lazy-image_loaded\" data-src=\"//i.scdn.co/image/ab67706c0000da84187c7f9ecb0c9f78fb5a45cb\" style='background-image: url(\"//i.scdn.co/image/ab67706c0000da84187c7f9ecb0c9f78fb5a45cb\");'></div><div class=\"grid-item-image-text\"><span dir=\"auto\">yeughh</span></div></a></li>,\n",
       " <a class=\"cover playlist\" href=\"/playlist/0N0yZvX6kl2VTaU289UgnM\"><div class=\"grid-item-image lazy-image lazy-image_loaded\" data-src=\"//i.scdn.co/image/ab67706c0000da84187c7f9ecb0c9f78fb5a45cb\" style='background-image: url(\"//i.scdn.co/image/ab67706c0000da84187c7f9ecb0c9f78fb5a45cb\");'></div><div class=\"grid-item-image-text\"><span dir=\"auto\">yeughh</span></div></a>,\n",
       " <div class=\"grid-item-image lazy-image lazy-image_loaded\" data-src=\"//i.scdn.co/image/ab67706c0000da84187c7f9ecb0c9f78fb5a45cb\" style='background-image: url(\"//i.scdn.co/image/ab67706c0000da84187c7f9ecb0c9f78fb5a45cb\");'></div>,\n",
       " <div class=\"grid-item-image-text\"><span dir=\"auto\">yeughh</span></div>,\n",
       " <span dir=\"auto\">yeughh</span>,\n",
       " <li><a class=\"cover playlist\" href=\"/playlist/0eyLdRCySHOjnnur6rpHA1\"><div class=\"grid-item-image lazy-image lazy-image_loaded\" data-src=\"//i.scdn.co/image/ab67706c0000da84358df36b9c73c1ac73cbcdd0\" style='background-image: url(\"//i.scdn.co/image/ab67706c0000da84358df36b9c73c1ac73cbcdd0\");'></div><div class=\"grid-item-image-text\"><span dir=\"auto\">septombur</span></div></a></li>,\n",
       " <a class=\"cover playlist\" href=\"/playlist/0eyLdRCySHOjnnur6rpHA1\"><div class=\"grid-item-image lazy-image lazy-image_loaded\" data-src=\"//i.scdn.co/image/ab67706c0000da84358df36b9c73c1ac73cbcdd0\" style='background-image: url(\"//i.scdn.co/image/ab67706c0000da84358df36b9c73c1ac73cbcdd0\");'></div><div class=\"grid-item-image-text\"><span dir=\"auto\">septombur</span></div></a>,\n",
       " <div class=\"grid-item-image lazy-image lazy-image_loaded\" data-src=\"//i.scdn.co/image/ab67706c0000da84358df36b9c73c1ac73cbcdd0\" style='background-image: url(\"//i.scdn.co/image/ab67706c0000da84358df36b9c73c1ac73cbcdd0\");'></div>,\n",
       " <div class=\"grid-item-image-text\"><span dir=\"auto\">septombur</span></div>,\n",
       " <span dir=\"auto\">septombur</span>,\n",
       " <li><a class=\"cover playlist\" href=\"/playlist/4uhQ4gWB5KKraePWgeuXen\"><div class=\"grid-item-image lazy-image lazy-image_loaded\" data-src=\"//i.scdn.co/image/ab67706c0000da8408ff9075187422be34f61d45\" style='background-image: url(\"//i.scdn.co/image/ab67706c0000da8408ff9075187422be34f61d45\");'></div><div class=\"grid-item-image-text\"><span dir=\"auto\">AUGUST</span></div></a></li>,\n",
       " <a class=\"cover playlist\" href=\"/playlist/4uhQ4gWB5KKraePWgeuXen\"><div class=\"grid-item-image lazy-image lazy-image_loaded\" data-src=\"//i.scdn.co/image/ab67706c0000da8408ff9075187422be34f61d45\" style='background-image: url(\"//i.scdn.co/image/ab67706c0000da8408ff9075187422be34f61d45\");'></div><div class=\"grid-item-image-text\"><span dir=\"auto\">AUGUST</span></div></a>,\n",
       " <div class=\"grid-item-image lazy-image lazy-image_loaded\" data-src=\"//i.scdn.co/image/ab67706c0000da8408ff9075187422be34f61d45\" style='background-image: url(\"//i.scdn.co/image/ab67706c0000da8408ff9075187422be34f61d45\");'></div>,\n",
       " <div class=\"grid-item-image-text\"><span dir=\"auto\">AUGUST</span></div>,\n",
       " <span dir=\"auto\">AUGUST</span>,\n",
       " <li><a class=\"cover playlist\" href=\"/playlist/4FZoXwAdXd73KUsfrXqDWa\"><div class=\"grid-item-image lazy-image lazy-image_loaded\" data-src=\"//i.scdn.co/image/ab67706c0000da8435dd94ac569622632b901dd9\" style='background-image: url(\"//i.scdn.co/image/ab67706c0000da8435dd94ac569622632b901dd9\");'></div><div class=\"grid-item-image-text\"><span dir=\"auto\">bangers!!</span></div></a></li>,\n",
       " <a class=\"cover playlist\" href=\"/playlist/4FZoXwAdXd73KUsfrXqDWa\"><div class=\"grid-item-image lazy-image lazy-image_loaded\" data-src=\"//i.scdn.co/image/ab67706c0000da8435dd94ac569622632b901dd9\" style='background-image: url(\"//i.scdn.co/image/ab67706c0000da8435dd94ac569622632b901dd9\");'></div><div class=\"grid-item-image-text\"><span dir=\"auto\">bangers!!</span></div></a>,\n",
       " <div class=\"grid-item-image lazy-image lazy-image_loaded\" data-src=\"//i.scdn.co/image/ab67706c0000da8435dd94ac569622632b901dd9\" style='background-image: url(\"//i.scdn.co/image/ab67706c0000da8435dd94ac569622632b901dd9\");'></div>,\n",
       " <div class=\"grid-item-image-text\"><span dir=\"auto\">bangers!!</span></div>,\n",
       " <span dir=\"auto\">bangers!!</span>,\n",
       " <li><a class=\"cover playlist\" href=\"/playlist/1VogboyjYSmA3Xf2F20YOA\"><div class=\"grid-item-image lazy-image lazy-image_loaded\" data-src=\"//i.scdn.co/image/ab67706c0000da84d33777a4e83c79428b127b0e\" style='background-image: url(\"//i.scdn.co/image/ab67706c0000da84d33777a4e83c79428b127b0e\");'></div><div class=\"grid-item-image-text\"><span dir=\"auto\">may</span></div></a></li>,\n",
       " <a class=\"cover playlist\" href=\"/playlist/1VogboyjYSmA3Xf2F20YOA\"><div class=\"grid-item-image lazy-image lazy-image_loaded\" data-src=\"//i.scdn.co/image/ab67706c0000da84d33777a4e83c79428b127b0e\" style='background-image: url(\"//i.scdn.co/image/ab67706c0000da84d33777a4e83c79428b127b0e\");'></div><div class=\"grid-item-image-text\"><span dir=\"auto\">may</span></div></a>,\n",
       " <div class=\"grid-item-image lazy-image lazy-image_loaded\" data-src=\"//i.scdn.co/image/ab67706c0000da84d33777a4e83c79428b127b0e\" style='background-image: url(\"//i.scdn.co/image/ab67706c0000da84d33777a4e83c79428b127b0e\");'></div>,\n",
       " <div class=\"grid-item-image-text\"><span dir=\"auto\">may</span></div>,\n",
       " <span dir=\"auto\">may</span>,\n",
       " <li><a class=\"cover playlist\" href=\"/playlist/1Eir2w06qRxn3yBToOT91j\"><div class=\"grid-item-image lazy-image lazy-image_loaded\" data-src=\"//i.scdn.co/image/ab67706c0000da843d57081a5603441fe25ba782\" style='background-image: url(\"//i.scdn.co/image/ab67706c0000da843d57081a5603441fe25ba782\");'></div><div class=\"grid-item-image-text\"><span dir=\"auto\">doot</span></div></a></li>,\n",
       " <a class=\"cover playlist\" href=\"/playlist/1Eir2w06qRxn3yBToOT91j\"><div class=\"grid-item-image lazy-image lazy-image_loaded\" data-src=\"//i.scdn.co/image/ab67706c0000da843d57081a5603441fe25ba782\" style='background-image: url(\"//i.scdn.co/image/ab67706c0000da843d57081a5603441fe25ba782\");'></div><div class=\"grid-item-image-text\"><span dir=\"auto\">doot</span></div></a>,\n",
       " <div class=\"grid-item-image lazy-image lazy-image_loaded\" data-src=\"//i.scdn.co/image/ab67706c0000da843d57081a5603441fe25ba782\" style='background-image: url(\"//i.scdn.co/image/ab67706c0000da843d57081a5603441fe25ba782\");'></div>,\n",
       " <div class=\"grid-item-image-text\"><span dir=\"auto\">doot</span></div>,\n",
       " <span dir=\"auto\">doot</span>,\n",
       " <li><a class=\"cover playlist\" href=\"/playlist/0tSshgFzOPK4am84cP7NxW\"><div class=\"grid-item-image lazy-image lazy-image_loaded\" data-src=\"//i.scdn.co/image/ab67706c0000da844d1e8d0b8f13813f402784b0\" style='background-image: url(\"//i.scdn.co/image/ab67706c0000da844d1e8d0b8f13813f402784b0\");'></div><div class=\"grid-item-image-text\"><span dir=\"auto\">ahhhh fuck this frigerator</span></div></a></li>,\n",
       " <a class=\"cover playlist\" href=\"/playlist/0tSshgFzOPK4am84cP7NxW\"><div class=\"grid-item-image lazy-image lazy-image_loaded\" data-src=\"//i.scdn.co/image/ab67706c0000da844d1e8d0b8f13813f402784b0\" style='background-image: url(\"//i.scdn.co/image/ab67706c0000da844d1e8d0b8f13813f402784b0\");'></div><div class=\"grid-item-image-text\"><span dir=\"auto\">ahhhh fuck this frigerator</span></div></a>,\n",
       " <div class=\"grid-item-image lazy-image lazy-image_loaded\" data-src=\"//i.scdn.co/image/ab67706c0000da844d1e8d0b8f13813f402784b0\" style='background-image: url(\"//i.scdn.co/image/ab67706c0000da844d1e8d0b8f13813f402784b0\");'></div>,\n",
       " <div class=\"grid-item-image-text\"><span dir=\"auto\">ahhhh fuck this frigerator</span></div>,\n",
       " <span dir=\"auto\">ahhhh fuck this frigerator</span>,\n",
       " <li><a class=\"cover playlist\" href=\"/playlist/3iWEerbgDWrzqnRFJl9Ppf\"><div class=\"grid-item-image lazy-image lazy-image_loaded\" data-src=\"//i.scdn.co/image/ab67706c0000da84e6f4ecc61071c1daf416f105\" style='background-image: url(\"//i.scdn.co/image/ab67706c0000da84e6f4ecc61071c1daf416f105\");'></div><div class=\"grid-item-image-text\"><span dir=\"auto\">, , ,</span></div></a></li>,\n",
       " <a class=\"cover playlist\" href=\"/playlist/3iWEerbgDWrzqnRFJl9Ppf\"><div class=\"grid-item-image lazy-image lazy-image_loaded\" data-src=\"//i.scdn.co/image/ab67706c0000da84e6f4ecc61071c1daf416f105\" style='background-image: url(\"//i.scdn.co/image/ab67706c0000da84e6f4ecc61071c1daf416f105\");'></div><div class=\"grid-item-image-text\"><span dir=\"auto\">, , ,</span></div></a>,\n",
       " <div class=\"grid-item-image lazy-image lazy-image_loaded\" data-src=\"//i.scdn.co/image/ab67706c0000da84e6f4ecc61071c1daf416f105\" style='background-image: url(\"//i.scdn.co/image/ab67706c0000da84e6f4ecc61071c1daf416f105\");'></div>,\n",
       " <div class=\"grid-item-image-text\"><span dir=\"auto\">, , ,</span></div>,\n",
       " <span dir=\"auto\">, , ,</span>,\n",
       " <li><a class=\"cover playlist\" href=\"/playlist/0ZKVHuUE755Hq1eXOGtTlu\"><div class=\"grid-item-image lazy-image lazy-image_loaded\" data-src=\"//i.scdn.co/image/ab67706c0000da848e772970689b2fb0b3fdf632\" style='background-image: url(\"//i.scdn.co/image/ab67706c0000da848e772970689b2fb0b3fdf632\");'></div><div class=\"grid-item-image-text\"><span dir=\"auto\">MARch</span></div></a></li>,\n",
       " <a class=\"cover playlist\" href=\"/playlist/0ZKVHuUE755Hq1eXOGtTlu\"><div class=\"grid-item-image lazy-image lazy-image_loaded\" data-src=\"//i.scdn.co/image/ab67706c0000da848e772970689b2fb0b3fdf632\" style='background-image: url(\"//i.scdn.co/image/ab67706c0000da848e772970689b2fb0b3fdf632\");'></div><div class=\"grid-item-image-text\"><span dir=\"auto\">MARch</span></div></a>,\n",
       " <div class=\"grid-item-image lazy-image lazy-image_loaded\" data-src=\"//i.scdn.co/image/ab67706c0000da848e772970689b2fb0b3fdf632\" style='background-image: url(\"//i.scdn.co/image/ab67706c0000da848e772970689b2fb0b3fdf632\");'></div>,\n",
       " <div class=\"grid-item-image-text\"><span dir=\"auto\">MARch</span></div>,\n",
       " <span dir=\"auto\">MARch</span>,\n",
       " <li><a class=\"cover playlist\" href=\"/playlist/1M3MJAfm5fMshfKBIaZj5n\"><div class=\"grid-item-image lazy-image lazy-image_loaded\" data-src=\"//i.scdn.co/image/ab67706c0000da84c002e4acc8883ef985063be6\" style='background-image: url(\"//i.scdn.co/image/ab67706c0000da84c002e4acc8883ef985063be6\");'></div><div class=\"grid-item-image-text\"><span dir=\"auto\">shaqavelli</span></div></a></li>,\n",
       " <a class=\"cover playlist\" href=\"/playlist/1M3MJAfm5fMshfKBIaZj5n\"><div class=\"grid-item-image lazy-image lazy-image_loaded\" data-src=\"//i.scdn.co/image/ab67706c0000da84c002e4acc8883ef985063be6\" style='background-image: url(\"//i.scdn.co/image/ab67706c0000da84c002e4acc8883ef985063be6\");'></div><div class=\"grid-item-image-text\"><span dir=\"auto\">shaqavelli</span></div></a>,\n",
       " <div class=\"grid-item-image lazy-image lazy-image_loaded\" data-src=\"//i.scdn.co/image/ab67706c0000da84c002e4acc8883ef985063be6\" style='background-image: url(\"//i.scdn.co/image/ab67706c0000da84c002e4acc8883ef985063be6\");'></div>,\n",
       " <div class=\"grid-item-image-text\"><span dir=\"auto\">shaqavelli</span></div>,\n",
       " <span dir=\"auto\">shaqavelli</span>,\n",
       " <li><a class=\"cover playlist\" href=\"/playlist/0gd1DST9Tp90FHNuWEmWEV\"><div class=\"grid-item-image lazy-image lazy-image_loaded\" data-src=\"//i.scdn.co/image/ab67706c0000da84ba3e7e65752dc091175f0a03\" style='background-image: url(\"//i.scdn.co/image/ab67706c0000da84ba3e7e65752dc091175f0a03\");'></div><div class=\"grid-item-image-text\"><span dir=\"auto\">1010101010101010</span></div></a></li>,\n",
       " <a class=\"cover playlist\" href=\"/playlist/0gd1DST9Tp90FHNuWEmWEV\"><div class=\"grid-item-image lazy-image lazy-image_loaded\" data-src=\"//i.scdn.co/image/ab67706c0000da84ba3e7e65752dc091175f0a03\" style='background-image: url(\"//i.scdn.co/image/ab67706c0000da84ba3e7e65752dc091175f0a03\");'></div><div class=\"grid-item-image-text\"><span dir=\"auto\">1010101010101010</span></div></a>,\n",
       " <div class=\"grid-item-image lazy-image lazy-image_loaded\" data-src=\"//i.scdn.co/image/ab67706c0000da84ba3e7e65752dc091175f0a03\" style='background-image: url(\"//i.scdn.co/image/ab67706c0000da84ba3e7e65752dc091175f0a03\");'></div>,\n",
       " <div class=\"grid-item-image-text\"><span dir=\"auto\">1010101010101010</span></div>,\n",
       " <span dir=\"auto\">1010101010101010</span>,\n",
       " <li><a class=\"cover playlist\" href=\"/playlist/41opuZgKBPirjz4yQPFbm6\"><div class=\"grid-item-image lazy-image lazy-image_loaded\" data-src=\"//i.scdn.co/image/ab67706c0000da8497602c35372caff3ccd5fd49\" style='background-image: url(\"//i.scdn.co/image/ab67706c0000da8497602c35372caff3ccd5fd49\");'></div><div class=\"grid-item-image-text\"><span dir=\"auto\">1620</span></div></a></li>,\n",
       " <a class=\"cover playlist\" href=\"/playlist/41opuZgKBPirjz4yQPFbm6\"><div class=\"grid-item-image lazy-image lazy-image_loaded\" data-src=\"//i.scdn.co/image/ab67706c0000da8497602c35372caff3ccd5fd49\" style='background-image: url(\"//i.scdn.co/image/ab67706c0000da8497602c35372caff3ccd5fd49\");'></div><div class=\"grid-item-image-text\"><span dir=\"auto\">1620</span></div></a>,\n",
       " <div class=\"grid-item-image lazy-image lazy-image_loaded\" data-src=\"//i.scdn.co/image/ab67706c0000da8497602c35372caff3ccd5fd49\" style='background-image: url(\"//i.scdn.co/image/ab67706c0000da8497602c35372caff3ccd5fd49\");'></div>,\n",
       " <div class=\"grid-item-image-text\"><span dir=\"auto\">1620</span></div>,\n",
       " <span dir=\"auto\">1620</span>,\n",
       " <li><a class=\"cover playlist\" href=\"/playlist/42iEAkjLPHXRIGiZPOw9QN\"><div class=\"grid-item-image lazy-image lazy-image_loaded\" data-src=\"//i.scdn.co/image/ab67706c0000da84068467cfb6cf52bc8eaa77bf\" style='background-image: url(\"//i.scdn.co/image/ab67706c0000da84068467cfb6cf52bc8eaa77bf\");'></div><div class=\"grid-item-image-text\"><span dir=\"auto\">fka!</span></div></a></li>,\n",
       " <a class=\"cover playlist\" href=\"/playlist/42iEAkjLPHXRIGiZPOw9QN\"><div class=\"grid-item-image lazy-image lazy-image_loaded\" data-src=\"//i.scdn.co/image/ab67706c0000da84068467cfb6cf52bc8eaa77bf\" style='background-image: url(\"//i.scdn.co/image/ab67706c0000da84068467cfb6cf52bc8eaa77bf\");'></div><div class=\"grid-item-image-text\"><span dir=\"auto\">fka!</span></div></a>,\n",
       " <div class=\"grid-item-image lazy-image lazy-image_loaded\" data-src=\"//i.scdn.co/image/ab67706c0000da84068467cfb6cf52bc8eaa77bf\" style='background-image: url(\"//i.scdn.co/image/ab67706c0000da84068467cfb6cf52bc8eaa77bf\");'></div>,\n",
       " <div class=\"grid-item-image-text\"><span dir=\"auto\">fka!</span></div>,\n",
       " <span dir=\"auto\">fka!</span>,\n",
       " <li><a class=\"cover playlist\" href=\"/playlist/5TdecqhIsNy42q5Y70s0Ij\"><div class=\"grid-item-image lazy-image lazy-image_loaded\" data-src=\"//i.scdn.co/image/ab67706c0000da843102ea32ae664c58c0737cea\" style='background-image: url(\"//i.scdn.co/image/ab67706c0000da843102ea32ae664c58c0737cea\");'></div><div class=\"grid-item-image-text\"><span dir=\"auto\">29*@!$</span></div></a></li>,\n",
       " <a class=\"cover playlist\" href=\"/playlist/5TdecqhIsNy42q5Y70s0Ij\"><div class=\"grid-item-image lazy-image lazy-image_loaded\" data-src=\"//i.scdn.co/image/ab67706c0000da843102ea32ae664c58c0737cea\" style='background-image: url(\"//i.scdn.co/image/ab67706c0000da843102ea32ae664c58c0737cea\");'></div><div class=\"grid-item-image-text\"><span dir=\"auto\">29*@!$</span></div></a>,\n",
       " <div class=\"grid-item-image lazy-image lazy-image_loaded\" data-src=\"//i.scdn.co/image/ab67706c0000da843102ea32ae664c58c0737cea\" style='background-image: url(\"//i.scdn.co/image/ab67706c0000da843102ea32ae664c58c0737cea\");'></div>,\n",
       " <div class=\"grid-item-image-text\"><span dir=\"auto\">29*@!$</span></div>,\n",
       " <span dir=\"auto\">29*@!$</span>,\n",
       " <li><a class=\"cover playlist\" href=\"/playlist/13acy6PNOzru2GaJoTYnVR\"><div class=\"grid-item-image lazy-image lazy-image_loaded\" data-src=\"//i.scdn.co/image/ab67706c0000da842baf3b4ca1d5d9d1d775b684\" style='background-image: url(\"//i.scdn.co/image/ab67706c0000da842baf3b4ca1d5d9d1d775b684\");'></div><div class=\"grid-item-image-text\"><span dir=\"auto\">{131219}</span></div></a></li>,\n",
       " <a class=\"cover playlist\" href=\"/playlist/13acy6PNOzru2GaJoTYnVR\"><div class=\"grid-item-image lazy-image lazy-image_loaded\" data-src=\"//i.scdn.co/image/ab67706c0000da842baf3b4ca1d5d9d1d775b684\" style='background-image: url(\"//i.scdn.co/image/ab67706c0000da842baf3b4ca1d5d9d1d775b684\");'></div><div class=\"grid-item-image-text\"><span dir=\"auto\">{131219}</span></div></a>,\n",
       " <div class=\"grid-item-image lazy-image lazy-image_loaded\" data-src=\"//i.scdn.co/image/ab67706c0000da842baf3b4ca1d5d9d1d775b684\" style='background-image: url(\"//i.scdn.co/image/ab67706c0000da842baf3b4ca1d5d9d1d775b684\");'></div>,\n",
       " <div class=\"grid-item-image-text\"><span dir=\"auto\">{131219}</span></div>,\n",
       " <span dir=\"auto\">{131219}</span>,\n",
       " <li><a class=\"cover playlist\" href=\"/playlist/0CUAeUT89zp3Xo0p6bKaPP\"><div class=\"grid-item-image lazy-image lazy-image_loaded\" data-src=\"//i.scdn.co/image/ab67706c0000da8423e4c476893acfd45df82845\" style='background-image: url(\"//i.scdn.co/image/ab67706c0000da8423e4c476893acfd45df82845\");'></div><div class=\"grid-item-image-text\"><span dir=\"auto\">81119</span></div></a></li>,\n",
       " <a class=\"cover playlist\" href=\"/playlist/0CUAeUT89zp3Xo0p6bKaPP\"><div class=\"grid-item-image lazy-image lazy-image_loaded\" data-src=\"//i.scdn.co/image/ab67706c0000da8423e4c476893acfd45df82845\" style='background-image: url(\"//i.scdn.co/image/ab67706c0000da8423e4c476893acfd45df82845\");'></div><div class=\"grid-item-image-text\"><span dir=\"auto\">81119</span></div></a>,\n",
       " <div class=\"grid-item-image lazy-image lazy-image_loaded\" data-src=\"//i.scdn.co/image/ab67706c0000da8423e4c476893acfd45df82845\" style='background-image: url(\"//i.scdn.co/image/ab67706c0000da8423e4c476893acfd45df82845\");'></div>,\n",
       " <div class=\"grid-item-image-text\"><span dir=\"auto\">81119</span></div>,\n",
       " <span dir=\"auto\">81119</span>,\n",
       " <li><a class=\"cover playlist\" href=\"/playlist/2BxIym2EtZbRWetm9cHlyg\"><div class=\"grid-item-image lazy-image lazy-image_loaded\" data-src=\"//i.scdn.co/image/ab67706c0000da8407c54c196d45a11257ea24eb\" style='background-image: url(\"//i.scdn.co/image/ab67706c0000da8407c54c196d45a11257ea24eb\");'></div><div class=\"grid-item-image-text\"><span dir=\"auto\">17(10)19</span></div></a></li>,\n",
       " <a class=\"cover playlist\" href=\"/playlist/2BxIym2EtZbRWetm9cHlyg\"><div class=\"grid-item-image lazy-image lazy-image_loaded\" data-src=\"//i.scdn.co/image/ab67706c0000da8407c54c196d45a11257ea24eb\" style='background-image: url(\"//i.scdn.co/image/ab67706c0000da8407c54c196d45a11257ea24eb\");'></div><div class=\"grid-item-image-text\"><span dir=\"auto\">17(10)19</span></div></a>,\n",
       " <div class=\"grid-item-image lazy-image lazy-image_loaded\" data-src=\"//i.scdn.co/image/ab67706c0000da8407c54c196d45a11257ea24eb\" style='background-image: url(\"//i.scdn.co/image/ab67706c0000da8407c54c196d45a11257ea24eb\");'></div>,\n",
       " <div class=\"grid-item-image-text\"><span dir=\"auto\">17(10)19</span></div>,\n",
       " <span dir=\"auto\">17(10)19</span>,\n",
       " <li><a class=\"cover playlist\" href=\"/playlist/6Ps2EAwKEkX4nCEyIPzjTD\"><div class=\"grid-item-image lazy-image lazy-image_loaded\" data-src=\"//i.scdn.co/image/ab67706c0000da84978a971f18fdb154a23abe29\" style='background-image: url(\"//i.scdn.co/image/ab67706c0000da84978a971f18fdb154a23abe29\");'></div><div class=\"grid-item-image-text\"><span dir=\"auto\">92.9.91</span></div></a></li>,\n",
       " <a class=\"cover playlist\" href=\"/playlist/6Ps2EAwKEkX4nCEyIPzjTD\"><div class=\"grid-item-image lazy-image lazy-image_loaded\" data-src=\"//i.scdn.co/image/ab67706c0000da84978a971f18fdb154a23abe29\" style='background-image: url(\"//i.scdn.co/image/ab67706c0000da84978a971f18fdb154a23abe29\");'></div><div class=\"grid-item-image-text\"><span dir=\"auto\">92.9.91</span></div></a>,\n",
       " <div class=\"grid-item-image lazy-image lazy-image_loaded\" data-src=\"//i.scdn.co/image/ab67706c0000da84978a971f18fdb154a23abe29\" style='background-image: url(\"//i.scdn.co/image/ab67706c0000da84978a971f18fdb154a23abe29\");'></div>,\n",
       " <div class=\"grid-item-image-text\"><span dir=\"auto\">92.9.91</span></div>,\n",
       " <span dir=\"auto\">92.9.91</span>,\n",
       " <li><a class=\"cover playlist\" href=\"/playlist/2qJdHM2i2fnC1YIpXu5wuv\"><div class=\"grid-item-image lazy-image lazy-image_loaded\" data-src=\"//i.scdn.co/image/ab67706c0000da84eaa3e7133ee0918505b980c9\" style='background-image: url(\"//i.scdn.co/image/ab67706c0000da84eaa3e7133ee0918505b980c9\");'></div><div class=\"grid-item-image-text\"><span dir=\"auto\">16****!#$@!</span></div></a></li>,\n",
       " <a class=\"cover playlist\" href=\"/playlist/2qJdHM2i2fnC1YIpXu5wuv\"><div class=\"grid-item-image lazy-image lazy-image_loaded\" data-src=\"//i.scdn.co/image/ab67706c0000da84eaa3e7133ee0918505b980c9\" style='background-image: url(\"//i.scdn.co/image/ab67706c0000da84eaa3e7133ee0918505b980c9\");'></div><div class=\"grid-item-image-text\"><span dir=\"auto\">16****!#$@!</span></div></a>,\n",
       " <div class=\"grid-item-image lazy-image lazy-image_loaded\" data-src=\"//i.scdn.co/image/ab67706c0000da84eaa3e7133ee0918505b980c9\" style='background-image: url(\"//i.scdn.co/image/ab67706c0000da84eaa3e7133ee0918505b980c9\");'></div>,\n",
       " <div class=\"grid-item-image-text\"><span dir=\"auto\">16****!#$@!</span></div>,\n",
       " <span dir=\"auto\">16****!#$@!</span>,\n",
       " <li><a class=\"cover playlist\" href=\"/playlist/2gGh9mvamzX15rY3qEmlxQ\"><div class=\"grid-item-image lazy-image lazy-image_loaded\" data-src=\"//i.scdn.co/image/ab67706c0000da8427b460f150d685e328f59644\" style='background-image: url(\"//i.scdn.co/image/ab67706c0000da8427b460f150d685e328f59644\");'></div><div class=\"grid-item-image-text\"><span dir=\"auto\">29/6/19</span></div></a></li>,\n",
       " <a class=\"cover playlist\" href=\"/playlist/2gGh9mvamzX15rY3qEmlxQ\"><div class=\"grid-item-image lazy-image lazy-image_loaded\" data-src=\"//i.scdn.co/image/ab67706c0000da8427b460f150d685e328f59644\" style='background-image: url(\"//i.scdn.co/image/ab67706c0000da8427b460f150d685e328f59644\");'></div><div class=\"grid-item-image-text\"><span dir=\"auto\">29/6/19</span></div></a>,\n",
       " <div class=\"grid-item-image lazy-image lazy-image_loaded\" data-src=\"//i.scdn.co/image/ab67706c0000da8427b460f150d685e328f59644\" style='background-image: url(\"//i.scdn.co/image/ab67706c0000da8427b460f150d685e328f59644\");'></div>,\n",
       " <div class=\"grid-item-image-text\"><span dir=\"auto\">29/6/19</span></div>,\n",
       " <span dir=\"auto\">29/6/19</span>,\n",
       " <li><a class=\"cover playlist\" href=\"/playlist/51XaFN9kkwvgFbI6Qp1OSH\"><div class=\"grid-item-image lazy-image lazy-image_loaded\" data-src=\"//i.scdn.co/image/ab67706c0000da840a68f6eaea3a222830324011\" style='background-image: url(\"//i.scdn.co/image/ab67706c0000da840a68f6eaea3a222830324011\");'></div><div class=\"grid-item-image-text\"><span dir=\"auto\">nnnnnnnnnnnnnnnnnnnnnnnnnnnnnnnnnnn</span></div></a></li>,\n",
       " <a class=\"cover playlist\" href=\"/playlist/51XaFN9kkwvgFbI6Qp1OSH\"><div class=\"grid-item-image lazy-image lazy-image_loaded\" data-src=\"//i.scdn.co/image/ab67706c0000da840a68f6eaea3a222830324011\" style='background-image: url(\"//i.scdn.co/image/ab67706c0000da840a68f6eaea3a222830324011\");'></div><div class=\"grid-item-image-text\"><span dir=\"auto\">nnnnnnnnnnnnnnnnnnnnnnnnnnnnnnnnnnn</span></div></a>,\n",
       " <div class=\"grid-item-image lazy-image lazy-image_loaded\" data-src=\"//i.scdn.co/image/ab67706c0000da840a68f6eaea3a222830324011\" style='background-image: url(\"//i.scdn.co/image/ab67706c0000da840a68f6eaea3a222830324011\");'></div>,\n",
       " <div class=\"grid-item-image-text\"><span dir=\"auto\">nnnnnnnnnnnnnnnnnnnnnnnnnnnnnnnnnnn</span></div>,\n",
       " <span dir=\"auto\">nnnnnnnnnnnnnnnnnnnnnnnnnnnnnnnnnnn</span>,\n",
       " <li><a class=\"cover playlist\" href=\"/playlist/69AwrFf1p9JGQD4gIVgx1B\"><div class=\"grid-item-image lazy-image lazy-image_loaded\" data-src=\"//i.scdn.co/image/ab67706c0000da84a511499989e8670e1d14d6db\" style='background-image: url(\"//i.scdn.co/image/ab67706c0000da84a511499989e8670e1d14d6db\");'></div><div class=\"grid-item-image-text\"><span dir=\"auto\">** 7%!5%^19</span></div></a></li>,\n",
       " <a class=\"cover playlist\" href=\"/playlist/69AwrFf1p9JGQD4gIVgx1B\"><div class=\"grid-item-image lazy-image lazy-image_loaded\" data-src=\"//i.scdn.co/image/ab67706c0000da84a511499989e8670e1d14d6db\" style='background-image: url(\"//i.scdn.co/image/ab67706c0000da84a511499989e8670e1d14d6db\");'></div><div class=\"grid-item-image-text\"><span dir=\"auto\">** 7%!5%^19</span></div></a>,\n",
       " <div class=\"grid-item-image lazy-image lazy-image_loaded\" data-src=\"//i.scdn.co/image/ab67706c0000da84a511499989e8670e1d14d6db\" style='background-image: url(\"//i.scdn.co/image/ab67706c0000da84a511499989e8670e1d14d6db\");'></div>,\n",
       " <div class=\"grid-item-image-text\"><span dir=\"auto\">** 7%!5%^19</span></div>,\n",
       " <span dir=\"auto\">** 7%!5%^19</span>,\n",
       " <li><a class=\"cover playlist\" href=\"/playlist/5xKU5xWbQGNYeih78fhbZ0\"><div class=\"grid-item-image lazy-image lazy-image_loaded\" data-src=\"//i.scdn.co/image/ab67706c0000da84d150038f2c890294b71c398b\" style='background-image: url(\"//i.scdn.co/image/ab67706c0000da84d150038f2c890294b71c398b\");'></div><div class=\"grid-item-image-text\"><span dir=\"auto\">13/4/19</span></div></a></li>,\n",
       " <a class=\"cover playlist\" href=\"/playlist/5xKU5xWbQGNYeih78fhbZ0\"><div class=\"grid-item-image lazy-image lazy-image_loaded\" data-src=\"//i.scdn.co/image/ab67706c0000da84d150038f2c890294b71c398b\" style='background-image: url(\"//i.scdn.co/image/ab67706c0000da84d150038f2c890294b71c398b\");'></div><div class=\"grid-item-image-text\"><span dir=\"auto\">13/4/19</span></div></a>,\n",
       " <div class=\"grid-item-image lazy-image lazy-image_loaded\" data-src=\"//i.scdn.co/image/ab67706c0000da84d150038f2c890294b71c398b\" style='background-image: url(\"//i.scdn.co/image/ab67706c0000da84d150038f2c890294b71c398b\");'></div>,\n",
       " <div class=\"grid-item-image-text\"><span dir=\"auto\">13/4/19</span></div>,\n",
       " <span dir=\"auto\">13/4/19</span>,\n",
       " <li><a class=\"cover playlist\" href=\"/playlist/2fFeZUfVodUKIUrpRTHqmr\"><div class=\"grid-item-image lazy-image lazy-image_loaded\" data-src=\"//i.scdn.co/image/ab67706c0000da8469f1a950fb34d9ee318e32e2\" style='background-image: url(\"//i.scdn.co/image/ab67706c0000da8469f1a950fb34d9ee318e32e2\");'></div><div class=\"grid-item-image-text\"><span dir=\"auto\">3.3.19</span></div></a></li>,\n",
       " <a class=\"cover playlist\" href=\"/playlist/2fFeZUfVodUKIUrpRTHqmr\"><div class=\"grid-item-image lazy-image lazy-image_loaded\" data-src=\"//i.scdn.co/image/ab67706c0000da8469f1a950fb34d9ee318e32e2\" style='background-image: url(\"//i.scdn.co/image/ab67706c0000da8469f1a950fb34d9ee318e32e2\");'></div><div class=\"grid-item-image-text\"><span dir=\"auto\">3.3.19</span></div></a>,\n",
       " <div class=\"grid-item-image lazy-image lazy-image_loaded\" data-src=\"//i.scdn.co/image/ab67706c0000da8469f1a950fb34d9ee318e32e2\" style='background-image: url(\"//i.scdn.co/image/ab67706c0000da8469f1a950fb34d9ee318e32e2\");'></div>,\n",
       " <div class=\"grid-item-image-text\"><span dir=\"auto\">3.3.19</span></div>,\n",
       " <span dir=\"auto\">3.3.19</span>,\n",
       " <li><a class=\"cover playlist\" href=\"/playlist/02y2Wxeks3aHAR4edbgPtV\"><div class=\"grid-item-image lazy-image lazy-image_loaded\" data-src=\"//i.scdn.co/image/ab67706c0000da849831c7eecc9db824b9843552\" style='background-image: url(\"//i.scdn.co/image/ab67706c0000da849831c7eecc9db824b9843552\");'></div><div class=\"grid-item-image-text\"><span dir=\"auto\">9/2/19</span></div></a></li>,\n",
       " <a class=\"cover playlist\" href=\"/playlist/02y2Wxeks3aHAR4edbgPtV\"><div class=\"grid-item-image lazy-image lazy-image_loaded\" data-src=\"//i.scdn.co/image/ab67706c0000da849831c7eecc9db824b9843552\" style='background-image: url(\"//i.scdn.co/image/ab67706c0000da849831c7eecc9db824b9843552\");'></div><div class=\"grid-item-image-text\"><span dir=\"auto\">9/2/19</span></div></a>,\n",
       " <div class=\"grid-item-image lazy-image lazy-image_loaded\" data-src=\"//i.scdn.co/image/ab67706c0000da849831c7eecc9db824b9843552\" style='background-image: url(\"//i.scdn.co/image/ab67706c0000da849831c7eecc9db824b9843552\");'></div>,\n",
       " <div class=\"grid-item-image-text\"><span dir=\"auto\">9/2/19</span></div>,\n",
       " <span dir=\"auto\">9/2/19</span>,\n",
       " <li><a class=\"cover playlist\" href=\"/playlist/6Nj7BkPptD5bEQfvTwnwEd\"><div class=\"grid-item-image lazy-image lazy-image_loaded\" data-src=\"//i.scdn.co/image/ab67706c0000da841a4bb0684a9638d9716eaba3\" style='background-image: url(\"//i.scdn.co/image/ab67706c0000da841a4bb0684a9638d9716eaba3\");'></div><div class=\"grid-item-image-text\"><span dir=\"auto\">6/12/18</span></div></a></li>,\n",
       " <a class=\"cover playlist\" href=\"/playlist/6Nj7BkPptD5bEQfvTwnwEd\"><div class=\"grid-item-image lazy-image lazy-image_loaded\" data-src=\"//i.scdn.co/image/ab67706c0000da841a4bb0684a9638d9716eaba3\" style='background-image: url(\"//i.scdn.co/image/ab67706c0000da841a4bb0684a9638d9716eaba3\");'></div><div class=\"grid-item-image-text\"><span dir=\"auto\">6/12/18</span></div></a>,\n",
       " <div class=\"grid-item-image lazy-image lazy-image_loaded\" data-src=\"//i.scdn.co/image/ab67706c0000da841a4bb0684a9638d9716eaba3\" style='background-image: url(\"//i.scdn.co/image/ab67706c0000da841a4bb0684a9638d9716eaba3\");'></div>,\n",
       " <div class=\"grid-item-image-text\"><span dir=\"auto\">6/12/18</span></div>,\n",
       " <span dir=\"auto\">6/12/18</span>,\n",
       " <li><a class=\"cover playlist\" href=\"/playlist/5FHwpvueOOXAhgpBi7EQjU\"><div class=\"grid-item-image lazy-image lazy-image_loaded\" data-src=\"//i.scdn.co/image/ab67706c0000da84bccfda6cd060e13bd91568c5\" style='background-image: url(\"//i.scdn.co/image/ab67706c0000da84bccfda6cd060e13bd91568c5\");'></div><div class=\"grid-item-image-text\"><span dir=\"auto\">2/11/18</span></div></a></li>,\n",
       " <a class=\"cover playlist\" href=\"/playlist/5FHwpvueOOXAhgpBi7EQjU\"><div class=\"grid-item-image lazy-image lazy-image_loaded\" data-src=\"//i.scdn.co/image/ab67706c0000da84bccfda6cd060e13bd91568c5\" style='background-image: url(\"//i.scdn.co/image/ab67706c0000da84bccfda6cd060e13bd91568c5\");'></div><div class=\"grid-item-image-text\"><span dir=\"auto\">2/11/18</span></div></a>,\n",
       " <div class=\"grid-item-image lazy-image lazy-image_loaded\" data-src=\"//i.scdn.co/image/ab67706c0000da84bccfda6cd060e13bd91568c5\" style='background-image: url(\"//i.scdn.co/image/ab67706c0000da84bccfda6cd060e13bd91568c5\");'></div>,\n",
       " <div class=\"grid-item-image-text\"><span dir=\"auto\">2/11/18</span></div>,\n",
       " <span dir=\"auto\">2/11/18</span>,\n",
       " <li><a class=\"cover playlist\" href=\"/playlist/3tVMhwwo3ZlEBpd0GKDZgW\"><div class=\"grid-item-image lazy-image lazy-image_loaded\" data-src=\"//i.scdn.co/image/ab67706c0000da84f43f21946fa6134aec23aee7\" style='background-image: url(\"//i.scdn.co/image/ab67706c0000da84f43f21946fa6134aec23aee7\");'></div><div class=\"grid-item-image-text\"><span dir=\"auto\">18/10/18</span></div></a></li>,\n",
       " <a class=\"cover playlist\" href=\"/playlist/3tVMhwwo3ZlEBpd0GKDZgW\"><div class=\"grid-item-image lazy-image lazy-image_loaded\" data-src=\"//i.scdn.co/image/ab67706c0000da84f43f21946fa6134aec23aee7\" style='background-image: url(\"//i.scdn.co/image/ab67706c0000da84f43f21946fa6134aec23aee7\");'></div><div class=\"grid-item-image-text\"><span dir=\"auto\">18/10/18</span></div></a>,\n",
       " <div class=\"grid-item-image lazy-image lazy-image_loaded\" data-src=\"//i.scdn.co/image/ab67706c0000da84f43f21946fa6134aec23aee7\" style='background-image: url(\"//i.scdn.co/image/ab67706c0000da84f43f21946fa6134aec23aee7\");'></div>,\n",
       " <div class=\"grid-item-image-text\"><span dir=\"auto\">18/10/18</span></div>,\n",
       " <span dir=\"auto\">18/10/18</span>,\n",
       " <li><a class=\"cover playlist\" href=\"/playlist/1hRLZcFuEzkG7QcTq6lV8l\"><div class=\"grid-item-image lazy-image lazy-image_loaded\" data-src=\"//i.scdn.co/image/ab67706c0000da84a3f19fc279f4a609d0597ac9\" style='background-image: url(\"//i.scdn.co/image/ab67706c0000da84a3f19fc279f4a609d0597ac9\");'></div><div class=\"grid-item-image-text\"><span dir=\"auto\">29/9/18</span></div></a></li>,\n",
       " <a class=\"cover playlist\" href=\"/playlist/1hRLZcFuEzkG7QcTq6lV8l\"><div class=\"grid-item-image lazy-image lazy-image_loaded\" data-src=\"//i.scdn.co/image/ab67706c0000da84a3f19fc279f4a609d0597ac9\" style='background-image: url(\"//i.scdn.co/image/ab67706c0000da84a3f19fc279f4a609d0597ac9\");'></div><div class=\"grid-item-image-text\"><span dir=\"auto\">29/9/18</span></div></a>,\n",
       " <div class=\"grid-item-image lazy-image lazy-image_loaded\" data-src=\"//i.scdn.co/image/ab67706c0000da84a3f19fc279f4a609d0597ac9\" style='background-image: url(\"//i.scdn.co/image/ab67706c0000da84a3f19fc279f4a609d0597ac9\");'></div>,\n",
       " <div class=\"grid-item-image-text\"><span dir=\"auto\">29/9/18</span></div>,\n",
       " <span dir=\"auto\">29/9/18</span>,\n",
       " <li><a class=\"cover playlist\" href=\"/playlist/2daBY0rudM7hrsuNXytlW9\"><div class=\"grid-item-image lazy-image lazy-image_loaded\" data-src=\"//i.scdn.co/image/ab67706c0000da845496a90bfa8e98f2e83b3eda\" style='background-image: url(\"//i.scdn.co/image/ab67706c0000da845496a90bfa8e98f2e83b3eda\");'></div><div class=\"grid-item-image-text\"><span dir=\"auto\">1/9/18</span></div></a></li>,\n",
       " <a class=\"cover playlist\" href=\"/playlist/2daBY0rudM7hrsuNXytlW9\"><div class=\"grid-item-image lazy-image lazy-image_loaded\" data-src=\"//i.scdn.co/image/ab67706c0000da845496a90bfa8e98f2e83b3eda\" style='background-image: url(\"//i.scdn.co/image/ab67706c0000da845496a90bfa8e98f2e83b3eda\");'></div><div class=\"grid-item-image-text\"><span dir=\"auto\">1/9/18</span></div></a>,\n",
       " <div class=\"grid-item-image lazy-image lazy-image_loaded\" data-src=\"//i.scdn.co/image/ab67706c0000da845496a90bfa8e98f2e83b3eda\" style='background-image: url(\"//i.scdn.co/image/ab67706c0000da845496a90bfa8e98f2e83b3eda\");'></div>,\n",
       " <div class=\"grid-item-image-text\"><span dir=\"auto\">1/9/18</span></div>,\n",
       " <span dir=\"auto\">1/9/18</span>,\n",
       " <li><a class=\"cover playlist\" href=\"/playlist/2oLvjtrCVIUdWUInAMqwGO\"><div class=\"grid-item-image lazy-image lazy-image_loaded\" data-src=\"//i.scdn.co/image/ab67706c0000da841fdd8395b454a5e7a39febe3\" style='background-image: url(\"//i.scdn.co/image/ab67706c0000da841fdd8395b454a5e7a39febe3\");'></div><div class=\"grid-item-image-text\"><span dir=\"auto\">beep</span></div></a></li>,\n",
       " <a class=\"cover playlist\" href=\"/playlist/2oLvjtrCVIUdWUInAMqwGO\"><div class=\"grid-item-image lazy-image lazy-image_loaded\" data-src=\"//i.scdn.co/image/ab67706c0000da841fdd8395b454a5e7a39febe3\" style='background-image: url(\"//i.scdn.co/image/ab67706c0000da841fdd8395b454a5e7a39febe3\");'></div><div class=\"grid-item-image-text\"><span dir=\"auto\">beep</span></div></a>,\n",
       " <div class=\"grid-item-image lazy-image lazy-image_loaded\" data-src=\"//i.scdn.co/image/ab67706c0000da841fdd8395b454a5e7a39febe3\" style='background-image: url(\"//i.scdn.co/image/ab67706c0000da841fdd8395b454a5e7a39febe3\");'></div>,\n",
       " <div class=\"grid-item-image-text\"><span dir=\"auto\">beep</span></div>,\n",
       " <span dir=\"auto\">beep</span>,\n",
       " <li><a class=\"cover playlist\" href=\"/playlist/72cxf8xXRQOZiYbSJR71io\"><div class=\"grid-item-image lazy-image lazy-image_loaded\" data-src=\"//i.scdn.co/image/ab67706c0000bebbdf139708f899494198a3923f\" style='background-image: url(\"//i.scdn.co/image/ab67706c0000bebbdf139708f899494198a3923f\");'></div><div class=\"grid-item-image-text\"><span dir=\"auto\">COLORS - ALL SHOWS</span></div></a></li>,\n",
       " <a class=\"cover playlist\" href=\"/playlist/72cxf8xXRQOZiYbSJR71io\"><div class=\"grid-item-image lazy-image lazy-image_loaded\" data-src=\"//i.scdn.co/image/ab67706c0000bebbdf139708f899494198a3923f\" style='background-image: url(\"//i.scdn.co/image/ab67706c0000bebbdf139708f899494198a3923f\");'></div><div class=\"grid-item-image-text\"><span dir=\"auto\">COLORS - ALL SHOWS</span></div></a>,\n",
       " <div class=\"grid-item-image lazy-image lazy-image_loaded\" data-src=\"//i.scdn.co/image/ab67706c0000bebbdf139708f899494198a3923f\" style='background-image: url(\"//i.scdn.co/image/ab67706c0000bebbdf139708f899494198a3923f\");'></div>,\n",
       " <div class=\"grid-item-image-text\"><span dir=\"auto\">COLORS - ALL SHOWS</span></div>,\n",
       " <span dir=\"auto\">COLORS - ALL SHOWS</span>,\n",
       " <li><a class=\"cover playlist\" href=\"/playlist/3OBsCqsoeDiagzd5OvNOtE\"><div class=\"grid-item-image lazy-image lazy-image_loaded\" data-src=\"//i.scdn.co/image/ab67706c0000da84d8f95f044e34b9af889d6165\" style='background-image: url(\"//i.scdn.co/image/ab67706c0000da84d8f95f044e34b9af889d6165\");'></div><div class=\"grid-item-image-text\"><span dir=\"auto\">$LEAZE</span></div></a></li>,\n",
       " <a class=\"cover playlist\" href=\"/playlist/3OBsCqsoeDiagzd5OvNOtE\"><div class=\"grid-item-image lazy-image lazy-image_loaded\" data-src=\"//i.scdn.co/image/ab67706c0000da84d8f95f044e34b9af889d6165\" style='background-image: url(\"//i.scdn.co/image/ab67706c0000da84d8f95f044e34b9af889d6165\");'></div><div class=\"grid-item-image-text\"><span dir=\"auto\">$LEAZE</span></div></a>,\n",
       " <div class=\"grid-item-image lazy-image lazy-image_loaded\" data-src=\"//i.scdn.co/image/ab67706c0000da84d8f95f044e34b9af889d6165\" style='background-image: url(\"//i.scdn.co/image/ab67706c0000da84d8f95f044e34b9af889d6165\");'></div>,\n",
       " <div class=\"grid-item-image-text\"><span dir=\"auto\">$LEAZE</span></div>,\n",
       " <span dir=\"auto\">$LEAZE</span>,\n",
       " <section class=\"upsell\" id=\"upsell\"><div class=\"bg lazy-image\" data-src=\"//i.scdn.co/image/ab6775700000ee85531dbdce612ad7a5e374f750\"></div><div class=\"overlay\"></div><div class=\"wrapper padding-notch\"></div></section>,\n",
       " <div class=\"bg lazy-image\" data-src=\"//i.scdn.co/image/ab6775700000ee85531dbdce612ad7a5e374f750\"></div>,\n",
       " <div class=\"overlay\"></div>,\n",
       " <div class=\"wrapper padding-notch\"></div>,\n",
       " <footer><a class=\"logo-link\" href=\"/browse\"><svg><use xlink:href=\"#spotify-logo\" xmlns:xlink=\"http://www.w3.org/1999/xlink\"></use></svg></a><p class=\"legal\"><a href=\"https://www.spotify.com/legal/\" rel=\"noopener\" target=\"_blank\">Legal</a><br/><a href=\"https://www.spotify.com/legal/privacy-policy/\" rel=\"noopener\" target=\"_blank\">Privacy</a><br/><a href=\"https://www.spotify.com/legal/cookies-policy/\" rel=\"noopener\" target=\"_blank\">Cookies</a><br/><a href=\"https://www.spotify.com/legal/privacy-policy/#s3\" rel=\"noopener\" target=\"_blank\">About Ads</a></p></footer>,\n",
       " <a class=\"logo-link\" href=\"/browse\"><svg><use xlink:href=\"#spotify-logo\" xmlns:xlink=\"http://www.w3.org/1999/xlink\"></use></svg></a>,\n",
       " <svg><use xlink:href=\"#spotify-logo\" xmlns:xlink=\"http://www.w3.org/1999/xlink\"></use></svg>,\n",
       " <use xlink:href=\"#spotify-logo\" xmlns:xlink=\"http://www.w3.org/1999/xlink\"></use>,\n",
       " <p class=\"legal\"><a href=\"https://www.spotify.com/legal/\" rel=\"noopener\" target=\"_blank\">Legal</a><br/><a href=\"https://www.spotify.com/legal/privacy-policy/\" rel=\"noopener\" target=\"_blank\">Privacy</a><br/><a href=\"https://www.spotify.com/legal/cookies-policy/\" rel=\"noopener\" target=\"_blank\">Cookies</a><br/><a href=\"https://www.spotify.com/legal/privacy-policy/#s3\" rel=\"noopener\" target=\"_blank\">About Ads</a></p>,\n",
       " <a href=\"https://www.spotify.com/legal/\" rel=\"noopener\" target=\"_blank\">Legal</a>,\n",
       " <br/>,\n",
       " <a href=\"https://www.spotify.com/legal/privacy-policy/\" rel=\"noopener\" target=\"_blank\">Privacy</a>,\n",
       " <br/>,\n",
       " <a href=\"https://www.spotify.com/legal/cookies-policy/\" rel=\"noopener\" target=\"_blank\">Cookies</a>,\n",
       " <br/>,\n",
       " <a href=\"https://www.spotify.com/legal/privacy-policy/#s3\" rel=\"noopener\" target=\"_blank\">About Ads</a>,\n",
       " <div aria-hidden=\"true\" aria-labelledby=\"choice-modal-title\" class=\"choice-modal js-choice-modal hide\" role=\"dialog\"><div class=\"choice-modal-inner\"><button aria-label=\"Close\" class=\"btn-close\"><svg><use xlink:href=\"#icon-close\" xmlns:xlink=\"http://www.w3.org/1999/xlink\"></use></svg></button><span class=\"modal-title\" id=\"choice-modal-title\">To play this content, you'll need the Spotify app.</span><div class=\"wrapper-btn\"><button class=\"btn btn-green\" id=\"mobile-download\" type=\"button\">\n",
       "                 Get Spotify\n",
       "             </button><button class=\"btn btn-transparent\" id=\"mobile-play\" type=\"button\">\n",
       "                 Open Spotify\n",
       "             </button></div></div></div>,\n",
       " <div class=\"choice-modal-inner\"><button aria-label=\"Close\" class=\"btn-close\"><svg><use xlink:href=\"#icon-close\" xmlns:xlink=\"http://www.w3.org/1999/xlink\"></use></svg></button><span class=\"modal-title\" id=\"choice-modal-title\">To play this content, you'll need the Spotify app.</span><div class=\"wrapper-btn\"><button class=\"btn btn-green\" id=\"mobile-download\" type=\"button\">\n",
       "                 Get Spotify\n",
       "             </button><button class=\"btn btn-transparent\" id=\"mobile-play\" type=\"button\">\n",
       "                 Open Spotify\n",
       "             </button></div></div>,\n",
       " <button aria-label=\"Close\" class=\"btn-close\"><svg><use xlink:href=\"#icon-close\" xmlns:xlink=\"http://www.w3.org/1999/xlink\"></use></svg></button>,\n",
       " <svg><use xlink:href=\"#icon-close\" xmlns:xlink=\"http://www.w3.org/1999/xlink\"></use></svg>,\n",
       " <use xlink:href=\"#icon-close\" xmlns:xlink=\"http://www.w3.org/1999/xlink\"></use>,\n",
       " <span class=\"modal-title\" id=\"choice-modal-title\">To play this content, you'll need the Spotify app.</span>,\n",
       " <div class=\"wrapper-btn\"><button class=\"btn btn-green\" id=\"mobile-download\" type=\"button\">\n",
       "                 Get Spotify\n",
       "             </button><button class=\"btn btn-transparent\" id=\"mobile-play\" type=\"button\">\n",
       "                 Open Spotify\n",
       "             </button></div>,\n",
       " <button class=\"btn btn-green\" id=\"mobile-download\" type=\"button\">\n",
       "                 Get Spotify\n",
       "             </button>,\n",
       " <button class=\"btn btn-transparent\" id=\"mobile-play\" type=\"button\">\n",
       "                 Open Spotify\n",
       "             </button>,\n",
       " <div aria-hidden=\"true\" aria-labelledby=\"upsell-modal-title\" class=\"upsell-modal js-upsell-modal hide\" role=\"dialog\"><button aria-label=\"Close\" class=\"btn-close\"><svg><use xlink:href=\"#icon-close\" xmlns:xlink=\"http://www.w3.org/1999/xlink\"></use></svg></button><h3 id=\"upsell-modal-title\">You look like someone who appreciates good music.</h3><p>Listen to all your favourite artists on any device for free or try the Premium trial.</p><button class=\"link\">Play on Spotify</button></div>,\n",
       " <button aria-label=\"Close\" class=\"btn-close\"><svg><use xlink:href=\"#icon-close\" xmlns:xlink=\"http://www.w3.org/1999/xlink\"></use></svg></button>,\n",
       " <svg><use xlink:href=\"#icon-close\" xmlns:xlink=\"http://www.w3.org/1999/xlink\"></use></svg>,\n",
       " <use xlink:href=\"#icon-close\" xmlns:xlink=\"http://www.w3.org/1999/xlink\"></use>,\n",
       " <h3 id=\"upsell-modal-title\">You look like someone who appreciates good music.</h3>,\n",
       " <p>Listen to all your favourite artists on any device for free or try the Premium trial.</p>,\n",
       " <button class=\"link\">Play on Spotify</button>,\n",
       " <script data-testid=\"spotify-environment\">\n",
       "         window.SpotifyEnvironment = {\n",
       "         autoplay: JSON.parse(\"false\"),\n",
       "         context: {\n",
       "             uri: \"spotify:user:kevin.nguyen9852\",\n",
       "                         type: \"user\"\n",
       "         },\n",
       "         strings: {\n",
       "             'Download Spotify': \"Download Spotify\",\n",
       "             'Play on Spotify': \"Play on Spotify\",\n",
       "             'View on Spotify': \"View on Spotify\",\n",
       "             'Follow on Spotify': \"Follow on Spotify\"\n",
       "         },\n",
       "         platform: \"desktop\",\n",
       "         isMobile: false,\n",
       "         isBrowserSupportedInWebPlayer: false,\n",
       "         usesWebPlayer: false,\n",
       "         isSpotified: false,\n",
       "                 downloadLink: \"https://www.spotify.com/signup/?creation_flow=open&utm_source=open\",\n",
       "                 environment: \"production\",\n",
       "                 features: {\n",
       "                                 }\n",
       "     };\n",
       " </script>,\n",
       " <script>\n",
       " \t\t\t\tSpotify = {};\n",
       " \t\t\t\tSpotify.Entity = {\"uri\":\"spotify:user:kevin.nguyen9852\",\"type\":\"user\"};\n",
       " \t\t\t</script>,\n",
       " <script async=\"\" src=\"https://open.scdn.co/cdn/build/open/open.14d9ffc0.js\"></script>,\n",
       " <script async=\"\" src=\"https://open.scdn.co/cdn/build/open/vendor~open.e0aab148.js\"></script>,\n",
       " <script>\n",
       " (function() {\n",
       "     var timeout = 5000;\n",
       "     function loadFbPixel () {\n",
       "         !(function (f, b, e, v, n, t, s) {\n",
       "         if (f.fbq) return;\n",
       "         n = f.fbq = function () {\n",
       "             n.callMethod ? n.callMethod.apply(n, arguments) : n.queue.push(arguments);\n",
       "         };\n",
       "         if (!f._fbq) f._fbq = n;\n",
       "         n.push = n;\n",
       "         n.loaded = !0;\n",
       "         n.version = '2.0';\n",
       "         n.queue = [];\n",
       "         t = b.createElement(e);\n",
       "         t.async = !0;\n",
       "         t.src = v;\n",
       "         s = b.getElementsByTagName(e)[0];\n",
       "         s.parentNode.insertBefore(t, s);\n",
       "         })(\n",
       "         window,\n",
       "         document,\n",
       "         'script',\n",
       "         'https://connect.facebook.net/en_US/fbevents.js',\n",
       "         );\n",
       " \n",
       "         fbq('init', '1483047915331997');\n",
       "         fbq('track', 'PageView');\n",
       "     }\n",
       "     if (window.requestIdleCallback) {\n",
       "         window.requestIdleCallback(loadFbPixel, {timeout: timeout});\n",
       "     } else {\n",
       "         setTimeout(loadFbPixel, timeout);\n",
       "     }\n",
       " })();\n",
       " </script>,\n",
       " <script>\n",
       " var _comscore = _comscore || [];\n",
       " _comscore.push({ c1: \"2\", c2: \"15654041\" });\n",
       " (function() {\n",
       "   var s = document.createElement(\"script\"), el =\n",
       "     document.getElementsByTagName(\"script\")[0]; s.async = true;\n",
       "   s.src = \"https://sb.scorecardresearch.com/beacon.js\";\n",
       "   el.parentNode.insertBefore(s, el);\n",
       " })();\n",
       " </script>,\n",
       " <script defer=\"\" src=\"https://www.fastly-insights.com/insights.js?k=040e3997-282c-4275-ba9b-a406ce78b133&amp;dnt=1\"></script>,\n",
       " <script>\n",
       " function getCookie(name) {\n",
       "   const v = document.cookie.match(`(^|;) ?${name}=([^;]*)(;|$)`);\n",
       "   return v ? v[2] : null;\n",
       " }\n",
       " \n",
       " const isQualaroo = getCookie('qualarooTimer');\n",
       " if (isQualaroo) {\n",
       "   window._kiq = window._kiq || [];\n",
       "   (function() {\n",
       "     setTimeout(function() {\n",
       "       const d = document;\n",
       "       const f = d.getElementsByTagName('script')[0];\n",
       "       const s = d.createElement('script');\n",
       "       s.type = 'text/javascript';\n",
       "       s.async = true;\n",
       "       s.src = '//s3.amazonaws.com/ki.js/51746/b0R.js';\n",
       "       s.addEventListener('load', function() {\n",
       "         const spcid = getCookie('sp_t');\n",
       "         window._kiq.push(['identify', spcid]);\n",
       "       });\n",
       "       f.parentNode.insertBefore(s, f);\n",
       "     }, 1);\n",
       "   })();\n",
       " }\n",
       " \n",
       " (function () {\n",
       "   var buttons = {\n",
       "     \"mobile-login\": 'login',\n",
       "     \"mobile-continue-on-web\": 'signup',\n",
       "     \"mobile-download\": 'download-app',\n",
       "   };\n",
       " \n",
       "   for (var key of Object.keys(buttons)) {\n",
       "     var button = document.getElementById(key)\n",
       "     if (button) {\n",
       "       button.addEventListener('click', function(e) {\n",
       "         gtag('event', buttons[e.target.id], {\n",
       "           'event_category': 'click',\n",
       "           'event_label': '/button',\n",
       "           'value': null,\n",
       "         });\n",
       "       });\n",
       "     }\n",
       "   }\n",
       " })();\n",
       " \n",
       " \n",
       " </script>]"
      ]
     },
     "execution_count": 254,
     "metadata": {},
     "output_type": "execute_result"
    }
   ],
   "source": [
    "# scrolling output definition\n",
    "from IPython.core.display import HTML\n",
    "style = \"\"\"\n",
    "<style>\n",
    "div.output_area {\n",
    "    overflow-y: scroll;\n",
    "}\n",
    "div.output_area img {\n",
    "    max-width: unset;\n",
    "}\n",
    "</style>\n",
    "\"\"\"\n",
    "\n",
    "nguyen = 'https://open.spotify.com/user/kevin.nguyen9852'\n",
    "soup = soupify(nguyen, to_text=False) \n",
    "soup"
   ]
  },
  {
   "cell_type": "markdown",
   "metadata": {},
   "source": [
    "Wow. That is beyond terrifying. Thankfully, the playlists are actually pretty easy to find. It's clear they're all tagged with `<li>`:"
   ]
  },
  {
   "cell_type": "code",
   "execution_count": 255,
   "metadata": {},
   "outputs": [
    {
     "data": {
      "text/plain": [
       "[\"2000's\",\n",
       " 'mitre 10',\n",
       " 'Small potatoes',\n",
       " 'mangoes',\n",
       " 'bawawaweewa',\n",
       " '[sLUms+CO]',\n",
       " 'lo-fi anime beats to study and chill to',\n",
       " 'yeughh',\n",
       " 'septombur',\n",
       " 'AUGUST']"
      ]
     },
     "execution_count": 255,
     "metadata": {},
     "output_type": "execute_result"
    }
   ],
   "source": [
    "soup = soupify(nguyen, 'li')\n",
    "soup[:10]"
   ]
  },
  {
   "cell_type": "markdown",
   "metadata": {},
   "source": [
    "So we can get the names. That's cool. But how about the playlist IDs? Since those are what we need. On close, inspection, they're the `href` attribute of the `a` class."
   ]
  },
  {
   "cell_type": "code",
   "execution_count": 256,
   "metadata": {},
   "outputs": [
    {
     "name": "stdout",
     "output_type": "stream",
     "text": [
      "/playlist/5EbNNdQvJ8U4TyuqetE5pY\n",
      "/playlist/7lHgB4bzld24t7kgy4MK9K\n",
      "/playlist/3RTdVqzTm3YgL3KLa13qQV\n",
      "/playlist/2cV5Bwarta7LPXzbiaYTyf\n",
      "/playlist/2Cb1eD1J6jlsxKBoNXTTtd\n",
      "/playlist/0UYrhQh0B0oWx4mQINEdIQ\n",
      "/playlist/5lM2ngCx1eF1QQiWXTT5h0\n",
      "/playlist/0N0yZvX6kl2VTaU289UgnM\n",
      "/playlist/0eyLdRCySHOjnnur6rpHA1\n",
      "/playlist/4uhQ4gWB5KKraePWgeuXen\n"
     ]
    }
   ],
   "source": [
    "soup = soupify(nguyen, 'li', to_text=False)\n",
    "for bowl in soup[:10]:\n",
    "    print(bowl.a['href'])"
   ]
  },
  {
   "cell_type": "markdown",
   "metadata": {},
   "source": [
    "Oh yeah. It's all coming together."
   ]
  },
  {
   "cell_type": "code",
   "execution_count": 257,
   "metadata": {},
   "outputs": [],
   "source": [
    "# a wrapper to make things easier\n",
    "class kevin:\n",
    "    def __init__(self, url):\n",
    "        self.soup = soupify(url, 'li', to_text=False)\n",
    "\n",
    "    def get_playlists(self):\n",
    "        self.playlist_ids = [bowl.a['href'].replace('/playlist/', '') for bowl in self.soup]\n",
    "        self.playlists = [playlist(id) for id in self.playlist_ids]\n"
   ]
  },
  {
   "cell_type": "code",
   "execution_count": 258,
   "metadata": {},
   "outputs": [
    {
     "data": {
      "text/plain": [
       "[('$uicideBoy$', 43),\n",
       " ('Pouya', 12),\n",
       " ('Bass Santana', 11),\n",
       " ('Smokepurpp', 9),\n",
       " ('XXXTENTACION', 8),\n",
       " ('Ski Mask The Slump God', 7),\n",
       " ('Kin$oul', 6),\n",
       " ('Kid Trunks', 5),\n",
       " ('Shakewell', 5),\n",
       " ('Lil Xan', 4)]"
      ]
     },
     "execution_count": 258,
     "metadata": {},
     "output_type": "execute_result"
    }
   ],
   "source": [
    "obj = kevin(nguyen)\n",
    "obj.get_playlists()\n",
    "\n",
    "# list the 10 most frequent artists in his first playlist\n",
    "obj.playlists[0].artists().most_common(10)"
   ]
  },
  {
   "cell_type": "markdown",
   "metadata": {},
   "source": [
    "There we go! Armed with only a user's url, we can now find and break down all of their playlists, and find out the artist density of their playlists:"
   ]
  },
  {
   "cell_type": "code",
   "execution_count": 259,
   "metadata": {},
   "outputs": [
    {
     "data": {
      "text/plain": [
       "[('Young Thug', 90),\n",
       " ('Lil Uzi Vert', 83),\n",
       " ('Future', 82),\n",
       " ('Earl Sweatshirt', 82),\n",
       " ('$uicideBoy$', 73),\n",
       " ('Tyler, The Creator', 65),\n",
       " ('A$AP Rocky', 63),\n",
       " ('Travis Scott', 58),\n",
       " ('FKA twigs', 58),\n",
       " ('Skepta', 56)]"
      ]
     },
     "execution_count": 259,
     "metadata": {},
     "output_type": "execute_result"
    }
   ],
   "source": [
    "# make a quick function that makes the full aggregate of artists\n",
    "def artist_stats(self):\n",
    "    return sum([playlist.artists() for playlist in self.playlists], Counter())\n",
    "\n",
    "kevin.artist_stats = artist_stats\n",
    "artists = obj.artist_stats()\n",
    "artists.most_common(10)"
   ]
  },
  {
   "cell_type": "markdown",
   "metadata": {},
   "source": [
    "Damn. FKA twigs? This dude doesn't seem to bad."
   ]
  },
  {
   "cell_type": "markdown",
   "metadata": {},
   "source": [
    "***"
   ]
  },
  {
   "cell_type": "markdown",
   "metadata": {},
   "source": [
    "### 4. Going The Distance"
   ]
  },
  {
   "cell_type": "markdown",
   "metadata": {},
   "source": [
    "Now that we've defined the full process for one Kevin, let's do _all_ of them."
   ]
  },
  {
   "cell_type": "markdown",
   "metadata": {},
   "source": [
    "In fact, what we're about to do is applicable to _all_ names, but just to keep this from getting out of pocket we're going to keep bullying Kevin. Thankfully, Spotify's search can be emulated right at the url level, so the `fstring` representation of any query is just:"
   ]
  },
  {
   "cell_type": "code",
   "execution_count": 260,
   "metadata": {},
   "outputs": [
    {
     "data": {
      "text/plain": [
       "'https://open.spotify.com/search/kevin%20nguyen/profiles'"
      ]
     },
     "execution_count": 260,
     "metadata": {},
     "output_type": "execute_result"
    }
   ],
   "source": [
    "first, last = 'kevin', 'nguyen'\n",
    "query = f\"https://open.spotify.com/search/{first}%20{last}/profiles\"\n",
    "query"
   ]
  },
  {
   "cell_type": "markdown",
   "metadata": {},
   "source": [
    "Once again, we're going to use `BeautifulSoup` to get us all the kevins. All we need is the urls, so it shouldn't be too hard. Let's do a test run on one dude first, and then extrapolate to every Kevin."
   ]
  },
  {
   "cell_type": "code",
   "execution_count": 261,
   "metadata": {},
   "outputs": [
    {
     "ename": "HTTPError",
     "evalue": "HTTP Error 404: Not Found",
     "output_type": "error",
     "traceback": [
      "\u001b[0;31m---------------------------------------------------------------------------\u001b[0m",
      "\u001b[0;31mHTTPError\u001b[0m                                 Traceback (most recent call last)",
      "\u001b[0;32m<ipython-input-261-7a1c5a92d1c8>\u001b[0m in \u001b[0;36m<module>\u001b[0;34m\u001b[0m\n\u001b[0;32m----> 1\u001b[0;31m \u001b[0msoup\u001b[0m \u001b[0;34m=\u001b[0m \u001b[0msoupify\u001b[0m\u001b[0;34m(\u001b[0m\u001b[0mquery\u001b[0m\u001b[0;34m)\u001b[0m\u001b[0;34m\u001b[0m\u001b[0;34m\u001b[0m\u001b[0m\n\u001b[0m\u001b[1;32m      2\u001b[0m \u001b[0msoup\u001b[0m\u001b[0;34m\u001b[0m\u001b[0;34m\u001b[0m\u001b[0m\n",
      "\u001b[0;32m<ipython-input-253-10dd12819c31>\u001b[0m in \u001b[0;36msoupify\u001b[0;34m(url, to_text, normalize, *tags, **attributes)\u001b[0m\n\u001b[1;32m      6\u001b[0m \u001b[0;31m# tag extraction given a soup obj\u001b[0m\u001b[0;34m\u001b[0m\u001b[0;34m\u001b[0m\u001b[0;34m\u001b[0m\u001b[0m\n\u001b[1;32m      7\u001b[0m \u001b[0;32mdef\u001b[0m \u001b[0msoupify\u001b[0m\u001b[0;34m(\u001b[0m\u001b[0murl\u001b[0m\u001b[0;34m,\u001b[0m \u001b[0;34m*\u001b[0m\u001b[0mtags\u001b[0m\u001b[0;34m,\u001b[0m \u001b[0mto_text\u001b[0m\u001b[0;34m=\u001b[0m\u001b[0;32mTrue\u001b[0m\u001b[0;34m,\u001b[0m \u001b[0mnormalize\u001b[0m\u001b[0;34m=\u001b[0m\u001b[0;32mTrue\u001b[0m\u001b[0;34m,\u001b[0m \u001b[0;34m**\u001b[0m\u001b[0mattributes\u001b[0m\u001b[0;34m)\u001b[0m\u001b[0;34m:\u001b[0m\u001b[0;34m\u001b[0m\u001b[0;34m\u001b[0m\u001b[0m\n\u001b[0;32m----> 8\u001b[0;31m     \u001b[0mfindings\u001b[0m \u001b[0;34m=\u001b[0m \u001b[0murl_process\u001b[0m\u001b[0;34m(\u001b[0m\u001b[0murl\u001b[0m\u001b[0;34m)\u001b[0m\u001b[0;34m.\u001b[0m\u001b[0mfind_all\u001b[0m\u001b[0;34m(\u001b[0m\u001b[0;34m*\u001b[0m\u001b[0mtags\u001b[0m\u001b[0;34m,\u001b[0m \u001b[0;34m**\u001b[0m\u001b[0mattributes\u001b[0m\u001b[0;34m)\u001b[0m\u001b[0;34m\u001b[0m\u001b[0;34m\u001b[0m\u001b[0m\n\u001b[0m\u001b[1;32m      9\u001b[0m     \u001b[0;32mif\u001b[0m \u001b[0mto_text\u001b[0m\u001b[0;34m:\u001b[0m\u001b[0;34m\u001b[0m\u001b[0;34m\u001b[0m\u001b[0m\n\u001b[1;32m     10\u001b[0m         \u001b[0mfindings\u001b[0m \u001b[0;34m=\u001b[0m \u001b[0;34m[\u001b[0m\u001b[0mresult\u001b[0m\u001b[0;34m.\u001b[0m\u001b[0mget_text\u001b[0m\u001b[0;34m(\u001b[0m\u001b[0;34m)\u001b[0m \u001b[0;32mfor\u001b[0m \u001b[0mresult\u001b[0m \u001b[0;32min\u001b[0m \u001b[0mfindings\u001b[0m\u001b[0;34m]\u001b[0m\u001b[0;34m\u001b[0m\u001b[0;34m\u001b[0m\u001b[0m\n",
      "\u001b[0;32m<ipython-input-253-10dd12819c31>\u001b[0m in \u001b[0;36murl_process\u001b[0;34m(url)\u001b[0m\n\u001b[1;32m      1\u001b[0m \u001b[0;31m# returns a bs object given a url\u001b[0m\u001b[0;34m\u001b[0m\u001b[0;34m\u001b[0m\u001b[0;34m\u001b[0m\u001b[0m\n\u001b[1;32m      2\u001b[0m \u001b[0;32mdef\u001b[0m \u001b[0murl_process\u001b[0m\u001b[0;34m(\u001b[0m\u001b[0murl\u001b[0m\u001b[0;34m)\u001b[0m\u001b[0;34m:\u001b[0m\u001b[0;34m\u001b[0m\u001b[0;34m\u001b[0m\u001b[0m\n\u001b[0;32m----> 3\u001b[0;31m     \u001b[0mraw\u001b[0m \u001b[0;34m=\u001b[0m \u001b[0murlopen\u001b[0m\u001b[0;34m(\u001b[0m\u001b[0murl\u001b[0m\u001b[0;34m,\u001b[0m \u001b[0mcontext\u001b[0m\u001b[0;34m=\u001b[0m\u001b[0mssl\u001b[0m\u001b[0;34m.\u001b[0m\u001b[0mSSLContext\u001b[0m\u001b[0;34m(\u001b[0m\u001b[0;34m)\u001b[0m\u001b[0;34m)\u001b[0m\u001b[0;34m\u001b[0m\u001b[0;34m\u001b[0m\u001b[0m\n\u001b[0m\u001b[1;32m      4\u001b[0m     \u001b[0;32mreturn\u001b[0m \u001b[0mbs\u001b[0m\u001b[0;34m(\u001b[0m\u001b[0mraw\u001b[0m\u001b[0;34m,\u001b[0m \u001b[0;34m'lxml'\u001b[0m\u001b[0;34m)\u001b[0m\u001b[0;34m\u001b[0m\u001b[0;34m\u001b[0m\u001b[0m\n\u001b[1;32m      5\u001b[0m \u001b[0;34m\u001b[0m\u001b[0m\n",
      "\u001b[0;32m/Applications/anaconda3/lib/python3.6/urllib/request.py\u001b[0m in \u001b[0;36murlopen\u001b[0;34m(url, data, timeout, cafile, capath, cadefault, context)\u001b[0m\n\u001b[1;32m    221\u001b[0m     \u001b[0;32melse\u001b[0m\u001b[0;34m:\u001b[0m\u001b[0;34m\u001b[0m\u001b[0;34m\u001b[0m\u001b[0m\n\u001b[1;32m    222\u001b[0m         \u001b[0mopener\u001b[0m \u001b[0;34m=\u001b[0m \u001b[0m_opener\u001b[0m\u001b[0;34m\u001b[0m\u001b[0;34m\u001b[0m\u001b[0m\n\u001b[0;32m--> 223\u001b[0;31m     \u001b[0;32mreturn\u001b[0m \u001b[0mopener\u001b[0m\u001b[0;34m.\u001b[0m\u001b[0mopen\u001b[0m\u001b[0;34m(\u001b[0m\u001b[0murl\u001b[0m\u001b[0;34m,\u001b[0m \u001b[0mdata\u001b[0m\u001b[0;34m,\u001b[0m \u001b[0mtimeout\u001b[0m\u001b[0;34m)\u001b[0m\u001b[0;34m\u001b[0m\u001b[0;34m\u001b[0m\u001b[0m\n\u001b[0m\u001b[1;32m    224\u001b[0m \u001b[0;34m\u001b[0m\u001b[0m\n\u001b[1;32m    225\u001b[0m \u001b[0;32mdef\u001b[0m \u001b[0minstall_opener\u001b[0m\u001b[0;34m(\u001b[0m\u001b[0mopener\u001b[0m\u001b[0;34m)\u001b[0m\u001b[0;34m:\u001b[0m\u001b[0;34m\u001b[0m\u001b[0;34m\u001b[0m\u001b[0m\n",
      "\u001b[0;32m/Applications/anaconda3/lib/python3.6/urllib/request.py\u001b[0m in \u001b[0;36mopen\u001b[0;34m(self, fullurl, data, timeout)\u001b[0m\n\u001b[1;32m    530\u001b[0m         \u001b[0;32mfor\u001b[0m \u001b[0mprocessor\u001b[0m \u001b[0;32min\u001b[0m \u001b[0mself\u001b[0m\u001b[0;34m.\u001b[0m\u001b[0mprocess_response\u001b[0m\u001b[0;34m.\u001b[0m\u001b[0mget\u001b[0m\u001b[0;34m(\u001b[0m\u001b[0mprotocol\u001b[0m\u001b[0;34m,\u001b[0m \u001b[0;34m[\u001b[0m\u001b[0;34m]\u001b[0m\u001b[0;34m)\u001b[0m\u001b[0;34m:\u001b[0m\u001b[0;34m\u001b[0m\u001b[0;34m\u001b[0m\u001b[0m\n\u001b[1;32m    531\u001b[0m             \u001b[0mmeth\u001b[0m \u001b[0;34m=\u001b[0m \u001b[0mgetattr\u001b[0m\u001b[0;34m(\u001b[0m\u001b[0mprocessor\u001b[0m\u001b[0;34m,\u001b[0m \u001b[0mmeth_name\u001b[0m\u001b[0;34m)\u001b[0m\u001b[0;34m\u001b[0m\u001b[0;34m\u001b[0m\u001b[0m\n\u001b[0;32m--> 532\u001b[0;31m             \u001b[0mresponse\u001b[0m \u001b[0;34m=\u001b[0m \u001b[0mmeth\u001b[0m\u001b[0;34m(\u001b[0m\u001b[0mreq\u001b[0m\u001b[0;34m,\u001b[0m \u001b[0mresponse\u001b[0m\u001b[0;34m)\u001b[0m\u001b[0;34m\u001b[0m\u001b[0;34m\u001b[0m\u001b[0m\n\u001b[0m\u001b[1;32m    533\u001b[0m \u001b[0;34m\u001b[0m\u001b[0m\n\u001b[1;32m    534\u001b[0m         \u001b[0;32mreturn\u001b[0m \u001b[0mresponse\u001b[0m\u001b[0;34m\u001b[0m\u001b[0;34m\u001b[0m\u001b[0m\n",
      "\u001b[0;32m/Applications/anaconda3/lib/python3.6/urllib/request.py\u001b[0m in \u001b[0;36mhttp_response\u001b[0;34m(self, request, response)\u001b[0m\n\u001b[1;32m    640\u001b[0m         \u001b[0;32mif\u001b[0m \u001b[0;32mnot\u001b[0m \u001b[0;34m(\u001b[0m\u001b[0;36m200\u001b[0m \u001b[0;34m<=\u001b[0m \u001b[0mcode\u001b[0m \u001b[0;34m<\u001b[0m \u001b[0;36m300\u001b[0m\u001b[0;34m)\u001b[0m\u001b[0;34m:\u001b[0m\u001b[0;34m\u001b[0m\u001b[0;34m\u001b[0m\u001b[0m\n\u001b[1;32m    641\u001b[0m             response = self.parent.error(\n\u001b[0;32m--> 642\u001b[0;31m                 'http', request, response, code, msg, hdrs)\n\u001b[0m\u001b[1;32m    643\u001b[0m \u001b[0;34m\u001b[0m\u001b[0m\n\u001b[1;32m    644\u001b[0m         \u001b[0;32mreturn\u001b[0m \u001b[0mresponse\u001b[0m\u001b[0;34m\u001b[0m\u001b[0;34m\u001b[0m\u001b[0m\n",
      "\u001b[0;32m/Applications/anaconda3/lib/python3.6/urllib/request.py\u001b[0m in \u001b[0;36merror\u001b[0;34m(self, proto, *args)\u001b[0m\n\u001b[1;32m    568\u001b[0m         \u001b[0;32mif\u001b[0m \u001b[0mhttp_err\u001b[0m\u001b[0;34m:\u001b[0m\u001b[0;34m\u001b[0m\u001b[0;34m\u001b[0m\u001b[0m\n\u001b[1;32m    569\u001b[0m             \u001b[0margs\u001b[0m \u001b[0;34m=\u001b[0m \u001b[0;34m(\u001b[0m\u001b[0mdict\u001b[0m\u001b[0;34m,\u001b[0m \u001b[0;34m'default'\u001b[0m\u001b[0;34m,\u001b[0m \u001b[0;34m'http_error_default'\u001b[0m\u001b[0;34m)\u001b[0m \u001b[0;34m+\u001b[0m \u001b[0morig_args\u001b[0m\u001b[0;34m\u001b[0m\u001b[0;34m\u001b[0m\u001b[0m\n\u001b[0;32m--> 570\u001b[0;31m             \u001b[0;32mreturn\u001b[0m \u001b[0mself\u001b[0m\u001b[0;34m.\u001b[0m\u001b[0m_call_chain\u001b[0m\u001b[0;34m(\u001b[0m\u001b[0;34m*\u001b[0m\u001b[0margs\u001b[0m\u001b[0;34m)\u001b[0m\u001b[0;34m\u001b[0m\u001b[0;34m\u001b[0m\u001b[0m\n\u001b[0m\u001b[1;32m    571\u001b[0m \u001b[0;34m\u001b[0m\u001b[0m\n\u001b[1;32m    572\u001b[0m \u001b[0;31m# XXX probably also want an abstract factory that knows when it makes\u001b[0m\u001b[0;34m\u001b[0m\u001b[0;34m\u001b[0m\u001b[0;34m\u001b[0m\u001b[0m\n",
      "\u001b[0;32m/Applications/anaconda3/lib/python3.6/urllib/request.py\u001b[0m in \u001b[0;36m_call_chain\u001b[0;34m(self, chain, kind, meth_name, *args)\u001b[0m\n\u001b[1;32m    502\u001b[0m         \u001b[0;32mfor\u001b[0m \u001b[0mhandler\u001b[0m \u001b[0;32min\u001b[0m \u001b[0mhandlers\u001b[0m\u001b[0;34m:\u001b[0m\u001b[0;34m\u001b[0m\u001b[0;34m\u001b[0m\u001b[0m\n\u001b[1;32m    503\u001b[0m             \u001b[0mfunc\u001b[0m \u001b[0;34m=\u001b[0m \u001b[0mgetattr\u001b[0m\u001b[0;34m(\u001b[0m\u001b[0mhandler\u001b[0m\u001b[0;34m,\u001b[0m \u001b[0mmeth_name\u001b[0m\u001b[0;34m)\u001b[0m\u001b[0;34m\u001b[0m\u001b[0;34m\u001b[0m\u001b[0m\n\u001b[0;32m--> 504\u001b[0;31m             \u001b[0mresult\u001b[0m \u001b[0;34m=\u001b[0m \u001b[0mfunc\u001b[0m\u001b[0;34m(\u001b[0m\u001b[0;34m*\u001b[0m\u001b[0margs\u001b[0m\u001b[0;34m)\u001b[0m\u001b[0;34m\u001b[0m\u001b[0;34m\u001b[0m\u001b[0m\n\u001b[0m\u001b[1;32m    505\u001b[0m             \u001b[0;32mif\u001b[0m \u001b[0mresult\u001b[0m \u001b[0;32mis\u001b[0m \u001b[0;32mnot\u001b[0m \u001b[0;32mNone\u001b[0m\u001b[0;34m:\u001b[0m\u001b[0;34m\u001b[0m\u001b[0;34m\u001b[0m\u001b[0m\n\u001b[1;32m    506\u001b[0m                 \u001b[0;32mreturn\u001b[0m \u001b[0mresult\u001b[0m\u001b[0;34m\u001b[0m\u001b[0;34m\u001b[0m\u001b[0m\n",
      "\u001b[0;32m/Applications/anaconda3/lib/python3.6/urllib/request.py\u001b[0m in \u001b[0;36mhttp_error_default\u001b[0;34m(self, req, fp, code, msg, hdrs)\u001b[0m\n\u001b[1;32m    648\u001b[0m \u001b[0;32mclass\u001b[0m \u001b[0mHTTPDefaultErrorHandler\u001b[0m\u001b[0;34m(\u001b[0m\u001b[0mBaseHandler\u001b[0m\u001b[0;34m)\u001b[0m\u001b[0;34m:\u001b[0m\u001b[0;34m\u001b[0m\u001b[0;34m\u001b[0m\u001b[0m\n\u001b[1;32m    649\u001b[0m     \u001b[0;32mdef\u001b[0m \u001b[0mhttp_error_default\u001b[0m\u001b[0;34m(\u001b[0m\u001b[0mself\u001b[0m\u001b[0;34m,\u001b[0m \u001b[0mreq\u001b[0m\u001b[0;34m,\u001b[0m \u001b[0mfp\u001b[0m\u001b[0;34m,\u001b[0m \u001b[0mcode\u001b[0m\u001b[0;34m,\u001b[0m \u001b[0mmsg\u001b[0m\u001b[0;34m,\u001b[0m \u001b[0mhdrs\u001b[0m\u001b[0;34m)\u001b[0m\u001b[0;34m:\u001b[0m\u001b[0;34m\u001b[0m\u001b[0;34m\u001b[0m\u001b[0m\n\u001b[0;32m--> 650\u001b[0;31m         \u001b[0;32mraise\u001b[0m \u001b[0mHTTPError\u001b[0m\u001b[0;34m(\u001b[0m\u001b[0mreq\u001b[0m\u001b[0;34m.\u001b[0m\u001b[0mfull_url\u001b[0m\u001b[0;34m,\u001b[0m \u001b[0mcode\u001b[0m\u001b[0;34m,\u001b[0m \u001b[0mmsg\u001b[0m\u001b[0;34m,\u001b[0m \u001b[0mhdrs\u001b[0m\u001b[0;34m,\u001b[0m \u001b[0mfp\u001b[0m\u001b[0;34m)\u001b[0m\u001b[0;34m\u001b[0m\u001b[0;34m\u001b[0m\u001b[0m\n\u001b[0m\u001b[1;32m    651\u001b[0m \u001b[0;34m\u001b[0m\u001b[0m\n\u001b[1;32m    652\u001b[0m \u001b[0;32mclass\u001b[0m \u001b[0mHTTPRedirectHandler\u001b[0m\u001b[0;34m(\u001b[0m\u001b[0mBaseHandler\u001b[0m\u001b[0;34m)\u001b[0m\u001b[0;34m:\u001b[0m\u001b[0;34m\u001b[0m\u001b[0;34m\u001b[0m\u001b[0m\n",
      "\u001b[0;31mHTTPError\u001b[0m: HTTP Error 404: Not Found"
     ]
    }
   ],
   "source": [
    "soup = soupify(query)\n",
    "soup"
   ]
  },
  {
   "cell_type": "code",
   "execution_count": null,
   "metadata": {},
   "outputs": [],
   "source": [
    "class query:\n",
    "    def __init__(first, last):\n",
    "        self.base = f\"https://open.spotify.com/search/{first}%20{last}/profiles\""
   ]
  }
 ],
 "metadata": {
  "kernelspec": {
   "display_name": "Python 3",
   "language": "python",
   "name": "python3"
  },
  "language_info": {
   "codemirror_mode": {
    "name": "ipython",
    "version": 3
   },
   "file_extension": ".py",
   "mimetype": "text/x-python",
   "name": "python",
   "nbconvert_exporter": "python",
   "pygments_lexer": "ipython3",
   "version": "3.6.9"
  }
 },
 "nbformat": 4,
 "nbformat_minor": 4
}
